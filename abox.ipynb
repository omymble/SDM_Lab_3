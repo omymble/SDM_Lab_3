{
 "cells": [
  {
   "cell_type": "code",
   "execution_count": 13,
   "id": "ef40cdf1-631b-43d0-ab16-0e78f4aeb157",
   "metadata": {},
   "outputs": [],
   "source": [
    "import pandas as pd\n",
    "import random\n",
    "from rdflib.namespace import RDF, RDFS, FOAF, XSD\n",
    "from rdflib import Graph\n",
    "import pandas as pd\n",
    "from rdflib import Namespace\n",
    "from rdflib import Literal"
   ]
  },
  {
   "cell_type": "code",
   "execution_count": 24,
   "id": "42cc1b07-4420-4f3e-a0e9-1039cd201901",
   "metadata": {},
   "outputs": [],
   "source": [
    "authorsDF = pd.read_csv('data/authors.csv')\n",
    "authorsPapersDF = pd.read_csv('data/authorsPapers.csv')\n",
    "chairsDF = pd.read_csv('data/chairs.csv')\n",
    "conferencesDF = pd.read_csv('data/conferences.csv')\n",
    "editorsDF = pd.read_csv('data/editors.csv')\n",
    "subjectDomainDF = pd.read_csv('data/subjectDomain.csv')\n",
    "finalPapersDF = pd.read_csv('data/finalPapers.csv')\n",
    "journalsDF = pd.read_csv('data/journals.csv')\n",
    "papersDF = pd.read_csv('data/papers.csv')\n",
    "reviewersDF = pd.read_csv('data/reviewers.csv')\n",
    "reviewsDF = pd.read_csv('data/reviews.csv')\n",
    "subjectsPapersDF = pd.read_csv('data/subjectsPapers.csv')\n",
    "submittedPapersDF = pd.read_csv('data/submittedPapers.csv')"
   ]
  },
  {
   "cell_type": "code",
   "execution_count": 16,
   "id": "3bf0dcee-c82f-48a3-aad6-e97ed186481b",
   "metadata": {},
   "outputs": [
    {
     "data": {
      "text/html": [
       "<div>\n",
       "<style scoped>\n",
       "    .dataframe tbody tr th:only-of-type {\n",
       "        vertical-align: middle;\n",
       "    }\n",
       "\n",
       "    .dataframe tbody tr th {\n",
       "        vertical-align: top;\n",
       "    }\n",
       "\n",
       "    .dataframe thead th {\n",
       "        text-align: right;\n",
       "    }\n",
       "</style>\n",
       "<table border=\"1\" class=\"dataframe\">\n",
       "  <thead>\n",
       "    <tr style=\"text-align: right;\">\n",
       "      <th></th>\n",
       "      <th>aUrlId</th>\n",
       "      <th>pId</th>\n",
       "      <th>aId</th>\n",
       "      <th>aName</th>\n",
       "      <th>paperUrlId</th>\n",
       "      <th>conferenceJournalId</th>\n",
       "      <th>conferenceJournalTitle</th>\n",
       "      <th>pTitle</th>\n",
       "      <th>abstract</th>\n",
       "      <th>pType</th>\n",
       "    </tr>\n",
       "  </thead>\n",
       "  <tbody>\n",
       "    <tr>\n",
       "      <th>0</th>\n",
       "      <td>6391996</td>\n",
       "      <td>p0</td>\n",
       "      <td>a0</td>\n",
       "      <td>E. Bolyen</td>\n",
       "      <td>0c2d3b28d48426b8b72f7214a7708ba8b4efa9d6</td>\n",
       "      <td>j0</td>\n",
       "      <td>Nature Biotechnology</td>\n",
       "      <td>Reproducible, interactive, scalable and extens...</td>\n",
       "      <td>Abstract content goes here ...</td>\n",
       "      <td>shortPaper</td>\n",
       "    </tr>\n",
       "    <tr>\n",
       "      <th>1</th>\n",
       "      <td>6307534</td>\n",
       "      <td>p0</td>\n",
       "      <td>a1</td>\n",
       "      <td>J. Rideout</td>\n",
       "      <td>0c2d3b28d48426b8b72f7214a7708ba8b4efa9d6</td>\n",
       "      <td>j0</td>\n",
       "      <td>Nature Biotechnology</td>\n",
       "      <td>Reproducible, interactive, scalable and extens...</td>\n",
       "      <td>Abstract content goes here ...</td>\n",
       "      <td>shortPaper</td>\n",
       "    </tr>\n",
       "  </tbody>\n",
       "</table>\n",
       "</div>"
      ],
      "text/plain": [
       "    aUrlId pId aId       aName                                paperUrlId  \\\n",
       "0  6391996  p0  a0   E. Bolyen  0c2d3b28d48426b8b72f7214a7708ba8b4efa9d6   \n",
       "1  6307534  p0  a1  J. Rideout  0c2d3b28d48426b8b72f7214a7708ba8b4efa9d6   \n",
       "\n",
       "  conferenceJournalId conferenceJournalTitle  \\\n",
       "0                  j0   Nature Biotechnology   \n",
       "1                  j0   Nature Biotechnology   \n",
       "\n",
       "                                              pTitle  \\\n",
       "0  Reproducible, interactive, scalable and extens...   \n",
       "1  Reproducible, interactive, scalable and extens...   \n",
       "\n",
       "                         abstract       pType  \n",
       "0  Abstract content goes here ...  shortPaper  \n",
       "1  Abstract content goes here ...  shortPaper  "
      ]
     },
     "execution_count": 16,
     "metadata": {},
     "output_type": "execute_result"
    }
   ],
   "source": [
    "authorsPapersDF.head(2)"
   ]
  },
  {
   "cell_type": "code",
   "execution_count": 9,
   "id": "2e2c8de1-e5c6-4d58-98d1-911a63fdd9ed",
   "metadata": {},
   "outputs": [],
   "source": [
    "# Creating a graph\n",
    "graph = Graph()"
   ]
  },
  {
   "cell_type": "code",
   "execution_count": 10,
   "id": "2928df6f-bb95-4184-af98-309422fb1151",
   "metadata": {},
   "outputs": [],
   "source": [
    "# Create many URIRefs in the same namespace, i.e. URIs with the same prefix\n",
    "LAB = Namespace(\"http://SDM_LAB3.org/\")"
   ]
  },
  {
   "cell_type": "code",
   "execution_count": 11,
   "id": "21ad9e64-ace9-42be-b719-87a45f6f990a",
   "metadata": {},
   "outputs": [],
   "source": [
    "# Bind the lab namespace to a prefix for more readable output\n",
    "graph.bind('lab',LAB)"
   ]
  },
  {
   "cell_type": "markdown",
   "id": "1b1390ca-c0c9-4396-95f9-b861b7262746",
   "metadata": {
    "jp-MarkdownHeadingCollapsed": true,
    "tags": []
   },
   "source": [
    "#### Author -- [writes] --> Paper"
   ]
  },
  {
   "cell_type": "code",
   "execution_count": 33,
   "id": "fef757da-9acc-4d4e-b391-50063bcf6223",
   "metadata": {},
   "outputs": [
    {
     "data": {
      "text/html": [
       "<div>\n",
       "<style scoped>\n",
       "    .dataframe tbody tr th:only-of-type {\n",
       "        vertical-align: middle;\n",
       "    }\n",
       "\n",
       "    .dataframe tbody tr th {\n",
       "        vertical-align: top;\n",
       "    }\n",
       "\n",
       "    .dataframe thead th {\n",
       "        text-align: right;\n",
       "    }\n",
       "</style>\n",
       "<table border=\"1\" class=\"dataframe\">\n",
       "  <thead>\n",
       "    <tr style=\"text-align: right;\">\n",
       "      <th></th>\n",
       "      <th>aUrlId</th>\n",
       "      <th>pId</th>\n",
       "      <th>aId</th>\n",
       "      <th>aName</th>\n",
       "      <th>paperUrlId</th>\n",
       "      <th>conferenceJournalId</th>\n",
       "      <th>conferenceJournalTitle</th>\n",
       "      <th>pTitle</th>\n",
       "      <th>abstract</th>\n",
       "      <th>pType</th>\n",
       "    </tr>\n",
       "  </thead>\n",
       "  <tbody>\n",
       "    <tr>\n",
       "      <th>0</th>\n",
       "      <td>6391996</td>\n",
       "      <td>p0</td>\n",
       "      <td>a0</td>\n",
       "      <td>E. Bolyen</td>\n",
       "      <td>0c2d3b28d48426b8b72f7214a7708ba8b4efa9d6</td>\n",
       "      <td>j0</td>\n",
       "      <td>Nature Biotechnology</td>\n",
       "      <td>Reproducible, interactive, scalable and extens...</td>\n",
       "      <td>Abstract content goes here ...</td>\n",
       "      <td>shortPaper</td>\n",
       "    </tr>\n",
       "    <tr>\n",
       "      <th>1</th>\n",
       "      <td>6307534</td>\n",
       "      <td>p0</td>\n",
       "      <td>a1</td>\n",
       "      <td>J. Rideout</td>\n",
       "      <td>0c2d3b28d48426b8b72f7214a7708ba8b4efa9d6</td>\n",
       "      <td>j0</td>\n",
       "      <td>Nature Biotechnology</td>\n",
       "      <td>Reproducible, interactive, scalable and extens...</td>\n",
       "      <td>Abstract content goes here ...</td>\n",
       "      <td>shortPaper</td>\n",
       "    </tr>\n",
       "  </tbody>\n",
       "</table>\n",
       "</div>"
      ],
      "text/plain": [
       "    aUrlId pId aId       aName                                paperUrlId  \\\n",
       "0  6391996  p0  a0   E. Bolyen  0c2d3b28d48426b8b72f7214a7708ba8b4efa9d6   \n",
       "1  6307534  p0  a1  J. Rideout  0c2d3b28d48426b8b72f7214a7708ba8b4efa9d6   \n",
       "\n",
       "  conferenceJournalId conferenceJournalTitle  \\\n",
       "0                  j0   Nature Biotechnology   \n",
       "1                  j0   Nature Biotechnology   \n",
       "\n",
       "                                              pTitle  \\\n",
       "0  Reproducible, interactive, scalable and extens...   \n",
       "1  Reproducible, interactive, scalable and extens...   \n",
       "\n",
       "                         abstract       pType  \n",
       "0  Abstract content goes here ...  shortPaper  \n",
       "1  Abstract content goes here ...  shortPaper  "
      ]
     },
     "execution_count": 33,
     "metadata": {},
     "output_type": "execute_result"
    }
   ],
   "source": [
    "authorsPapersDF.head(2)"
   ]
  },
  {
   "cell_type": "code",
   "execution_count": 17,
   "id": "c2013096-0894-4b10-b506-2a5031d9d98c",
   "metadata": {},
   "outputs": [],
   "source": [
    "# Adding author--[writes]--> paper instances to the graph\n",
    "g.add((LAB.Author, LAB.writes, LAB.Paper))   \n",
    "for k in range(len(authorsPapersDF['aName'])):\n",
    "    g.add((Literal(authorsPapersDF['aName'][k]), LAB.writes, Literal(authorsPapersDF['pTitle'][k])))"
   ]
  },
  {
   "cell_type": "markdown",
   "id": "9797483d-f53e-47a0-8491-dc695d12ef48",
   "metadata": {
    "jp-MarkdownHeadingCollapsed": true,
    "tags": []
   },
   "source": [
    "#### Paper -- [submitted] --> SubmittedPaper"
   ]
  },
  {
   "cell_type": "code",
   "execution_count": 32,
   "id": "c9e37176-9458-484a-a92f-fce09b374e50",
   "metadata": {},
   "outputs": [
    {
     "data": {
      "text/html": [
       "<div>\n",
       "<style scoped>\n",
       "    .dataframe tbody tr th:only-of-type {\n",
       "        vertical-align: middle;\n",
       "    }\n",
       "\n",
       "    .dataframe tbody tr th {\n",
       "        vertical-align: top;\n",
       "    }\n",
       "\n",
       "    .dataframe thead th {\n",
       "        text-align: right;\n",
       "    }\n",
       "</style>\n",
       "<table border=\"1\" class=\"dataframe\">\n",
       "  <thead>\n",
       "    <tr style=\"text-align: right;\">\n",
       "      <th></th>\n",
       "      <th>sId</th>\n",
       "      <th>pId</th>\n",
       "      <th>pTitle</th>\n",
       "      <th>abstract</th>\n",
       "      <th>conferenceJournalId</th>\n",
       "      <th>conferenceJournalTitle</th>\n",
       "      <th>decision</th>\n",
       "    </tr>\n",
       "  </thead>\n",
       "  <tbody>\n",
       "    <tr>\n",
       "      <th>0</th>\n",
       "      <td>s0</td>\n",
       "      <td>p0</td>\n",
       "      <td>Reproducible, interactive, scalable and extens...</td>\n",
       "      <td>Abstract content goes here ...</td>\n",
       "      <td>j0</td>\n",
       "      <td>Nature Biotechnology</td>\n",
       "      <td>accepted</td>\n",
       "    </tr>\n",
       "    <tr>\n",
       "      <th>1</th>\n",
       "      <td>s1</td>\n",
       "      <td>p1</td>\n",
       "      <td>High-Dimensional Probability: An Introduction ...</td>\n",
       "      <td>© 2018, Cambridge University Press Let us summ...</td>\n",
       "      <td>c90</td>\n",
       "      <td>Computer Vision and Pattern Recognition</td>\n",
       "      <td>accepted</td>\n",
       "    </tr>\n",
       "  </tbody>\n",
       "</table>\n",
       "</div>"
      ],
      "text/plain": [
       "  sId pId                                             pTitle  \\\n",
       "0  s0  p0  Reproducible, interactive, scalable and extens...   \n",
       "1  s1  p1  High-Dimensional Probability: An Introduction ...   \n",
       "\n",
       "                                            abstract conferenceJournalId  \\\n",
       "0                     Abstract content goes here ...                  j0   \n",
       "1  © 2018, Cambridge University Press Let us summ...                 c90   \n",
       "\n",
       "                    conferenceJournalTitle  decision  \n",
       "0                     Nature Biotechnology  accepted  \n",
       "1  Computer Vision and Pattern Recognition  accepted  "
      ]
     },
     "execution_count": 32,
     "metadata": {},
     "output_type": "execute_result"
    }
   ],
   "source": [
    "submittedPapersDF.head(2)"
   ]
  },
  {
   "cell_type": "code",
   "execution_count": 41,
   "id": "1353ac7b-6fb0-47c1-b6c2-1012a94ecbdb",
   "metadata": {},
   "outputs": [],
   "source": [
    "# Adding paper--[submitted]--> submittedPaper instances to the graph\n",
    "g.add((LAB.Paper, LAB.submitted, LAB.SubmittedPaper))   \n",
    "for k in range(len(submittedPapersDF['pTitle'])):\n",
    "    g.add((Literal(submittedPapersDF['pTitle'][k]), LAB.writes, Literal(submittedPapersDF['pTitle'][k])))"
   ]
  },
  {
   "cell_type": "markdown",
   "id": "1c972a0d-88c4-4dca-b4c3-4a8e0440a1a5",
   "metadata": {
    "jp-MarkdownHeadingCollapsed": true,
    "tags": []
   },
   "source": [
    "#### Paper -- [paperRelatedTo] --> SubjectDomain"
   ]
  },
  {
   "cell_type": "code",
   "execution_count": 42,
   "id": "87167708-9643-4b93-ba3a-0d012e45bacd",
   "metadata": {},
   "outputs": [
    {
     "data": {
      "text/html": [
       "<div>\n",
       "<style scoped>\n",
       "    .dataframe tbody tr th:only-of-type {\n",
       "        vertical-align: middle;\n",
       "    }\n",
       "\n",
       "    .dataframe tbody tr th {\n",
       "        vertical-align: top;\n",
       "    }\n",
       "\n",
       "    .dataframe thead th {\n",
       "        text-align: right;\n",
       "    }\n",
       "</style>\n",
       "<table border=\"1\" class=\"dataframe\">\n",
       "  <thead>\n",
       "    <tr style=\"text-align: right;\">\n",
       "      <th></th>\n",
       "      <th>subjectDomainName</th>\n",
       "      <th>pId</th>\n",
       "      <th>dId</th>\n",
       "      <th>paperUrlId</th>\n",
       "      <th>conferenceJournalId</th>\n",
       "      <th>conferenceJournalTitle</th>\n",
       "      <th>pTitle</th>\n",
       "      <th>abstract</th>\n",
       "      <th>pType</th>\n",
       "    </tr>\n",
       "  </thead>\n",
       "  <tbody>\n",
       "    <tr>\n",
       "      <th>0</th>\n",
       "      <td>Engineering</td>\n",
       "      <td>p0</td>\n",
       "      <td>d0</td>\n",
       "      <td>0c2d3b28d48426b8b72f7214a7708ba8b4efa9d6</td>\n",
       "      <td>j0</td>\n",
       "      <td>Nature Biotechnology</td>\n",
       "      <td>Reproducible, interactive, scalable and extens...</td>\n",
       "      <td>Abstract content goes here ...</td>\n",
       "      <td>shortPaper</td>\n",
       "    </tr>\n",
       "    <tr>\n",
       "      <th>1</th>\n",
       "      <td>Medicine</td>\n",
       "      <td>p0</td>\n",
       "      <td>d1</td>\n",
       "      <td>0c2d3b28d48426b8b72f7214a7708ba8b4efa9d6</td>\n",
       "      <td>j0</td>\n",
       "      <td>Nature Biotechnology</td>\n",
       "      <td>Reproducible, interactive, scalable and extens...</td>\n",
       "      <td>Abstract content goes here ...</td>\n",
       "      <td>shortPaper</td>\n",
       "    </tr>\n",
       "  </tbody>\n",
       "</table>\n",
       "</div>"
      ],
      "text/plain": [
       "  subjectDomainName pId dId                                paperUrlId  \\\n",
       "0       Engineering  p0  d0  0c2d3b28d48426b8b72f7214a7708ba8b4efa9d6   \n",
       "1          Medicine  p0  d1  0c2d3b28d48426b8b72f7214a7708ba8b4efa9d6   \n",
       "\n",
       "  conferenceJournalId conferenceJournalTitle  \\\n",
       "0                  j0   Nature Biotechnology   \n",
       "1                  j0   Nature Biotechnology   \n",
       "\n",
       "                                              pTitle  \\\n",
       "0  Reproducible, interactive, scalable and extens...   \n",
       "1  Reproducible, interactive, scalable and extens...   \n",
       "\n",
       "                         abstract       pType  \n",
       "0  Abstract content goes here ...  shortPaper  \n",
       "1  Abstract content goes here ...  shortPaper  "
      ]
     },
     "execution_count": 42,
     "metadata": {},
     "output_type": "execute_result"
    }
   ],
   "source": [
    "subjectsPapersDF.head(2)"
   ]
  },
  {
   "cell_type": "code",
   "execution_count": 30,
   "id": "f792e2e0-7d43-4106-90dc-4a65924c325d",
   "metadata": {},
   "outputs": [],
   "source": [
    "# Adding paper--[paperRelatedTo]--> subjectDomain instances to the graph\n",
    "g.add((LAB.Paper, LAB.paperRelatedTo, LAB.SubjectArea))\n",
    "for k in range(len(subjectsPapersDF['pTitle'])):\n",
    "    g.add((Literal(subjectsPapersDF['pTitle'][k]), LAB.paperRelatedTo, Literal(subjectsPapersDF['subjectDomainName'][k])))"
   ]
  },
  {
   "cell_type": "markdown",
   "id": "3874779f-fdc6-4b55-a683-ba25b1e7abbd",
   "metadata": {
    "jp-MarkdownHeadingCollapsed": true,
    "tags": []
   },
   "source": [
    "#### Conference -- [isIn] --> Proceedings"
   ]
  },
  {
   "cell_type": "code",
   "execution_count": 35,
   "id": "18af125d-c586-4363-9ee4-125d6c4c0734",
   "metadata": {},
   "outputs": [
    {
     "data": {
      "text/html": [
       "<div>\n",
       "<style scoped>\n",
       "    .dataframe tbody tr th:only-of-type {\n",
       "        vertical-align: middle;\n",
       "    }\n",
       "\n",
       "    .dataframe tbody tr th {\n",
       "        vertical-align: top;\n",
       "    }\n",
       "\n",
       "    .dataframe thead th {\n",
       "        text-align: right;\n",
       "    }\n",
       "</style>\n",
       "<table border=\"1\" class=\"dataframe\">\n",
       "  <thead>\n",
       "    <tr style=\"text-align: right;\">\n",
       "      <th></th>\n",
       "      <th>cId</th>\n",
       "      <th>cUrlId</th>\n",
       "      <th>cTitle</th>\n",
       "      <th>cType</th>\n",
       "      <th>cProceedings</th>\n",
       "    </tr>\n",
       "  </thead>\n",
       "  <tbody>\n",
       "    <tr>\n",
       "      <th>0</th>\n",
       "      <td>c0</td>\n",
       "      <td>b55b50b1-aae7-47a7-b042-8aecc930073d</td>\n",
       "      <td>International Conference on Human Factors in C...</td>\n",
       "      <td>symposium</td>\n",
       "      <td>10</td>\n",
       "    </tr>\n",
       "    <tr>\n",
       "      <th>1</th>\n",
       "      <td>c1</td>\n",
       "      <td>2c9ecac6-f875-4a9b-acc2-10bd9f6782df</td>\n",
       "      <td>Technical Symposium on Computer Science Education</td>\n",
       "      <td>workshop</td>\n",
       "      <td>1</td>\n",
       "    </tr>\n",
       "  </tbody>\n",
       "</table>\n",
       "</div>"
      ],
      "text/plain": [
       "  cId                                cUrlId  \\\n",
       "0  c0  b55b50b1-aae7-47a7-b042-8aecc930073d   \n",
       "1  c1  2c9ecac6-f875-4a9b-acc2-10bd9f6782df   \n",
       "\n",
       "                                              cTitle      cType  cProceedings  \n",
       "0  International Conference on Human Factors in C...  symposium            10  \n",
       "1  Technical Symposium on Computer Science Education   workshop             1  "
      ]
     },
     "execution_count": 35,
     "metadata": {},
     "output_type": "execute_result"
    }
   ],
   "source": [
    "conferencesDF.head(2)"
   ]
  },
  {
   "cell_type": "code",
   "execution_count": 36,
   "id": "657c663e-48b8-481c-afc2-756df8d4d9cd",
   "metadata": {},
   "outputs": [],
   "source": [
    "# Adding conference--[isIn]--> proceedings instances to the graph\n",
    "g.add((LAB.Conference, LAB.isIn, LAB.Proceedings))\n",
    "for k in range(len(conferencesDF['cTitle'])):\n",
    "    g.add((Literal(conferencesDF['cTitle'][k]), LAB.isIn, Literal(conferencesDF['cProceedings'][k])))"
   ]
  },
  {
   "cell_type": "markdown",
   "id": "90aeb02a-49a0-4380-b710-1eb7081172db",
   "metadata": {
    "jp-MarkdownHeadingCollapsed": true,
    "tags": []
   },
   "source": [
    "#### Journal -- [isOf] --> Volume"
   ]
  },
  {
   "cell_type": "code",
   "execution_count": 37,
   "id": "b2344ff8-310d-4781-a6d2-a6b709499fc8",
   "metadata": {},
   "outputs": [
    {
     "data": {
      "text/html": [
       "<div>\n",
       "<style scoped>\n",
       "    .dataframe tbody tr th:only-of-type {\n",
       "        vertical-align: middle;\n",
       "    }\n",
       "\n",
       "    .dataframe tbody tr th {\n",
       "        vertical-align: top;\n",
       "    }\n",
       "\n",
       "    .dataframe thead th {\n",
       "        text-align: right;\n",
       "    }\n",
       "</style>\n",
       "<table border=\"1\" class=\"dataframe\">\n",
       "  <thead>\n",
       "    <tr style=\"text-align: right;\">\n",
       "      <th></th>\n",
       "      <th>jId</th>\n",
       "      <th>jUrlId</th>\n",
       "      <th>jTitle</th>\n",
       "      <th>jVolumes</th>\n",
       "    </tr>\n",
       "  </thead>\n",
       "  <tbody>\n",
       "    <tr>\n",
       "      <th>0</th>\n",
       "      <td>j0</td>\n",
       "      <td>458166b3-de17-4bf3-bbbb-e53782de2f0f</td>\n",
       "      <td>Nature Biotechnology</td>\n",
       "      <td>4</td>\n",
       "    </tr>\n",
       "    <tr>\n",
       "      <th>1</th>\n",
       "      <td>j1</td>\n",
       "      <td>c6840156-ee10-4d78-8832-7f8909811576</td>\n",
       "      <td>IEEE Transactions on Knowledge and Data Engine...</td>\n",
       "      <td>0</td>\n",
       "    </tr>\n",
       "  </tbody>\n",
       "</table>\n",
       "</div>"
      ],
      "text/plain": [
       "  jId                                jUrlId  \\\n",
       "0  j0  458166b3-de17-4bf3-bbbb-e53782de2f0f   \n",
       "1  j1  c6840156-ee10-4d78-8832-7f8909811576   \n",
       "\n",
       "                                              jTitle  jVolumes  \n",
       "0                               Nature Biotechnology         4  \n",
       "1  IEEE Transactions on Knowledge and Data Engine...         0  "
      ]
     },
     "execution_count": 37,
     "metadata": {},
     "output_type": "execute_result"
    }
   ],
   "source": [
    "journalsDF.head(2)"
   ]
  },
  {
   "cell_type": "code",
   "execution_count": 39,
   "id": "4c54163b-0f45-4a4c-90d2-7b0f2f62db2e",
   "metadata": {},
   "outputs": [],
   "source": [
    "# Adding journal--[isOf]--> volume instances to the graph\n",
    "g.add((LAB.Journal, LAB.isOf, LAB.Volume))\n",
    "for k in range(len(journalsDF['jTitle'])):\n",
    "    g.add((Literal(journalsDF['jTitle'][k]), LAB.isOf, Literal(journalsDF['jVolumes'][k])))"
   ]
  },
  {
   "cell_type": "markdown",
   "id": "a59422b7-0024-45e7-9ba3-e2de51604347",
   "metadata": {
    "jp-MarkdownHeadingCollapsed": true,
    "tags": []
   },
   "source": [
    "#### SubmittedPaper -- [isSubmittedTo] --> Venue"
   ]
  },
  {
   "cell_type": "code",
   "execution_count": 40,
   "id": "21a36379-aaf1-445a-826b-e05db00cbb76",
   "metadata": {},
   "outputs": [
    {
     "data": {
      "text/html": [
       "<div>\n",
       "<style scoped>\n",
       "    .dataframe tbody tr th:only-of-type {\n",
       "        vertical-align: middle;\n",
       "    }\n",
       "\n",
       "    .dataframe tbody tr th {\n",
       "        vertical-align: top;\n",
       "    }\n",
       "\n",
       "    .dataframe thead th {\n",
       "        text-align: right;\n",
       "    }\n",
       "</style>\n",
       "<table border=\"1\" class=\"dataframe\">\n",
       "  <thead>\n",
       "    <tr style=\"text-align: right;\">\n",
       "      <th></th>\n",
       "      <th>sId</th>\n",
       "      <th>pId</th>\n",
       "      <th>pTitle</th>\n",
       "      <th>abstract</th>\n",
       "      <th>conferenceJournalId</th>\n",
       "      <th>conferenceJournalTitle</th>\n",
       "      <th>decision</th>\n",
       "    </tr>\n",
       "  </thead>\n",
       "  <tbody>\n",
       "    <tr>\n",
       "      <th>0</th>\n",
       "      <td>s0</td>\n",
       "      <td>p0</td>\n",
       "      <td>Reproducible, interactive, scalable and extens...</td>\n",
       "      <td>Abstract content goes here ...</td>\n",
       "      <td>j0</td>\n",
       "      <td>Nature Biotechnology</td>\n",
       "      <td>accepted</td>\n",
       "    </tr>\n",
       "    <tr>\n",
       "      <th>1</th>\n",
       "      <td>s1</td>\n",
       "      <td>p1</td>\n",
       "      <td>High-Dimensional Probability: An Introduction ...</td>\n",
       "      <td>© 2018, Cambridge University Press Let us summ...</td>\n",
       "      <td>c90</td>\n",
       "      <td>Computer Vision and Pattern Recognition</td>\n",
       "      <td>accepted</td>\n",
       "    </tr>\n",
       "  </tbody>\n",
       "</table>\n",
       "</div>"
      ],
      "text/plain": [
       "  sId pId                                             pTitle  \\\n",
       "0  s0  p0  Reproducible, interactive, scalable and extens...   \n",
       "1  s1  p1  High-Dimensional Probability: An Introduction ...   \n",
       "\n",
       "                                            abstract conferenceJournalId  \\\n",
       "0                     Abstract content goes here ...                  j0   \n",
       "1  © 2018, Cambridge University Press Let us summ...                 c90   \n",
       "\n",
       "                    conferenceJournalTitle  decision  \n",
       "0                     Nature Biotechnology  accepted  \n",
       "1  Computer Vision and Pattern Recognition  accepted  "
      ]
     },
     "execution_count": 40,
     "metadata": {},
     "output_type": "execute_result"
    }
   ],
   "source": [
    "submittedPapersDF.head(2)"
   ]
  },
  {
   "cell_type": "code",
   "execution_count": 43,
   "id": "e91afd7a-2777-4de0-bd02-401a69cac45d",
   "metadata": {},
   "outputs": [],
   "source": [
    "# Adding submittedPaper--[isSubmittedTo]--> venue instances to the graph\n",
    "g.add((LAB.SubmittedPaper, LAB.isSubmittedTo, LAB.Venue))\n",
    "for k in range(len(submittedPapersDF['pTitle'])):\n",
    "    g.add((Literal(submittedPapersDF['pTitle'][k]), LAB.isSubmittedTo, Literal(submittedPapersDF['conferenceJournalTitle'][k])))"
   ]
  },
  {
   "cell_type": "markdown",
   "id": "baca24ed-ef70-4c39-af69-3e3deeb02331",
   "metadata": {
    "jp-MarkdownHeadingCollapsed": true,
    "tags": []
   },
   "source": [
    "#### SubmittedPaper -- [isAs] --> FinalPaper"
   ]
  },
  {
   "cell_type": "code",
   "execution_count": 45,
   "id": "a54191d2-ea53-482e-a92a-77a58c8f01e3",
   "metadata": {},
   "outputs": [
    {
     "data": {
      "text/html": [
       "<div>\n",
       "<style scoped>\n",
       "    .dataframe tbody tr th:only-of-type {\n",
       "        vertical-align: middle;\n",
       "    }\n",
       "\n",
       "    .dataframe tbody tr th {\n",
       "        vertical-align: top;\n",
       "    }\n",
       "\n",
       "    .dataframe thead th {\n",
       "        text-align: right;\n",
       "    }\n",
       "</style>\n",
       "<table border=\"1\" class=\"dataframe\">\n",
       "  <thead>\n",
       "    <tr style=\"text-align: right;\">\n",
       "      <th></th>\n",
       "      <th>sId</th>\n",
       "      <th>pId</th>\n",
       "      <th>pTitle</th>\n",
       "      <th>abstract</th>\n",
       "      <th>conferenceJournalId</th>\n",
       "      <th>conferenceJournalTitle</th>\n",
       "      <th>decision</th>\n",
       "      <th>fId</th>\n",
       "    </tr>\n",
       "  </thead>\n",
       "  <tbody>\n",
       "    <tr>\n",
       "      <th>0</th>\n",
       "      <td>s0</td>\n",
       "      <td>p0</td>\n",
       "      <td>Reproducible, interactive, scalable and extens...</td>\n",
       "      <td>Abstract content goes here ...</td>\n",
       "      <td>j0</td>\n",
       "      <td>Nature Biotechnology</td>\n",
       "      <td>accepted</td>\n",
       "      <td>f0</td>\n",
       "    </tr>\n",
       "    <tr>\n",
       "      <th>1</th>\n",
       "      <td>s1</td>\n",
       "      <td>p1</td>\n",
       "      <td>High-Dimensional Probability: An Introduction ...</td>\n",
       "      <td>© 2018, Cambridge University Press Let us summ...</td>\n",
       "      <td>c90</td>\n",
       "      <td>Computer Vision and Pattern Recognition</td>\n",
       "      <td>accepted</td>\n",
       "      <td>f1</td>\n",
       "    </tr>\n",
       "  </tbody>\n",
       "</table>\n",
       "</div>"
      ],
      "text/plain": [
       "  sId pId                                             pTitle  \\\n",
       "0  s0  p0  Reproducible, interactive, scalable and extens...   \n",
       "1  s1  p1  High-Dimensional Probability: An Introduction ...   \n",
       "\n",
       "                                            abstract conferenceJournalId  \\\n",
       "0                     Abstract content goes here ...                  j0   \n",
       "1  © 2018, Cambridge University Press Let us summ...                 c90   \n",
       "\n",
       "                    conferenceJournalTitle  decision fId  \n",
       "0                     Nature Biotechnology  accepted  f0  \n",
       "1  Computer Vision and Pattern Recognition  accepted  f1  "
      ]
     },
     "execution_count": 45,
     "metadata": {},
     "output_type": "execute_result"
    }
   ],
   "source": [
    "finalPapersDF.head(2)"
   ]
  },
  {
   "cell_type": "code",
   "execution_count": 46,
   "id": "c87dd086-160d-4f18-a787-621f5c950456",
   "metadata": {},
   "outputs": [],
   "source": [
    "# Adding submittedPaper--[isAs]--> finalPaper instances to the graph\n",
    "g.add((LAB.SubmittedPaper, LAB.isAs, LAB.FinalPaper))\n",
    "for k in range(len(finalPapersDF['pTitle'])):\n",
    "    g.add((Literal(finalPapersDF['pTitle'][k]), LAB.isAs, Literal(finalPapersDF['pTitle'][k])))"
   ]
  },
  {
   "cell_type": "markdown",
   "id": "397098bc-1271-4535-bdd1-173c4cbcbc44",
   "metadata": {},
   "source": [
    "#### FinalPaper -- [isPublishedInConference] --> Proceedings & FinalPaper -- [isPublishedInJournal] --> Volume"
   ]
  },
  {
   "cell_type": "code",
   "execution_count": 47,
   "id": "5fb7eb61-8b82-40b5-b69b-bac94a956403",
   "metadata": {},
   "outputs": [
    {
     "data": {
      "text/html": [
       "<div>\n",
       "<style scoped>\n",
       "    .dataframe tbody tr th:only-of-type {\n",
       "        vertical-align: middle;\n",
       "    }\n",
       "\n",
       "    .dataframe tbody tr th {\n",
       "        vertical-align: top;\n",
       "    }\n",
       "\n",
       "    .dataframe thead th {\n",
       "        text-align: right;\n",
       "    }\n",
       "</style>\n",
       "<table border=\"1\" class=\"dataframe\">\n",
       "  <thead>\n",
       "    <tr style=\"text-align: right;\">\n",
       "      <th></th>\n",
       "      <th>sId</th>\n",
       "      <th>pId</th>\n",
       "      <th>pTitle</th>\n",
       "      <th>abstract</th>\n",
       "      <th>conferenceJournalId</th>\n",
       "      <th>conferenceJournalTitle</th>\n",
       "      <th>decision</th>\n",
       "      <th>fId</th>\n",
       "    </tr>\n",
       "  </thead>\n",
       "  <tbody>\n",
       "    <tr>\n",
       "      <th>0</th>\n",
       "      <td>s0</td>\n",
       "      <td>p0</td>\n",
       "      <td>Reproducible, interactive, scalable and extens...</td>\n",
       "      <td>Abstract content goes here ...</td>\n",
       "      <td>j0</td>\n",
       "      <td>Nature Biotechnology</td>\n",
       "      <td>accepted</td>\n",
       "      <td>f0</td>\n",
       "    </tr>\n",
       "    <tr>\n",
       "      <th>1</th>\n",
       "      <td>s1</td>\n",
       "      <td>p1</td>\n",
       "      <td>High-Dimensional Probability: An Introduction ...</td>\n",
       "      <td>© 2018, Cambridge University Press Let us summ...</td>\n",
       "      <td>c90</td>\n",
       "      <td>Computer Vision and Pattern Recognition</td>\n",
       "      <td>accepted</td>\n",
       "      <td>f1</td>\n",
       "    </tr>\n",
       "  </tbody>\n",
       "</table>\n",
       "</div>"
      ],
      "text/plain": [
       "  sId pId                                             pTitle  \\\n",
       "0  s0  p0  Reproducible, interactive, scalable and extens...   \n",
       "1  s1  p1  High-Dimensional Probability: An Introduction ...   \n",
       "\n",
       "                                            abstract conferenceJournalId  \\\n",
       "0                     Abstract content goes here ...                  j0   \n",
       "1  © 2018, Cambridge University Press Let us summ...                 c90   \n",
       "\n",
       "                    conferenceJournalTitle  decision fId  \n",
       "0                     Nature Biotechnology  accepted  f0  \n",
       "1  Computer Vision and Pattern Recognition  accepted  f1  "
      ]
     },
     "execution_count": 47,
     "metadata": {},
     "output_type": "execute_result"
    }
   ],
   "source": [
    "finalPapersDF.head(2)"
   ]
  },
  {
   "cell_type": "code",
   "execution_count": 48,
   "id": "b419371a-94ed-4324-afd5-e348bc41bc91",
   "metadata": {},
   "outputs": [
    {
     "data": {
      "text/html": [
       "<div>\n",
       "<style scoped>\n",
       "    .dataframe tbody tr th:only-of-type {\n",
       "        vertical-align: middle;\n",
       "    }\n",
       "\n",
       "    .dataframe tbody tr th {\n",
       "        vertical-align: top;\n",
       "    }\n",
       "\n",
       "    .dataframe thead th {\n",
       "        text-align: right;\n",
       "    }\n",
       "</style>\n",
       "<table border=\"1\" class=\"dataframe\">\n",
       "  <thead>\n",
       "    <tr style=\"text-align: right;\">\n",
       "      <th></th>\n",
       "      <th>cId</th>\n",
       "      <th>cUrlId</th>\n",
       "      <th>cTitle</th>\n",
       "      <th>cType</th>\n",
       "      <th>cProceedings</th>\n",
       "    </tr>\n",
       "  </thead>\n",
       "  <tbody>\n",
       "    <tr>\n",
       "      <th>0</th>\n",
       "      <td>c0</td>\n",
       "      <td>b55b50b1-aae7-47a7-b042-8aecc930073d</td>\n",
       "      <td>International Conference on Human Factors in C...</td>\n",
       "      <td>symposium</td>\n",
       "      <td>10</td>\n",
       "    </tr>\n",
       "    <tr>\n",
       "      <th>1</th>\n",
       "      <td>c1</td>\n",
       "      <td>2c9ecac6-f875-4a9b-acc2-10bd9f6782df</td>\n",
       "      <td>Technical Symposium on Computer Science Education</td>\n",
       "      <td>workshop</td>\n",
       "      <td>1</td>\n",
       "    </tr>\n",
       "  </tbody>\n",
       "</table>\n",
       "</div>"
      ],
      "text/plain": [
       "  cId                                cUrlId  \\\n",
       "0  c0  b55b50b1-aae7-47a7-b042-8aecc930073d   \n",
       "1  c1  2c9ecac6-f875-4a9b-acc2-10bd9f6782df   \n",
       "\n",
       "                                              cTitle      cType  cProceedings  \n",
       "0  International Conference on Human Factors in C...  symposium            10  \n",
       "1  Technical Symposium on Computer Science Education   workshop             1  "
      ]
     },
     "execution_count": 48,
     "metadata": {},
     "output_type": "execute_result"
    }
   ],
   "source": [
    "conferencesDF.head(2)"
   ]
  },
  {
   "cell_type": "code",
   "execution_count": null,
   "id": "cfde65f2-c0f4-4387-8b47-c838de896810",
   "metadata": {},
   "outputs": [],
   "source": [
    "# Adding FinalPaper -- [isPublishedInConference] --> Proceedings & FinalPaper -- [isPublishedInJournal] --> Volume instances to the graph\n",
    "g.add((LAB.FinalPaper, LAB.isPublishedInConference, LAB.Proceedings))\n",
    "g.add((LAB.FinalPaper, LAB.isPublishedInJournal, LAB.Volume))\n",
    "for k in range(len(finalPapersDF['pTitle'])):\n",
    "    if finalPapersDF['conferenceJournalId'][k][0] == 'c':\n",
    "        g.add((Literal(finalPapersDF['pTitle'][k]), LAB.isPublishedInConference, Literal(Proceedings['pTitle'][k])))\n",
    "    else:\n",
    "        g.add((Literal(finalPapersDF['pTitle'][k]), LAB.isPublishedInJournal, Literal(finalPapersDF['pTitle'][k])))"
   ]
  },
  {
   "cell_type": "code",
   "execution_count": null,
   "id": "f80f9cec-273e-4fa0-ae4f-428edd27b98f",
   "metadata": {},
   "outputs": [],
   "source": [
    "\n",
    "\n",
    "\n",
    "g.add((KG.Journal, KG.JournalRelatedTo, KG.SubjectArea))\n",
    "for k in range(len(Journal_Keyword['keyword'])):\n",
    "    g.add((Literal(Journal_Keyword['journal'][k]), KG.JournalRelatedTo, Literal(Journal_Keyword['keyword'][k])))\n",
    "\n",
    "g.add((KG.Conference, KG.ConferenceRelatedTo, KG.SubjectArea))\n",
    "for k in range(len(Paper_volume['keyword'])):\n",
    "    g.add((Literal(Paper_volume['conference'][k]), KG.ConferenceRelatedTo, Literal(Paper_volume['keyword'][k])))\n",
    "\n",
    "\n",
    "g.add((KG.Reviewer, KG.decided, KG.Decision))\n",
    "for k in range(len(Review_Papers['name'])):\n",
    "    g.add((Literal(Review_Papers['name'][k]), KG.decided, Literal(Review_Papers['decision'][k])))\n",
    "\n",
    "\n",
    "g.add((KG.Conference, KG.handledBy, KG.Chair))\n",
    "g.add((KG.Journal, KG.handledBy, KG.Editor))\n",
    "for k in range(len(Editor_Chair['conference'])):\n",
    "    if Editor_Chair['confjournal'][k] == 'Conference':\n",
    "        g.add((Literal(Editor_Chair['conference'][k]), KG.handledBy, Literal(Editor_Chair['name'][k])))\n",
    "    else:\n",
    "        g.add((Literal(Editor_Chair['journal'][k]), KG.handledBy, Literal(Editor_Chair['name'][k])))\n",
    "        \n",
    "#Not resonable       \n",
    "g.add((KG.Chair, KG.assigned, KG.Reviewer))\n",
    "g.add((KG.Editor, KG.assigned, KG.Reviewer))\n",
    "for k in range(len(Editor_Chair['conference'])):\n",
    "    if Editor_Chair['confjournal'][k] == 'Conference':\n",
    "        g.add((Literal(Editor_Chair['name'][k]), KG.assigned, Literal(Editor_Chair['name'][k])))\n",
    "    else:\n",
    "        g.add((Literal(Editor_Chair['name'][k]), KG.assigned, Literal(Editor_Chair['name'][k])))\n",
    "        \n",
    "#g.add((KG.Reviewer, KG.reviewed, KG.Submission))\n",
    "#g.add((Literal(Editor_Chair['name'][k]), KG.reviewed, Literal(int(Editor_Chair['date_y'][k]))))\n",
    "\n",
    "g.serialize(destination=f'/home/vladka/Downloads/output/ABOX.ttl')"
   ]
  }
 ],
 "metadata": {
  "kernelspec": {
   "display_name": "Python 3 (ipykernel)",
   "language": "python",
   "name": "python3"
  },
  "language_info": {
   "codemirror_mode": {
    "name": "ipython",
    "version": 3
   },
   "file_extension": ".py",
   "mimetype": "text/x-python",
   "name": "python",
   "nbconvert_exporter": "python",
   "pygments_lexer": "ipython3",
   "version": "3.9.6"
  }
 },
 "nbformat": 4,
 "nbformat_minor": 5
}
