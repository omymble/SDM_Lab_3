{
 "cells": [
  {
   "cell_type": "code",
   "execution_count": 1,
   "id": "ef40cdf1-631b-43d0-ab16-0e78f4aeb157",
   "metadata": {},
   "outputs": [],
   "source": [
    "# Importing necessary libraries and modules\n",
    "import pandas as pd\n",
    "import random\n",
    "from rdflib.namespace import RDF, RDFS, FOAF, XSD, URIRef\n",
    "from rdflib import Graph\n",
    "import pandas as pd\n",
    "from rdflib import Namespace\n",
    "from rdflib import Literal"
   ]
  },
  {
   "cell_type": "code",
   "execution_count": 2,
   "id": "42cc1b07-4420-4f3e-a0e9-1039cd201901",
   "metadata": {},
   "outputs": [],
   "source": [
    "# Importing necessary files\n",
    "authorsDF = pd.read_csv('data/authors.csv')\n",
    "authorsPapersDF = pd.read_csv('data/authorsPapers.csv')\n",
    "chairsDF = pd.read_csv('data/chairs.csv')\n",
    "conferencesDF = pd.read_csv('data/conferences.csv')\n",
    "conferenceProceedingsDF = pd.read_csv('data/conferenceProceedings.csv')\n",
    "editorsDF = pd.read_csv('data/editors.csv')\n",
    "handlerReviewersDF = pd.read_csv('data/handlerReviewers.csv')\n",
    "finalPapersDF = pd.read_csv('data/finalPapers.csv')\n",
    "journalsDF = pd.read_csv('data/journals.csv')\n",
    "journalVolumesDF = pd.read_csv('data/journalVolumes.csv')\n",
    "papersDF = pd.read_csv('data/papers.csv')\n",
    "proceedingsDF = pd.read_csv('data/proceedings.csv')\n",
    "reviewersDF = pd.read_csv('data/reviewers.csv')\n",
    "reviewsDF = pd.read_csv('data/reviews.csv')\n",
    "subjectsProceedingsVolumesDF = pd.read_csv('data/subjectsProceedingsVolumes.csv')\n",
    "subjectDomainDF = pd.read_csv('data/subjectDomain.csv')\n",
    "subjectsPapersDF = pd.read_csv('data/subjectsPapers.csv')\n",
    "submittedPapersDF = pd.read_csv('data/submittedPapers.csv')\n",
    "volumesDF = pd.read_csv('data/volumes.csv')"
   ]
  },
  {
   "cell_type": "code",
   "execution_count": 3,
   "id": "2e2c8de1-e5c6-4d58-98d1-911a63fdd9ed",
   "metadata": {},
   "outputs": [],
   "source": [
    "# Creating a graph\n",
    "g = Graph()"
   ]
  },
  {
   "cell_type": "code",
   "execution_count": 4,
   "id": "2928df6f-bb95-4184-af98-309422fb1151",
   "metadata": {},
   "outputs": [],
   "source": [
    "# Create many URIRefs in the same namespace, i.e. URIs with the same prefix\n",
    "LAB = Namespace(\"http://SDM_LAB3.org/\")"
   ]
  },
  {
   "cell_type": "code",
   "execution_count": 5,
   "id": "21ad9e64-ace9-42be-b719-87a45f6f990a",
   "metadata": {},
   "outputs": [],
   "source": [
    "# Bind the lab namespace to a prefix for more readable output\n",
    "g.bind('lab',LAB)"
   ]
  },
  {
   "cell_type": "markdown",
   "id": "1b1390ca-c0c9-4396-95f9-b861b7262746",
   "metadata": {
    "tags": []
   },
   "source": [
    "#### Author -- [writes] --> Paper"
   ]
  },
  {
   "cell_type": "code",
   "execution_count": 6,
   "id": "fef757da-9acc-4d4e-b391-50063bcf6223",
   "metadata": {},
   "outputs": [
    {
     "data": {
      "text/html": [
       "<div>\n",
       "<style scoped>\n",
       "    .dataframe tbody tr th:only-of-type {\n",
       "        vertical-align: middle;\n",
       "    }\n",
       "\n",
       "    .dataframe tbody tr th {\n",
       "        vertical-align: top;\n",
       "    }\n",
       "\n",
       "    .dataframe thead th {\n",
       "        text-align: right;\n",
       "    }\n",
       "</style>\n",
       "<table border=\"1\" class=\"dataframe\">\n",
       "  <thead>\n",
       "    <tr style=\"text-align: right;\">\n",
       "      <th></th>\n",
       "      <th>authorUrl</th>\n",
       "      <th>paperId</th>\n",
       "      <th>authorId</th>\n",
       "      <th>authorName</th>\n",
       "      <th>paperUrl</th>\n",
       "      <th>conferenceJournalId</th>\n",
       "      <th>conferenceJournalTitle</th>\n",
       "      <th>paperTitle</th>\n",
       "      <th>paperAbstract</th>\n",
       "      <th>paperType</th>\n",
       "      <th>proceedingsVolumeIds</th>\n",
       "    </tr>\n",
       "  </thead>\n",
       "  <tbody>\n",
       "    <tr>\n",
       "      <th>0</th>\n",
       "      <td>6391996</td>\n",
       "      <td>p0</td>\n",
       "      <td>a0</td>\n",
       "      <td>E. Bolyen</td>\n",
       "      <td>0c2d3b28d48426b8b72f7214a7708ba8b4efa9d6</td>\n",
       "      <td>j0</td>\n",
       "      <td>Nature Biotechnology</td>\n",
       "      <td>Reproducible, interactive, scalable and extens...</td>\n",
       "      <td>Abstract content goes here ...</td>\n",
       "      <td>shortPaper</td>\n",
       "      <td>jv0</td>\n",
       "    </tr>\n",
       "    <tr>\n",
       "      <th>1</th>\n",
       "      <td>6307534</td>\n",
       "      <td>p0</td>\n",
       "      <td>a1</td>\n",
       "      <td>J. Rideout</td>\n",
       "      <td>0c2d3b28d48426b8b72f7214a7708ba8b4efa9d6</td>\n",
       "      <td>j0</td>\n",
       "      <td>Nature Biotechnology</td>\n",
       "      <td>Reproducible, interactive, scalable and extens...</td>\n",
       "      <td>Abstract content goes here ...</td>\n",
       "      <td>shortPaper</td>\n",
       "      <td>jv0</td>\n",
       "    </tr>\n",
       "  </tbody>\n",
       "</table>\n",
       "</div>"
      ],
      "text/plain": [
       "  authorUrl paperId authorId  authorName  \\\n",
       "0   6391996      p0       a0   E. Bolyen   \n",
       "1   6307534      p0       a1  J. Rideout   \n",
       "\n",
       "                                   paperUrl conferenceJournalId  \\\n",
       "0  0c2d3b28d48426b8b72f7214a7708ba8b4efa9d6                  j0   \n",
       "1  0c2d3b28d48426b8b72f7214a7708ba8b4efa9d6                  j0   \n",
       "\n",
       "  conferenceJournalTitle                                         paperTitle  \\\n",
       "0   Nature Biotechnology  Reproducible, interactive, scalable and extens...   \n",
       "1   Nature Biotechnology  Reproducible, interactive, scalable and extens...   \n",
       "\n",
       "                    paperAbstract   paperType proceedingsVolumeIds  \n",
       "0  Abstract content goes here ...  shortPaper                  jv0  \n",
       "1  Abstract content goes here ...  shortPaper                  jv0  "
      ]
     },
     "execution_count": 6,
     "metadata": {},
     "output_type": "execute_result"
    }
   ],
   "source": [
    "authorsPapersDF.head(2)"
   ]
  },
  {
   "cell_type": "code",
   "execution_count": 7,
   "id": "c2013096-0894-4b10-b506-2a5031d9d98c",
   "metadata": {},
   "outputs": [],
   "source": [
    "# Connecting author--[writes]--> paper instances to the tbox\n",
    "# g.add((LAB.Author, LAB.writes, LAB.Paper))   \n",
    "for k in range(len(authorsPapersDF['authorId'])):\n",
    "    g.add((URIRef(LAB+authorsPapersDF['authorId'][k]), RDF.type, LAB.Author))\n",
    "    ptype = authorsPapersDF['paperType'][k]\n",
    "    if ptype == \"shortPaper\":\n",
    "        g.add((URIRef(LAB+authorsPapersDF['paperId'][k]), RDF.type, LAB.ShortPaper))\n",
    "    elif ptype == \"demoPaper\":\n",
    "        g.add((URIRef(LAB+authorsPapersDF['paperId'][k]), RDF.type, LAB.DemoPaper))\n",
    "    elif ptype == \"fullPaper\":\n",
    "        g.add((URIRef(LAB+authorsPapersDF['paperId'][k]), RDF.type, LAB.FullPaper))\n",
    "    elif ptype == \"poster\":\n",
    "        g.add((URIRef(LAB+authorsPapersDF['paperId'][k]), RDF.type, LAB.Poster))"
   ]
  },
  {
   "cell_type": "markdown",
   "id": "9797483d-f53e-47a0-8491-dc695d12ef48",
   "metadata": {
    "tags": []
   },
   "source": [
    "#### Paper -- [submitted] --> SubmittedPaper"
   ]
  },
  {
   "cell_type": "code",
   "execution_count": 8,
   "id": "c9e37176-9458-484a-a92f-fce09b374e50",
   "metadata": {},
   "outputs": [
    {
     "data": {
      "text/html": [
       "<div>\n",
       "<style scoped>\n",
       "    .dataframe tbody tr th:only-of-type {\n",
       "        vertical-align: middle;\n",
       "    }\n",
       "\n",
       "    .dataframe tbody tr th {\n",
       "        vertical-align: top;\n",
       "    }\n",
       "\n",
       "    .dataframe thead th {\n",
       "        text-align: right;\n",
       "    }\n",
       "</style>\n",
       "<table border=\"1\" class=\"dataframe\">\n",
       "  <thead>\n",
       "    <tr style=\"text-align: right;\">\n",
       "      <th></th>\n",
       "      <th>submissionId</th>\n",
       "      <th>paperId</th>\n",
       "      <th>paperTitle</th>\n",
       "      <th>paperAbstract</th>\n",
       "      <th>conferenceJournalId</th>\n",
       "      <th>conferenceJournalTitle</th>\n",
       "      <th>proceedingsVolume</th>\n",
       "      <th>decision</th>\n",
       "    </tr>\n",
       "  </thead>\n",
       "  <tbody>\n",
       "    <tr>\n",
       "      <th>0</th>\n",
       "      <td>s0</td>\n",
       "      <td>p0</td>\n",
       "      <td>Reproducible, interactive, scalable and extens...</td>\n",
       "      <td>Abstract content goes here ...</td>\n",
       "      <td>j0</td>\n",
       "      <td>Nature Biotechnology</td>\n",
       "      <td>jv0</td>\n",
       "      <td>rejected</td>\n",
       "    </tr>\n",
       "    <tr>\n",
       "      <th>1</th>\n",
       "      <td>s1</td>\n",
       "      <td>p1</td>\n",
       "      <td>High-Dimensional Probability: An Introduction ...</td>\n",
       "      <td>© 2018, Cambridge University Press Let us summ...</td>\n",
       "      <td>c14</td>\n",
       "      <td>International Conference on Exploring Services...</td>\n",
       "      <td>cp14</td>\n",
       "      <td>accepted</td>\n",
       "    </tr>\n",
       "  </tbody>\n",
       "</table>\n",
       "</div>"
      ],
      "text/plain": [
       "  submissionId paperId                                         paperTitle  \\\n",
       "0           s0      p0  Reproducible, interactive, scalable and extens...   \n",
       "1           s1      p1  High-Dimensional Probability: An Introduction ...   \n",
       "\n",
       "                                       paperAbstract conferenceJournalId  \\\n",
       "0                     Abstract content goes here ...                  j0   \n",
       "1  © 2018, Cambridge University Press Let us summ...                 c14   \n",
       "\n",
       "                              conferenceJournalTitle proceedingsVolume  \\\n",
       "0                               Nature Biotechnology               jv0   \n",
       "1  International Conference on Exploring Services...              cp14   \n",
       "\n",
       "   decision  \n",
       "0  rejected  \n",
       "1  accepted  "
      ]
     },
     "execution_count": 8,
     "metadata": {},
     "output_type": "execute_result"
    }
   ],
   "source": [
    "submittedPapersDF.head(2)"
   ]
  },
  {
   "cell_type": "code",
   "execution_count": 9,
   "id": "1353ac7b-6fb0-47c1-b6c2-1012a94ecbdb",
   "metadata": {},
   "outputs": [],
   "source": [
    "# Connecting paper--[submitted]--> submittedPaper instances to the tbox\n",
    "# g.add((LAB.Paper, LAB.submitted, LAB.SubmittedPaper))   \n",
    "for k in range(len(submittedPapersDF['paperId'])):\n",
    "    g.add((URIRef(LAB+submittedPapersDF['paperId'][k]), RDF.type, LAB.SubmittedPaper))\n",
    "    g.add((URIRef(LAB+submittedPapersDF['paperId'][k]), RDF.type, LAB.Paper))"
   ]
  },
  {
   "cell_type": "markdown",
   "id": "1c972a0d-88c4-4dca-b4c3-4a8e0440a1a5",
   "metadata": {
    "tags": []
   },
   "source": [
    "#### Paper -- [paperRelatedTo] --> SubjectDomain"
   ]
  },
  {
   "cell_type": "code",
   "execution_count": 10,
   "id": "87167708-9643-4b93-ba3a-0d012e45bacd",
   "metadata": {},
   "outputs": [
    {
     "data": {
      "text/html": [
       "<div>\n",
       "<style scoped>\n",
       "    .dataframe tbody tr th:only-of-type {\n",
       "        vertical-align: middle;\n",
       "    }\n",
       "\n",
       "    .dataframe tbody tr th {\n",
       "        vertical-align: top;\n",
       "    }\n",
       "\n",
       "    .dataframe thead th {\n",
       "        text-align: right;\n",
       "    }\n",
       "</style>\n",
       "<table border=\"1\" class=\"dataframe\">\n",
       "  <thead>\n",
       "    <tr style=\"text-align: right;\">\n",
       "      <th></th>\n",
       "      <th>subjectDomainName</th>\n",
       "      <th>paperId</th>\n",
       "      <th>subjectDomainId</th>\n",
       "      <th>paperUrl</th>\n",
       "      <th>conferenceJournalId</th>\n",
       "      <th>conferenceJournalTitle</th>\n",
       "      <th>paperTitle</th>\n",
       "      <th>paperAbstract</th>\n",
       "      <th>paperType</th>\n",
       "      <th>proceedingsVolumeIds</th>\n",
       "    </tr>\n",
       "  </thead>\n",
       "  <tbody>\n",
       "    <tr>\n",
       "      <th>0</th>\n",
       "      <td>Engineering</td>\n",
       "      <td>p0</td>\n",
       "      <td>d0</td>\n",
       "      <td>0c2d3b28d48426b8b72f7214a7708ba8b4efa9d6</td>\n",
       "      <td>j0</td>\n",
       "      <td>Nature Biotechnology</td>\n",
       "      <td>Reproducible, interactive, scalable and extens...</td>\n",
       "      <td>Abstract content goes here ...</td>\n",
       "      <td>shortPaper</td>\n",
       "      <td>jv0</td>\n",
       "    </tr>\n",
       "    <tr>\n",
       "      <th>1</th>\n",
       "      <td>Medicine</td>\n",
       "      <td>p0</td>\n",
       "      <td>d1</td>\n",
       "      <td>0c2d3b28d48426b8b72f7214a7708ba8b4efa9d6</td>\n",
       "      <td>j0</td>\n",
       "      <td>Nature Biotechnology</td>\n",
       "      <td>Reproducible, interactive, scalable and extens...</td>\n",
       "      <td>Abstract content goes here ...</td>\n",
       "      <td>shortPaper</td>\n",
       "      <td>jv0</td>\n",
       "    </tr>\n",
       "  </tbody>\n",
       "</table>\n",
       "</div>"
      ],
      "text/plain": [
       "  subjectDomainName paperId subjectDomainId  \\\n",
       "0       Engineering      p0              d0   \n",
       "1          Medicine      p0              d1   \n",
       "\n",
       "                                   paperUrl conferenceJournalId  \\\n",
       "0  0c2d3b28d48426b8b72f7214a7708ba8b4efa9d6                  j0   \n",
       "1  0c2d3b28d48426b8b72f7214a7708ba8b4efa9d6                  j0   \n",
       "\n",
       "  conferenceJournalTitle                                         paperTitle  \\\n",
       "0   Nature Biotechnology  Reproducible, interactive, scalable and extens...   \n",
       "1   Nature Biotechnology  Reproducible, interactive, scalable and extens...   \n",
       "\n",
       "                    paperAbstract   paperType proceedingsVolumeIds  \n",
       "0  Abstract content goes here ...  shortPaper                  jv0  \n",
       "1  Abstract content goes here ...  shortPaper                  jv0  "
      ]
     },
     "execution_count": 10,
     "metadata": {},
     "output_type": "execute_result"
    }
   ],
   "source": [
    "subjectsPapersDF.head(2)"
   ]
  },
  {
   "cell_type": "code",
   "execution_count": 11,
   "id": "f792e2e0-7d43-4106-90dc-4a65924c325d",
   "metadata": {},
   "outputs": [],
   "source": [
    "# Connecting paper--[paperRelatedTo]--> subjectDomain instances to the tbox\n",
    "# g.add((LAB.Paper, LAB.paperRelatedTo, LAB.SubjectArea))\n",
    "for k in range(len(subjectsPapersDF['paperId'])):\n",
    "    g.add((URIRef(subjectsPapersDF['subjectDomainId'][k]), RDF.type, LAB.SubjectDomain))"
   ]
  },
  {
   "cell_type": "markdown",
   "id": "3874779f-fdc6-4b55-a683-ba25b1e7abbd",
   "metadata": {
    "tags": []
   },
   "source": [
    "#### Conference -- [isIn] --> Proceedings"
   ]
  },
  {
   "cell_type": "code",
   "execution_count": 12,
   "id": "18af125d-c586-4363-9ee4-125d6c4c0734",
   "metadata": {},
   "outputs": [
    {
     "data": {
      "text/html": [
       "<div>\n",
       "<style scoped>\n",
       "    .dataframe tbody tr th:only-of-type {\n",
       "        vertical-align: middle;\n",
       "    }\n",
       "\n",
       "    .dataframe tbody tr th {\n",
       "        vertical-align: top;\n",
       "    }\n",
       "\n",
       "    .dataframe thead th {\n",
       "        text-align: right;\n",
       "    }\n",
       "</style>\n",
       "<table border=\"1\" class=\"dataframe\">\n",
       "  <thead>\n",
       "    <tr style=\"text-align: right;\">\n",
       "      <th></th>\n",
       "      <th>conferenceId</th>\n",
       "      <th>conferenceUrl</th>\n",
       "      <th>conferenceTitle</th>\n",
       "      <th>conferenceType</th>\n",
       "      <th>conferenceProceedingIds</th>\n",
       "      <th>proceedingName</th>\n",
       "      <th>proceedingYear</th>\n",
       "    </tr>\n",
       "  </thead>\n",
       "  <tbody>\n",
       "    <tr>\n",
       "      <th>0</th>\n",
       "      <td>c0</td>\n",
       "      <td>b55b50b1-aae7-47a7-b042-8aecc930073d</td>\n",
       "      <td>International Conference on Human Factors in C...</td>\n",
       "      <td>regularConference</td>\n",
       "      <td>cp0</td>\n",
       "      <td>proceeding0</td>\n",
       "      <td>2019</td>\n",
       "    </tr>\n",
       "    <tr>\n",
       "      <th>1</th>\n",
       "      <td>c1</td>\n",
       "      <td>2c9ecac6-f875-4a9b-acc2-10bd9f6782df</td>\n",
       "      <td>Technical Symposium on Computer Science Education</td>\n",
       "      <td>workshop</td>\n",
       "      <td>cp1</td>\n",
       "      <td>proceeding1</td>\n",
       "      <td>2002</td>\n",
       "    </tr>\n",
       "  </tbody>\n",
       "</table>\n",
       "</div>"
      ],
      "text/plain": [
       "  conferenceId                         conferenceUrl  \\\n",
       "0           c0  b55b50b1-aae7-47a7-b042-8aecc930073d   \n",
       "1           c1  2c9ecac6-f875-4a9b-acc2-10bd9f6782df   \n",
       "\n",
       "                                     conferenceTitle     conferenceType  \\\n",
       "0  International Conference on Human Factors in C...  regularConference   \n",
       "1  Technical Symposium on Computer Science Education           workshop   \n",
       "\n",
       "  conferenceProceedingIds proceedingName  proceedingYear  \n",
       "0                     cp0    proceeding0            2019  \n",
       "1                     cp1    proceeding1            2002  "
      ]
     },
     "execution_count": 12,
     "metadata": {},
     "output_type": "execute_result"
    }
   ],
   "source": [
    "conferenceProceedingsDF.head(2)"
   ]
  },
  {
   "cell_type": "code",
   "execution_count": 13,
   "id": "657c663e-48b8-481c-afc2-756df8d4d9cd",
   "metadata": {},
   "outputs": [],
   "source": [
    "# Connecting conference--[isIn]--> proceedings instances to the tbox\n",
    "# g.add((LAB.Conference, LAB.isIn, LAB.Proceedings))\n",
    "for k in range(len(conferenceProceedingsDF['conferenceId'])):\n",
    "    ctype = conferenceProceedingsDF['conferenceType'][k]\n",
    "    if ctype == 'regularConference':\n",
    "        g.add((URIRef(LAB+conferenceProceedingsDF['conferenceId'][k]), RDF.type, LAB.RegularConference))\n",
    "    elif ctype == 'workshop':\n",
    "        g.add((URIRef(LAB+conferenceProceedingsDF['conferenceId'][k]), RDF.type, LAB.Workshop))\n",
    "    elif ctype == 'expertGroup':\n",
    "        g.add((URIRef(LAB+conferenceProceedingsDF['conferenceId'][k]), RDF.type, LAB.ExpertGroup))\n",
    "    elif ctype == 'symposium':\n",
    "        g.add((URIRef(LAB+conferenceProceedingsDF['conferenceId'][k]), RDF.type, LAB.Symposium))\n",
    "    g.add((URIRef(LAB+conferenceProceedingsDF['conferenceProceedingIds'][k]), RDF.type, LAB.Proceedings))"
   ]
  },
  {
   "cell_type": "markdown",
   "id": "90aeb02a-49a0-4380-b710-1eb7081172db",
   "metadata": {
    "tags": []
   },
   "source": [
    "#### Journal -- [isOf] --> Volume"
   ]
  },
  {
   "cell_type": "code",
   "execution_count": 14,
   "id": "b2344ff8-310d-4781-a6d2-a6b709499fc8",
   "metadata": {},
   "outputs": [
    {
     "data": {
      "text/html": [
       "<div>\n",
       "<style scoped>\n",
       "    .dataframe tbody tr th:only-of-type {\n",
       "        vertical-align: middle;\n",
       "    }\n",
       "\n",
       "    .dataframe tbody tr th {\n",
       "        vertical-align: top;\n",
       "    }\n",
       "\n",
       "    .dataframe thead th {\n",
       "        text-align: right;\n",
       "    }\n",
       "</style>\n",
       "<table border=\"1\" class=\"dataframe\">\n",
       "  <thead>\n",
       "    <tr style=\"text-align: right;\">\n",
       "      <th></th>\n",
       "      <th>journalId</th>\n",
       "      <th>journalUrl</th>\n",
       "      <th>journalTitle</th>\n",
       "      <th>journalVolumeIds</th>\n",
       "      <th>volumeName</th>\n",
       "      <th>volumeYear</th>\n",
       "    </tr>\n",
       "  </thead>\n",
       "  <tbody>\n",
       "    <tr>\n",
       "      <th>0</th>\n",
       "      <td>j0</td>\n",
       "      <td>458166b3-de17-4bf3-bbbb-e53782de2f0f</td>\n",
       "      <td>Nature Biotechnology</td>\n",
       "      <td>jv0</td>\n",
       "      <td>journal0</td>\n",
       "      <td>2006</td>\n",
       "    </tr>\n",
       "    <tr>\n",
       "      <th>1</th>\n",
       "      <td>j1</td>\n",
       "      <td>c6840156-ee10-4d78-8832-7f8909811576</td>\n",
       "      <td>IEEE Transactions on Knowledge and Data Engine...</td>\n",
       "      <td>jv1</td>\n",
       "      <td>journal1</td>\n",
       "      <td>2020</td>\n",
       "    </tr>\n",
       "  </tbody>\n",
       "</table>\n",
       "</div>"
      ],
      "text/plain": [
       "  journalId                            journalUrl  \\\n",
       "0        j0  458166b3-de17-4bf3-bbbb-e53782de2f0f   \n",
       "1        j1  c6840156-ee10-4d78-8832-7f8909811576   \n",
       "\n",
       "                                        journalTitle journalVolumeIds  \\\n",
       "0                               Nature Biotechnology              jv0   \n",
       "1  IEEE Transactions on Knowledge and Data Engine...              jv1   \n",
       "\n",
       "  volumeName  volumeYear  \n",
       "0   journal0        2006  \n",
       "1   journal1        2020  "
      ]
     },
     "execution_count": 14,
     "metadata": {},
     "output_type": "execute_result"
    }
   ],
   "source": [
    "journalVolumesDF.head(2)"
   ]
  },
  {
   "cell_type": "code",
   "execution_count": 15,
   "id": "4c54163b-0f45-4a4c-90d2-7b0f2f62db2e",
   "metadata": {},
   "outputs": [],
   "source": [
    "# Adding journal--[isOf]--> volume instances to the graph\n",
    "# g.add((LAB.Journal, LAB.isOf, LAB.Volume))\n",
    "for k in range(len(journalVolumesDF['journalId'])):\n",
    "    g.add((URIRef(LAB+journalVolumesDF['journalId'][k]), RDF.type, LAB.Journal))\n",
    "    g.add((URIRef(LAB+journalVolumesDF['journalVolumeIds'][k]), RDF.type, LAB.Volume))"
   ]
  },
  {
   "cell_type": "markdown",
   "id": "a59422b7-0024-45e7-9ba3-e2de51604347",
   "metadata": {
    "tags": []
   },
   "source": [
    "#### SubmittedPaper -- [isSubmittedTo] --> Venue"
   ]
  },
  {
   "cell_type": "code",
   "execution_count": 16,
   "id": "21a36379-aaf1-445a-826b-e05db00cbb76",
   "metadata": {},
   "outputs": [
    {
     "data": {
      "text/html": [
       "<div>\n",
       "<style scoped>\n",
       "    .dataframe tbody tr th:only-of-type {\n",
       "        vertical-align: middle;\n",
       "    }\n",
       "\n",
       "    .dataframe tbody tr th {\n",
       "        vertical-align: top;\n",
       "    }\n",
       "\n",
       "    .dataframe thead th {\n",
       "        text-align: right;\n",
       "    }\n",
       "</style>\n",
       "<table border=\"1\" class=\"dataframe\">\n",
       "  <thead>\n",
       "    <tr style=\"text-align: right;\">\n",
       "      <th></th>\n",
       "      <th>submissionId</th>\n",
       "      <th>paperId</th>\n",
       "      <th>paperTitle</th>\n",
       "      <th>paperAbstract</th>\n",
       "      <th>conferenceJournalId</th>\n",
       "      <th>conferenceJournalTitle</th>\n",
       "      <th>proceedingsVolume</th>\n",
       "      <th>decision</th>\n",
       "    </tr>\n",
       "  </thead>\n",
       "  <tbody>\n",
       "    <tr>\n",
       "      <th>0</th>\n",
       "      <td>s0</td>\n",
       "      <td>p0</td>\n",
       "      <td>Reproducible, interactive, scalable and extens...</td>\n",
       "      <td>Abstract content goes here ...</td>\n",
       "      <td>j0</td>\n",
       "      <td>Nature Biotechnology</td>\n",
       "      <td>jv0</td>\n",
       "      <td>rejected</td>\n",
       "    </tr>\n",
       "    <tr>\n",
       "      <th>1</th>\n",
       "      <td>s1</td>\n",
       "      <td>p1</td>\n",
       "      <td>High-Dimensional Probability: An Introduction ...</td>\n",
       "      <td>© 2018, Cambridge University Press Let us summ...</td>\n",
       "      <td>c14</td>\n",
       "      <td>International Conference on Exploring Services...</td>\n",
       "      <td>cp14</td>\n",
       "      <td>accepted</td>\n",
       "    </tr>\n",
       "  </tbody>\n",
       "</table>\n",
       "</div>"
      ],
      "text/plain": [
       "  submissionId paperId                                         paperTitle  \\\n",
       "0           s0      p0  Reproducible, interactive, scalable and extens...   \n",
       "1           s1      p1  High-Dimensional Probability: An Introduction ...   \n",
       "\n",
       "                                       paperAbstract conferenceJournalId  \\\n",
       "0                     Abstract content goes here ...                  j0   \n",
       "1  © 2018, Cambridge University Press Let us summ...                 c14   \n",
       "\n",
       "                              conferenceJournalTitle proceedingsVolume  \\\n",
       "0                               Nature Biotechnology               jv0   \n",
       "1  International Conference on Exploring Services...              cp14   \n",
       "\n",
       "   decision  \n",
       "0  rejected  \n",
       "1  accepted  "
      ]
     },
     "execution_count": 16,
     "metadata": {},
     "output_type": "execute_result"
    }
   ],
   "source": [
    "submittedPapersDF.head(2)"
   ]
  },
  {
   "cell_type": "code",
   "execution_count": 17,
   "id": "e91afd7a-2777-4de0-bd02-401a69cac45d",
   "metadata": {},
   "outputs": [],
   "source": [
    "# Connecting submittedPaper--[isSubmittedTo]--> venue instances to the tbox\n",
    "# g.add((LAB.SubmittedPaper, LAB.isSubmittedTo, LAB.Venue))\n",
    "for k in range(len(submittedPapersDF['paperId'])):\n",
    "    g.add((URIRef(LAB+submittedPapersDF['paperId'][k]), RDF.type, LAB.SubmittedPaper))"
   ]
  },
  {
   "cell_type": "markdown",
   "id": "baca24ed-ef70-4c39-af69-3e3deeb02331",
   "metadata": {
    "tags": []
   },
   "source": [
    "#### SubmittedPaper -- [isAs] --> FinalPaper"
   ]
  },
  {
   "cell_type": "code",
   "execution_count": 18,
   "id": "a54191d2-ea53-482e-a92a-77a58c8f01e3",
   "metadata": {},
   "outputs": [
    {
     "data": {
      "text/html": [
       "<div>\n",
       "<style scoped>\n",
       "    .dataframe tbody tr th:only-of-type {\n",
       "        vertical-align: middle;\n",
       "    }\n",
       "\n",
       "    .dataframe tbody tr th {\n",
       "        vertical-align: top;\n",
       "    }\n",
       "\n",
       "    .dataframe thead th {\n",
       "        text-align: right;\n",
       "    }\n",
       "</style>\n",
       "<table border=\"1\" class=\"dataframe\">\n",
       "  <thead>\n",
       "    <tr style=\"text-align: right;\">\n",
       "      <th></th>\n",
       "      <th>submissionId</th>\n",
       "      <th>paperId</th>\n",
       "      <th>paperTitle</th>\n",
       "      <th>paperAbstract</th>\n",
       "      <th>conferenceJournalId</th>\n",
       "      <th>conferenceJournalTitle</th>\n",
       "      <th>proceedingsVolume</th>\n",
       "      <th>decision</th>\n",
       "      <th>finalPaperId</th>\n",
       "      <th>proceedingVolumeYear</th>\n",
       "      <th>acceptanceDate</th>\n",
       "    </tr>\n",
       "  </thead>\n",
       "  <tbody>\n",
       "    <tr>\n",
       "      <th>0</th>\n",
       "      <td>s1</td>\n",
       "      <td>p1</td>\n",
       "      <td>High-Dimensional Probability: An Introduction ...</td>\n",
       "      <td>© 2018, Cambridge University Press Let us summ...</td>\n",
       "      <td>c14</td>\n",
       "      <td>International Conference on Exploring Services...</td>\n",
       "      <td>cp14</td>\n",
       "      <td>accepted</td>\n",
       "      <td>f0</td>\n",
       "      <td>2016</td>\n",
       "      <td>2016-05-08</td>\n",
       "    </tr>\n",
       "    <tr>\n",
       "      <th>1</th>\n",
       "      <td>s3</td>\n",
       "      <td>p3</td>\n",
       "      <td>AutoDS: Towards Human-Centered Automation of D...</td>\n",
       "      <td>Data science (DS) projects often follow a life...</td>\n",
       "      <td>c0</td>\n",
       "      <td>International Conference on Human Factors in C...</td>\n",
       "      <td>cp0</td>\n",
       "      <td>accepted</td>\n",
       "      <td>f1</td>\n",
       "      <td>2019</td>\n",
       "      <td>2019-10-29</td>\n",
       "    </tr>\n",
       "  </tbody>\n",
       "</table>\n",
       "</div>"
      ],
      "text/plain": [
       "  submissionId paperId                                         paperTitle  \\\n",
       "0           s1      p1  High-Dimensional Probability: An Introduction ...   \n",
       "1           s3      p3  AutoDS: Towards Human-Centered Automation of D...   \n",
       "\n",
       "                                       paperAbstract conferenceJournalId  \\\n",
       "0  © 2018, Cambridge University Press Let us summ...                 c14   \n",
       "1  Data science (DS) projects often follow a life...                  c0   \n",
       "\n",
       "                              conferenceJournalTitle proceedingsVolume  \\\n",
       "0  International Conference on Exploring Services...              cp14   \n",
       "1  International Conference on Human Factors in C...               cp0   \n",
       "\n",
       "   decision finalPaperId  proceedingVolumeYear acceptanceDate  \n",
       "0  accepted           f0                  2016     2016-05-08  \n",
       "1  accepted           f1                  2019     2019-10-29  "
      ]
     },
     "execution_count": 18,
     "metadata": {},
     "output_type": "execute_result"
    }
   ],
   "source": [
    "finalPapersDF.head(2)"
   ]
  },
  {
   "cell_type": "code",
   "execution_count": 19,
   "id": "c87dd086-160d-4f18-a787-621f5c950456",
   "metadata": {},
   "outputs": [],
   "source": [
    "# Connecting submittedPaper--[isAs]--> finalPaper instances to the tbox\n",
    "# g.add((LAB.SubmittedPaper, LAB.isAs, LAB.FinalPaper))\n",
    "for k in range(len(finalPapersDF['paperId'])):\n",
    "    g.add((URIRef(LAB+finalPapersDF['finalPaperId'][k]), RDF.type, LAB.FinalPaper))"
   ]
  },
  {
   "cell_type": "markdown",
   "id": "397098bc-1271-4535-bdd1-173c4cbcbc44",
   "metadata": {
    "tags": []
   },
   "source": [
    "### FinalPaper -- [isPublishedInConference] --> Proceedings & FinalPaper -- [isPublishedInJournal] --> Volume"
   ]
  },
  {
   "cell_type": "code",
   "execution_count": 20,
   "id": "5fb7eb61-8b82-40b5-b69b-bac94a956403",
   "metadata": {},
   "outputs": [
    {
     "data": {
      "text/html": [
       "<div>\n",
       "<style scoped>\n",
       "    .dataframe tbody tr th:only-of-type {\n",
       "        vertical-align: middle;\n",
       "    }\n",
       "\n",
       "    .dataframe tbody tr th {\n",
       "        vertical-align: top;\n",
       "    }\n",
       "\n",
       "    .dataframe thead th {\n",
       "        text-align: right;\n",
       "    }\n",
       "</style>\n",
       "<table border=\"1\" class=\"dataframe\">\n",
       "  <thead>\n",
       "    <tr style=\"text-align: right;\">\n",
       "      <th></th>\n",
       "      <th>submissionId</th>\n",
       "      <th>paperId</th>\n",
       "      <th>paperTitle</th>\n",
       "      <th>paperAbstract</th>\n",
       "      <th>conferenceJournalId</th>\n",
       "      <th>conferenceJournalTitle</th>\n",
       "      <th>proceedingsVolume</th>\n",
       "      <th>decision</th>\n",
       "      <th>finalPaperId</th>\n",
       "      <th>proceedingVolumeYear</th>\n",
       "      <th>acceptanceDate</th>\n",
       "    </tr>\n",
       "  </thead>\n",
       "  <tbody>\n",
       "    <tr>\n",
       "      <th>0</th>\n",
       "      <td>s1</td>\n",
       "      <td>p1</td>\n",
       "      <td>High-Dimensional Probability: An Introduction ...</td>\n",
       "      <td>© 2018, Cambridge University Press Let us summ...</td>\n",
       "      <td>c14</td>\n",
       "      <td>International Conference on Exploring Services...</td>\n",
       "      <td>cp14</td>\n",
       "      <td>accepted</td>\n",
       "      <td>f0</td>\n",
       "      <td>2016</td>\n",
       "      <td>2016-05-08</td>\n",
       "    </tr>\n",
       "    <tr>\n",
       "      <th>1</th>\n",
       "      <td>s3</td>\n",
       "      <td>p3</td>\n",
       "      <td>AutoDS: Towards Human-Centered Automation of D...</td>\n",
       "      <td>Data science (DS) projects often follow a life...</td>\n",
       "      <td>c0</td>\n",
       "      <td>International Conference on Human Factors in C...</td>\n",
       "      <td>cp0</td>\n",
       "      <td>accepted</td>\n",
       "      <td>f1</td>\n",
       "      <td>2019</td>\n",
       "      <td>2019-10-29</td>\n",
       "    </tr>\n",
       "  </tbody>\n",
       "</table>\n",
       "</div>"
      ],
      "text/plain": [
       "  submissionId paperId                                         paperTitle  \\\n",
       "0           s1      p1  High-Dimensional Probability: An Introduction ...   \n",
       "1           s3      p3  AutoDS: Towards Human-Centered Automation of D...   \n",
       "\n",
       "                                       paperAbstract conferenceJournalId  \\\n",
       "0  © 2018, Cambridge University Press Let us summ...                 c14   \n",
       "1  Data science (DS) projects often follow a life...                  c0   \n",
       "\n",
       "                              conferenceJournalTitle proceedingsVolume  \\\n",
       "0  International Conference on Exploring Services...              cp14   \n",
       "1  International Conference on Human Factors in C...               cp0   \n",
       "\n",
       "   decision finalPaperId  proceedingVolumeYear acceptanceDate  \n",
       "0  accepted           f0                  2016     2016-05-08  \n",
       "1  accepted           f1                  2019     2019-10-29  "
      ]
     },
     "execution_count": 20,
     "metadata": {},
     "output_type": "execute_result"
    }
   ],
   "source": [
    "finalPapersDF.head(2)"
   ]
  },
  {
   "cell_type": "code",
   "execution_count": 21,
   "id": "b419371a-94ed-4324-afd5-e348bc41bc91",
   "metadata": {},
   "outputs": [
    {
     "data": {
      "text/html": [
       "<div>\n",
       "<style scoped>\n",
       "    .dataframe tbody tr th:only-of-type {\n",
       "        vertical-align: middle;\n",
       "    }\n",
       "\n",
       "    .dataframe tbody tr th {\n",
       "        vertical-align: top;\n",
       "    }\n",
       "\n",
       "    .dataframe thead th {\n",
       "        text-align: right;\n",
       "    }\n",
       "</style>\n",
       "<table border=\"1\" class=\"dataframe\">\n",
       "  <thead>\n",
       "    <tr style=\"text-align: right;\">\n",
       "      <th></th>\n",
       "      <th>conferenceId</th>\n",
       "      <th>conferenceUrl</th>\n",
       "      <th>conferenceTitle</th>\n",
       "      <th>conferenceType</th>\n",
       "      <th>conferenceProceedingIds</th>\n",
       "    </tr>\n",
       "  </thead>\n",
       "  <tbody>\n",
       "    <tr>\n",
       "      <th>0</th>\n",
       "      <td>c0</td>\n",
       "      <td>b55b50b1-aae7-47a7-b042-8aecc930073d</td>\n",
       "      <td>International Conference on Human Factors in C...</td>\n",
       "      <td>regularConference</td>\n",
       "      <td>cp0</td>\n",
       "    </tr>\n",
       "    <tr>\n",
       "      <th>1</th>\n",
       "      <td>c1</td>\n",
       "      <td>2c9ecac6-f875-4a9b-acc2-10bd9f6782df</td>\n",
       "      <td>Technical Symposium on Computer Science Education</td>\n",
       "      <td>workshop</td>\n",
       "      <td>cp1</td>\n",
       "    </tr>\n",
       "  </tbody>\n",
       "</table>\n",
       "</div>"
      ],
      "text/plain": [
       "  conferenceId                         conferenceUrl  \\\n",
       "0           c0  b55b50b1-aae7-47a7-b042-8aecc930073d   \n",
       "1           c1  2c9ecac6-f875-4a9b-acc2-10bd9f6782df   \n",
       "\n",
       "                                     conferenceTitle     conferenceType  \\\n",
       "0  International Conference on Human Factors in C...  regularConference   \n",
       "1  Technical Symposium on Computer Science Education           workshop   \n",
       "\n",
       "  conferenceProceedingIds  \n",
       "0                     cp0  \n",
       "1                     cp1  "
      ]
     },
     "execution_count": 21,
     "metadata": {},
     "output_type": "execute_result"
    }
   ],
   "source": [
    "conferencesDF.head(2)"
   ]
  },
  {
   "cell_type": "code",
   "execution_count": 22,
   "id": "cfde65f2-c0f4-4387-8b47-c838de896810",
   "metadata": {},
   "outputs": [],
   "source": [
    "# Connecting FinalPaper -- [isPublishedInConference] --> Proceedings & FinalPaper -- [isPublishedInJournal] --> Volume instances to the tbox\n",
    "# g.add((LAB.FinalPaper, LAB.isPublishedInConference, LAB.Proceedings))\n",
    "# g.add((LAB.FinalPaper, LAB.isPublishedInJournal, LAB.Volume))\n",
    "for k in range(len(finalPapersDF['paperId'])):\n",
    "    if finalPapersDF['conferenceJournalId'][k][0] == 'c':\n",
    "        g.add((URIRef(LAB+finalPapersDF['proceedingsVolume'][k]), RDF.type, LAB.Proceedings))\n",
    "    else:\n",
    "        g.add((URIRef(LAB+finalPapersDF['proceedingsVolume'][k]), RDF.type, LAB.Volume))"
   ]
  },
  {
   "cell_type": "markdown",
   "id": "e57500e2-fcef-498b-b3ff-4a7003147c2c",
   "metadata": {
    "tags": []
   },
   "source": [
    "#### Proceedings -- [proceedingsRelatedTo] --> SubjectDomain & Volumes -- [volumeRelatedTo] --> SubjectDomain"
   ]
  },
  {
   "cell_type": "code",
   "execution_count": 23,
   "id": "fac62eff-a5a6-4287-9d3a-f0c4241ba61e",
   "metadata": {},
   "outputs": [
    {
     "data": {
      "text/html": [
       "<div>\n",
       "<style scoped>\n",
       "    .dataframe tbody tr th:only-of-type {\n",
       "        vertical-align: middle;\n",
       "    }\n",
       "\n",
       "    .dataframe tbody tr th {\n",
       "        vertical-align: top;\n",
       "    }\n",
       "\n",
       "    .dataframe thead th {\n",
       "        text-align: right;\n",
       "    }\n",
       "</style>\n",
       "<table border=\"1\" class=\"dataframe\">\n",
       "  <thead>\n",
       "    <tr style=\"text-align: right;\">\n",
       "      <th></th>\n",
       "      <th>conferenceJournalId</th>\n",
       "      <th>proceedingsVolumeIds</th>\n",
       "      <th>subjectDomainId</th>\n",
       "    </tr>\n",
       "  </thead>\n",
       "  <tbody>\n",
       "    <tr>\n",
       "      <th>0</th>\n",
       "      <td>j0</td>\n",
       "      <td>jv0</td>\n",
       "      <td>d0</td>\n",
       "    </tr>\n",
       "    <tr>\n",
       "      <th>1</th>\n",
       "      <td>j0</td>\n",
       "      <td>jv0</td>\n",
       "      <td>d1</td>\n",
       "    </tr>\n",
       "  </tbody>\n",
       "</table>\n",
       "</div>"
      ],
      "text/plain": [
       "  conferenceJournalId proceedingsVolumeIds subjectDomainId\n",
       "0                  j0                  jv0              d0\n",
       "1                  j0                  jv0              d1"
      ]
     },
     "execution_count": 23,
     "metadata": {},
     "output_type": "execute_result"
    }
   ],
   "source": [
    "subjectsProceedingsVolumesDF.head(2)"
   ]
  },
  {
   "cell_type": "code",
   "execution_count": 24,
   "id": "a066a758-7c28-46eb-930f-358c8e4260d6",
   "metadata": {},
   "outputs": [],
   "source": [
    "# Connecting Proceedings -- [proceedingsRelatedTo] --> SubjectDomain & Volumes -- [volumeRelatedTo] --> SubjectDomain instances to the tbox\n",
    "# g.add((LAB.Proceedings, LAB.proceedingRelatedTo, LAB.SubjectDomain))\n",
    "# g.add((LAB.Volume, LAB.volumeRelatedTo, LAB.SubjectDomain))\n",
    "for k in range(len(subjectsProceedingsVolumesDF['proceedingsVolumeIds'])):\n",
    "    curr_confJour_keyword = subjectsProceedingsVolumesDF['subjectDomainId'][k]\n",
    "    if subjectsProceedingsVolumesDF['proceedingsVolumeIds'][k][0] == 'c':\n",
    "        g.add((URIRef(LAB+subjectsProceedingsVolumesDF['proceedingsVolumeIds'][k]), RDF.type, LAB.Proceedings))\n",
    "    else:\n",
    "        g.add((URIRef(LAB+subjectsProceedingsVolumesDF['proceedingsVolumeIds'][k]), RDF.type, LAB.Volume))"
   ]
  },
  {
   "cell_type": "markdown",
   "id": "bbc195f5-06e9-4402-aeca-11efa5dfddb6",
   "metadata": {
    "tags": []
   },
   "source": [
    "#### Creating Chair -- [handleConference] --> Conference & Editor -- [handleJournal] --> [Journal]"
   ]
  },
  {
   "cell_type": "code",
   "execution_count": 25,
   "id": "b56e0587-d823-4f27-bc7f-fa8ddb87a0db",
   "metadata": {},
   "outputs": [
    {
     "data": {
      "text/html": [
       "<div>\n",
       "<style scoped>\n",
       "    .dataframe tbody tr th:only-of-type {\n",
       "        vertical-align: middle;\n",
       "    }\n",
       "\n",
       "    .dataframe tbody tr th {\n",
       "        vertical-align: top;\n",
       "    }\n",
       "\n",
       "    .dataframe thead th {\n",
       "        text-align: right;\n",
       "    }\n",
       "</style>\n",
       "<table border=\"1\" class=\"dataframe\">\n",
       "  <thead>\n",
       "    <tr style=\"text-align: right;\">\n",
       "      <th></th>\n",
       "      <th>conferenceId</th>\n",
       "      <th>chairId</th>\n",
       "      <th>authorId</th>\n",
       "    </tr>\n",
       "  </thead>\n",
       "  <tbody>\n",
       "    <tr>\n",
       "      <th>0</th>\n",
       "      <td>c14</td>\n",
       "      <td>chair0</td>\n",
       "      <td>a8258</td>\n",
       "    </tr>\n",
       "    <tr>\n",
       "      <th>1</th>\n",
       "      <td>c0</td>\n",
       "      <td>chair1</td>\n",
       "      <td>a9757</td>\n",
       "    </tr>\n",
       "  </tbody>\n",
       "</table>\n",
       "</div>"
      ],
      "text/plain": [
       "  conferenceId chairId authorId\n",
       "0          c14  chair0    a8258\n",
       "1           c0  chair1    a9757"
      ]
     },
     "execution_count": 25,
     "metadata": {},
     "output_type": "execute_result"
    }
   ],
   "source": [
    "chairsDF.head(2)"
   ]
  },
  {
   "cell_type": "code",
   "execution_count": 26,
   "id": "257bd364-7788-48c0-9f0e-ad19aea801d0",
   "metadata": {},
   "outputs": [],
   "source": [
    "# Connecting Creating Chair -- [handleConference] --> Conference instances to the tbox\n",
    "# g.add((LAB.Chair, LAB.handleConference, LAB.Conference))\n",
    "for k in range(len(chairsDF['conferenceId'])):\n",
    "    g.add((URIRef(LAB+chairsDF['authorId'][k]), RDF.type, LAB.Chair))\n",
    "    g.add((URIRef(LAB+chairsDF['conferenceId'][k]), RDF.type, LAB.Conference))"
   ]
  },
  {
   "cell_type": "code",
   "execution_count": 27,
   "id": "b8287e6d-2ab0-4256-85d6-97a8bd532410",
   "metadata": {},
   "outputs": [
    {
     "data": {
      "text/html": [
       "<div>\n",
       "<style scoped>\n",
       "    .dataframe tbody tr th:only-of-type {\n",
       "        vertical-align: middle;\n",
       "    }\n",
       "\n",
       "    .dataframe tbody tr th {\n",
       "        vertical-align: top;\n",
       "    }\n",
       "\n",
       "    .dataframe thead th {\n",
       "        text-align: right;\n",
       "    }\n",
       "</style>\n",
       "<table border=\"1\" class=\"dataframe\">\n",
       "  <thead>\n",
       "    <tr style=\"text-align: right;\">\n",
       "      <th></th>\n",
       "      <th>journalId</th>\n",
       "      <th>editorId</th>\n",
       "      <th>authorId</th>\n",
       "    </tr>\n",
       "  </thead>\n",
       "  <tbody>\n",
       "    <tr>\n",
       "      <th>0</th>\n",
       "      <td>j0</td>\n",
       "      <td>editor0</td>\n",
       "      <td>a6023</td>\n",
       "    </tr>\n",
       "    <tr>\n",
       "      <th>1</th>\n",
       "      <td>j1</td>\n",
       "      <td>editor1</td>\n",
       "      <td>a6532</td>\n",
       "    </tr>\n",
       "  </tbody>\n",
       "</table>\n",
       "</div>"
      ],
      "text/plain": [
       "  journalId editorId authorId\n",
       "0        j0  editor0    a6023\n",
       "1        j1  editor1    a6532"
      ]
     },
     "execution_count": 27,
     "metadata": {},
     "output_type": "execute_result"
    }
   ],
   "source": [
    "editorsDF.head(2)"
   ]
  },
  {
   "cell_type": "code",
   "execution_count": 28,
   "id": "79b6d4d2-52e3-486a-9659-9d5900012a62",
   "metadata": {},
   "outputs": [],
   "source": [
    "# Connecting Editor -- [handleJournal] --> [Journal] instances to the tbox\n",
    "g.add((LAB.Editor, LAB.handleJournal, LAB.Journal))\n",
    "for k in range(len(editorsDF['journalId'])):\n",
    "    g.add((URIRef(LAB+editorsDF['authorId'][k]), RDF.type, LAB.Editor))\n",
    "    g.add((URIRef(LAB+editorsDF['journalId'][k]), RDF.type, LAB.Journal))"
   ]
  },
  {
   "cell_type": "markdown",
   "id": "3860efd6-b94c-49e0-a7c9-e75a514e0ea3",
   "metadata": {},
   "source": [
    "#### Creating Handler -- [assigns] --> Reviewer: #TODO:"
   ]
  },
  {
   "cell_type": "code",
   "execution_count": 29,
   "id": "ee5aadba-63db-4ca4-9b99-21f65857b3bf",
   "metadata": {},
   "outputs": [
    {
     "data": {
      "text/html": [
       "<div>\n",
       "<style scoped>\n",
       "    .dataframe tbody tr th:only-of-type {\n",
       "        vertical-align: middle;\n",
       "    }\n",
       "\n",
       "    .dataframe tbody tr th {\n",
       "        vertical-align: top;\n",
       "    }\n",
       "\n",
       "    .dataframe thead th {\n",
       "        text-align: right;\n",
       "    }\n",
       "</style>\n",
       "<table border=\"1\" class=\"dataframe\">\n",
       "  <thead>\n",
       "    <tr style=\"text-align: right;\">\n",
       "      <th></th>\n",
       "      <th>handlerId</th>\n",
       "      <th>conferenceJournalId</th>\n",
       "      <th>authorId</th>\n",
       "    </tr>\n",
       "  </thead>\n",
       "  <tbody>\n",
       "    <tr>\n",
       "      <th>0</th>\n",
       "      <td>chair0</td>\n",
       "      <td>c14</td>\n",
       "      <td>a3224</td>\n",
       "    </tr>\n",
       "    <tr>\n",
       "      <th>1</th>\n",
       "      <td>chair0</td>\n",
       "      <td>c14</td>\n",
       "      <td>a7848</td>\n",
       "    </tr>\n",
       "  </tbody>\n",
       "</table>\n",
       "</div>"
      ],
      "text/plain": [
       "  handlerId conferenceJournalId authorId\n",
       "0    chair0                 c14    a3224\n",
       "1    chair0                 c14    a7848"
      ]
     },
     "execution_count": 29,
     "metadata": {},
     "output_type": "execute_result"
    }
   ],
   "source": [
    "handlerReviewersDF.head(2)"
   ]
  },
  {
   "cell_type": "code",
   "execution_count": 30,
   "id": "cfe1fdb1-9322-45a1-b7a7-3c1ebf9d94a1",
   "metadata": {},
   "outputs": [],
   "source": [
    "# Connecting Handler -- [assigns] --> Reviewer instances to the tbox\n",
    "# g.add((LAB.Handler,LAB.assigns,LAB.Reviewer))\n",
    "for k in range(len(handlerReviewersDF['handlerId'])):\n",
    "    g.add((URIRef(LAB+handlerReviewersDF['authorId'][k]), RDF.type, LAB.Reviewer))"
   ]
  },
  {
   "cell_type": "markdown",
   "id": "1be9cd0b-fe3f-4cb4-8d0c-041d4b2dfdb3",
   "metadata": {
    "tags": []
   },
   "source": [
    "### Creating Reviewer -- [reviewed] --> ReviewText"
   ]
  },
  {
   "cell_type": "code",
   "execution_count": 31,
   "id": "8db16597",
   "metadata": {
    "collapsed": false,
    "jupyter": {
     "outputs_hidden": false
    }
   },
   "outputs": [
    {
     "data": {
      "text/html": [
       "<div>\n",
       "<style scoped>\n",
       "    .dataframe tbody tr th:only-of-type {\n",
       "        vertical-align: middle;\n",
       "    }\n",
       "\n",
       "    .dataframe tbody tr th {\n",
       "        vertical-align: top;\n",
       "    }\n",
       "\n",
       "    .dataframe thead th {\n",
       "        text-align: right;\n",
       "    }\n",
       "</style>\n",
       "<table border=\"1\" class=\"dataframe\">\n",
       "  <thead>\n",
       "    <tr style=\"text-align: right;\">\n",
       "      <th></th>\n",
       "      <th>rId</th>\n",
       "      <th>submissionId</th>\n",
       "      <th>authorId</th>\n",
       "      <th>authorUrl</th>\n",
       "      <th>authorName</th>\n",
       "      <th>paperId</th>\n",
       "      <th>paperTitle</th>\n",
       "      <th>paperAbstract</th>\n",
       "      <th>conferenceJournalId</th>\n",
       "      <th>conferenceJournalTitle</th>\n",
       "      <th>proceedingsVolume</th>\n",
       "      <th>decision</th>\n",
       "    </tr>\n",
       "  </thead>\n",
       "  <tbody>\n",
       "    <tr>\n",
       "      <th>0</th>\n",
       "      <td>r0</td>\n",
       "      <td>s0</td>\n",
       "      <td>a1576</td>\n",
       "      <td>49051967</td>\n",
       "      <td>Gabriella M. Harari</td>\n",
       "      <td>p0</td>\n",
       "      <td>Reproducible, interactive, scalable and extens...</td>\n",
       "      <td>Abstract content goes here ...</td>\n",
       "      <td>j0</td>\n",
       "      <td>Nature Biotechnology</td>\n",
       "      <td>jv0</td>\n",
       "      <td>rejected</td>\n",
       "    </tr>\n",
       "    <tr>\n",
       "      <th>1</th>\n",
       "      <td>r1</td>\n",
       "      <td>s0</td>\n",
       "      <td>a1989</td>\n",
       "      <td>74025114</td>\n",
       "      <td>S. Managau</td>\n",
       "      <td>p0</td>\n",
       "      <td>Reproducible, interactive, scalable and extens...</td>\n",
       "      <td>Abstract content goes here ...</td>\n",
       "      <td>j0</td>\n",
       "      <td>Nature Biotechnology</td>\n",
       "      <td>jv0</td>\n",
       "      <td>rejected</td>\n",
       "    </tr>\n",
       "  </tbody>\n",
       "</table>\n",
       "</div>"
      ],
      "text/plain": [
       "  rId submissionId authorId authorUrl           authorName paperId  \\\n",
       "0  r0           s0    a1576  49051967  Gabriella M. Harari      p0   \n",
       "1  r1           s0    a1989  74025114           S. Managau      p0   \n",
       "\n",
       "                                          paperTitle  \\\n",
       "0  Reproducible, interactive, scalable and extens...   \n",
       "1  Reproducible, interactive, scalable and extens...   \n",
       "\n",
       "                    paperAbstract conferenceJournalId conferenceJournalTitle  \\\n",
       "0  Abstract content goes here ...                  j0   Nature Biotechnology   \n",
       "1  Abstract content goes here ...                  j0   Nature Biotechnology   \n",
       "\n",
       "  proceedingsVolume  decision  \n",
       "0               jv0  rejected  \n",
       "1               jv0  rejected  "
      ]
     },
     "execution_count": 31,
     "metadata": {},
     "output_type": "execute_result"
    }
   ],
   "source": [
    "reviewersDF.head(2)"
   ]
  },
  {
   "cell_type": "code",
   "execution_count": 32,
   "id": "aeaf61c8-7204-4732-8bd5-ef16f54eea1b",
   "metadata": {},
   "outputs": [],
   "source": [
    "# Connecting Reviewer -- [reviewed] --> ReviewText instances to the tbox\n",
    "# g.add((LAB.Reviewer, LAB.reviewed, LAB.ReviewText))\n",
    "for k in range(len(reviewersDF['rId'])):\n",
    "    g.add((URIRef(LAB+reviewersDF['conferenceJournalId'][k]), RDF.type, LAB.ReviewText))"
   ]
  },
  {
   "cell_type": "markdown",
   "id": "0b40f9da-c906-4dab-bb51-9e95dd861b5d",
   "metadata": {
    "tags": []
   },
   "source": [
    "#### Creating ReviewText -- [isReviewOf] --> SubmittedPaper"
   ]
  },
  {
   "cell_type": "code",
   "execution_count": 33,
   "id": "5711b86c",
   "metadata": {
    "collapsed": false,
    "jupyter": {
     "outputs_hidden": false
    }
   },
   "outputs": [
    {
     "data": {
      "text/html": [
       "<div>\n",
       "<style scoped>\n",
       "    .dataframe tbody tr th:only-of-type {\n",
       "        vertical-align: middle;\n",
       "    }\n",
       "\n",
       "    .dataframe tbody tr th {\n",
       "        vertical-align: top;\n",
       "    }\n",
       "\n",
       "    .dataframe thead th {\n",
       "        text-align: right;\n",
       "    }\n",
       "</style>\n",
       "<table border=\"1\" class=\"dataframe\">\n",
       "  <thead>\n",
       "    <tr style=\"text-align: right;\">\n",
       "      <th></th>\n",
       "      <th>reviewId</th>\n",
       "      <th>submittedPaperId</th>\n",
       "      <th>reviewText</th>\n",
       "      <th>reviewDecision</th>\n",
       "      <th>reviewDecisionBoolean</th>\n",
       "      <th>submittedPaperTitle</th>\n",
       "    </tr>\n",
       "  </thead>\n",
       "  <tbody>\n",
       "    <tr>\n",
       "      <th>0</th>\n",
       "      <td>r0</td>\n",
       "      <td>s0</td>\n",
       "      <td>content of the reviewed text goes here....</td>\n",
       "      <td>rejected</td>\n",
       "      <td>0</td>\n",
       "      <td>Reproducible, interactive, scalable and extens...</td>\n",
       "    </tr>\n",
       "    <tr>\n",
       "      <th>1</th>\n",
       "      <td>r1</td>\n",
       "      <td>s1</td>\n",
       "      <td>content of the reviewed text goes here....</td>\n",
       "      <td>accepted</td>\n",
       "      <td>1</td>\n",
       "      <td>High-Dimensional Probability: An Introduction ...</td>\n",
       "    </tr>\n",
       "  </tbody>\n",
       "</table>\n",
       "</div>"
      ],
      "text/plain": [
       "  reviewId submittedPaperId                                  reviewText  \\\n",
       "0       r0               s0  content of the reviewed text goes here....   \n",
       "1       r1               s1  content of the reviewed text goes here....   \n",
       "\n",
       "  reviewDecision  reviewDecisionBoolean  \\\n",
       "0       rejected                      0   \n",
       "1       accepted                      1   \n",
       "\n",
       "                                 submittedPaperTitle  \n",
       "0  Reproducible, interactive, scalable and extens...  \n",
       "1  High-Dimensional Probability: An Introduction ...  "
      ]
     },
     "execution_count": 33,
     "metadata": {},
     "output_type": "execute_result"
    }
   ],
   "source": [
    "reviewsDF.head(2)"
   ]
  },
  {
   "cell_type": "code",
   "execution_count": 34,
   "id": "f0843294-033d-4175-819c-97f48e6fa864",
   "metadata": {},
   "outputs": [],
   "source": [
    "# Connecting ReviewText -- [isReviewOf] --> SubmittedPaper instances to the tbox\n",
    "# g.add((LAB.ReviewText, LAB.isReviewOf, LAB.SubmittedPaper))\n",
    "for k in range(len(reviewsDF['reviewId'])):\n",
    "    g.add((URIRef(LAB+reviewsDF['submittedPaperId'][k]), RDF.type, LAB.SubmittedPaper))"
   ]
  },
  {
   "cell_type": "markdown",
   "id": "0ddb6f90-f301-4643-a3df-43e89e8587be",
   "metadata": {
    "tags": []
   },
   "source": [
    "#### Paper -- [paperTitle] --> String "
   ]
  },
  {
   "cell_type": "code",
   "execution_count": 35,
   "id": "1397465d-b66c-4dfe-a452-7fcab620a3ad",
   "metadata": {},
   "outputs": [],
   "source": [
    "# Connecting Paper -- [paperTitle] --> String instances to the tbox\n",
    "# g.add((LAB.Paper, LAB.paperTitle, XSD.string))\n",
    "# for k in range(len(papersDF['paperId'])):\n",
    "#     g.add((URIRef(LAB+papersDF['paperId'][k]), LAB.paperTitle, Literal(papersDF['paperTitle'][k])))"
   ]
  },
  {
   "cell_type": "markdown",
   "id": "74302209-390d-475b-88f4-168350893762",
   "metadata": {
    "tags": []
   },
   "source": [
    "#### Paper -- [paperAbstract] --> String"
   ]
  },
  {
   "cell_type": "code",
   "execution_count": 36,
   "id": "bf3d4652-77b3-49dd-a5e2-72305842dfcf",
   "metadata": {},
   "outputs": [],
   "source": [
    "# Connecting Paper -- [paperAbstract] --> String instances to the tbox\n",
    "# g.add((LAB.Paper, LAB.paperAbstract, XSD.string))\n",
    "# for k in range(len(papersDF['paperId'])):\n",
    "#     g.add((URIRef(LAB+papersDF['paperId'][k]), LAB.paperAbstract, Literal(papersDF['paperAbstract'][k])))"
   ]
  },
  {
   "cell_type": "markdown",
   "id": "e3f8c6c9-4009-4a5a-855f-36c5c5abf9f6",
   "metadata": {
    "tags": []
   },
   "source": [
    "#### Author -- [authorName] --> String "
   ]
  },
  {
   "cell_type": "code",
   "execution_count": 37,
   "id": "67d0d267-c561-4f35-b411-4db13193cb0a",
   "metadata": {},
   "outputs": [],
   "source": [
    "# Connecting Paper -- [authorName] --> String instances to the tbox\n",
    "# g.add((LAB.Author, LAB.authorName, XSD.string))\n",
    "# for k in range(len(authorsDF['authorId'])):\n",
    "#     g.add((URIRef(LAB+authorsDF['authorId'][k]), LAB.authorName, Literal(authorsDF['authorName'][k])))"
   ]
  },
  {
   "cell_type": "markdown",
   "id": "3c958fc2-b8ec-4634-b1fa-e3ae7f4ee55c",
   "metadata": {
    "tags": []
   },
   "source": [
    "#### Journal -- [journalTitle] --> String"
   ]
  },
  {
   "cell_type": "code",
   "execution_count": 38,
   "id": "efc97b09-8d09-4918-a901-ed00f817d456",
   "metadata": {},
   "outputs": [],
   "source": [
    "# Connecting Journal -- [journalTitle] --> String instances to the tbox\n",
    "# g.add((LAB.Journal, LAB.journalTitle, XSD.string))\n",
    "# for k in range(len(journalsDF['journalId'])):\n",
    "#     g.add((URIRef(LAB+journalsDF['journalId'][k]), LAB.journalTitle, Literal(journalsDF['journalTitle'][k])))\n",
    "    # g.add((Literal(journalsDF['journalTitle'][k]), RDF.type, LAB.journalTitle))"
   ]
  },
  {
   "cell_type": "markdown",
   "id": "197500ba-8aee-4f44-bc3e-4ebe5fc9d13e",
   "metadata": {
    "tags": []
   },
   "source": [
    "#### Conference -- [conferenceTitle] --> String "
   ]
  },
  {
   "cell_type": "code",
   "execution_count": 39,
   "id": "5b0b6fc1-67c1-48b1-97f3-625f014be913",
   "metadata": {},
   "outputs": [],
   "source": [
    "# Connecting Conference -- [conferenceTitle] --> String instances to the tbox\n",
    "# g.add((LAB.Conference, LAB.conferenceTitle, XSD.string))\n",
    "# for k in range(len(conferencesDF['conferenceId'])):\n",
    "#     g.add((URIRef(LAB+conferencesDF['conferenceId'][k]), LAB.conferenceTitle, Literal(conferencesDF['conferenceTitle'][k])))"
   ]
  },
  {
   "cell_type": "markdown",
   "id": "a1c8d9f8-f097-499c-a398-054f963833b0",
   "metadata": {
    "tags": []
   },
   "source": [
    "#### Proceedings -- [proceedingName] --> String "
   ]
  },
  {
   "cell_type": "code",
   "execution_count": 40,
   "id": "decddcd3-069c-4658-b475-e47192811c82",
   "metadata": {},
   "outputs": [],
   "source": [
    "# Connecting Proceedings -- [proceedingName] --> String instances to the tbox\n",
    "# g.add((LAB.Proceedings, LAB.proceedingName, XSD.string))\n",
    "# for k in range(len(proceedingsDF['proceedingId'])):\n",
    "#     g.add((URIRef(LAB+proceedingsDF['proceedingId'][k]), LAB.proceedingName, Literal(proceedingsDF['proceedingName'][k])))"
   ]
  },
  {
   "cell_type": "markdown",
   "id": "721d0525-be51-4b1b-acff-b259c07937a8",
   "metadata": {
    "tags": []
   },
   "source": [
    "#### Proceedings -- [proceedingYear] --> int"
   ]
  },
  {
   "cell_type": "code",
   "execution_count": 41,
   "id": "f2699f98-19fe-4f52-9cf9-d35afa7c48c3",
   "metadata": {},
   "outputs": [],
   "source": [
    "# Connecting Proceedings -- [proceedingYear] --> int instances to the tbox\n",
    "# g.add((LAB.Proceedings, LAB.proceedingYear, XSD.int))\n",
    "# for k in range(len(proceedingsDF['proceedingId'])):\n",
    "#     g.add((URIRef(LAB+proceedingsDF['proceedingId'][k]), LAB.proceedingYear, Literal(proceedingsDF['proceedingYear'][k])))"
   ]
  },
  {
   "cell_type": "markdown",
   "id": "89a2a52b-480d-460f-bd3e-ebc92d13caf8",
   "metadata": {
    "tags": []
   },
   "source": [
    "#### Volume -- [volumeName] --> String "
   ]
  },
  {
   "cell_type": "code",
   "execution_count": 42,
   "id": "a82d63fe-9329-4372-835a-9de00dffc2bb",
   "metadata": {},
   "outputs": [],
   "source": [
    "# Connecting Volume -- [volumeName] --> String instances to the tbox\n",
    "# g.add((LAB.Volume, LAB.volumeName, XSD.string))\n",
    "# for k in range(len(volumesDF['volumeId'])):\n",
    "#     g.add((URIRef(LAB+volumesDF['volumeId'][k]), LAB.volumeName, Literal(volumesDF['volumeName'][k])))"
   ]
  },
  {
   "cell_type": "markdown",
   "id": "0e2c5124-a2b6-4ae7-95db-9ebaeb27000f",
   "metadata": {
    "tags": []
   },
   "source": [
    "#### Volume -- [volumeYear] --> int"
   ]
  },
  {
   "cell_type": "code",
   "execution_count": 43,
   "id": "4e24c286-309a-4993-997a-8aa79c9c78e9",
   "metadata": {},
   "outputs": [],
   "source": [
    "# Connecting Volume -- [volumeYear] --> int instances to the tbox\n",
    "# g.add((LAB.Volume, LAB.volumeYear, XSD.int))\n",
    "# for k in range(len(volumesDF['volumeId'])):\n",
    "#     g.add((URIRef(LAB+volumesDF['volumeId'][k]), LAB.volumeYear, Literal(volumesDF['volumeYear'][k])))"
   ]
  },
  {
   "cell_type": "markdown",
   "id": "8a79af5f-1a60-472a-af53-792342feed57",
   "metadata": {
    "tags": []
   },
   "source": [
    "#### SubjectDomain -- [keywords] --> String"
   ]
  },
  {
   "cell_type": "code",
   "execution_count": 44,
   "id": "bb5d79d7-c484-4eca-bbdd-61cfbda8497c",
   "metadata": {},
   "outputs": [],
   "source": [
    "# Connecting SubjectDomain -- [keywords] --> String instances to the tbox\n",
    "# g.add((LAB.SubjectDomain, LAB.keywords, XSD.string))\n",
    "for k in range(len(subjectDomainDF['subjectDomainId'])):\n",
    "    g.add((URIRef(LAB+subjectDomainDF['subjectDomainId'][k]), RDF.type, LAB.SubjectDomain))"
   ]
  },
  {
   "cell_type": "markdown",
   "id": "da4a1ac7-dd56-4d65-bf99-2940d6967a69",
   "metadata": {
    "tags": []
   },
   "source": [
    "#### ReviewText -- [comment] --> String"
   ]
  },
  {
   "cell_type": "code",
   "execution_count": 45,
   "id": "a962d0d9-085a-4307-8005-e8f4c6811916",
   "metadata": {},
   "outputs": [],
   "source": [
    "# Connecting ReviewText -- [comment] --> String instances to the tbox\n",
    "# g.add((LAB.ReviewText, LAB.comment, XSD.string))\n",
    "# for k in range(len(reviewsDF['reviewId'])):\n",
    "#   g.add((URIRef(LAB+reviewsDF['reviewId'][k]), LAB.comment, Literal(reviewsDF['reviewText'][k])))"
   ]
  },
  {
   "cell_type": "markdown",
   "id": "c49a9653-cc3a-4ce6-b950-20316156e5e9",
   "metadata": {
    "tags": []
   },
   "source": [
    "#### ReviewText -- [decision] --> boolean "
   ]
  },
  {
   "cell_type": "code",
   "execution_count": 46,
   "id": "881bb39c-9e26-4494-a4a5-176f8265a865",
   "metadata": {},
   "outputs": [],
   "source": [
    "# Connecting ReviewText -- [decision] --> boolean instances to the tbox, wherein 1 - Accepted, 0 - Rejected\n",
    "# g.add((LAB.ReviewText, LAB.decision, XSD.boolean))\n",
    "# for k in range(len(reviewsDF['reviewId'])):\n",
    "#     g.add((URIRef(LAB+reviewsDF['reviewId'][k]), LAB.decision, Literal(reviewsDF['reviewDecisionBoolean'][k])))"
   ]
  },
  {
   "cell_type": "markdown",
   "id": "22e173f4-7258-4734-b490-70e244803a2a",
   "metadata": {
    "tags": []
   },
   "source": [
    "#### FinalPaper -- [paperAcceptanceDate] --> date"
   ]
  },
  {
   "cell_type": "code",
   "execution_count": 47,
   "id": "952f35af-d30e-432d-b988-e2d39bfbacb4",
   "metadata": {},
   "outputs": [],
   "source": [
    "# Connecting FinalPaper -- [paperAcceptanceDate] --> date instances to the tbox\n",
    "# g.add((LAB.FinalPaper, LAB.paperAcceptanceDate, XSD.date))\n",
    "# for k in range(len(finalPapersDF['paperId'])):\n",
    "#     g.add((URIRef(LAB+finalPapersDF['paperId'][k]), LAB.paperAcceptanceDate, Literal(finalPapersDF['acceptanceDate'][k])))"
   ]
  },
  {
   "cell_type": "markdown",
   "id": "e9cbf8cb-6434-40a7-9c4c-e01aecbf97d6",
   "metadata": {
    "tags": []
   },
   "source": [
    "#### Creating output"
   ]
  },
  {
   "cell_type": "code",
   "execution_count": 48,
   "id": "357195a7-f64f-4d27-b8a0-1757e433e9cf",
   "metadata": {},
   "outputs": [
    {
     "data": {
      "text/plain": [
       "<Graph identifier=N39af188f08504a988ecb275d35c34fab (<class 'rdflib.graph.Graph'>)>"
      ]
     },
     "execution_count": 48,
     "metadata": {},
     "output_type": "execute_result"
    }
   ],
   "source": [
    "g.serialize('data/tbox_abox_connection.ttl',format = 'ttl')"
   ]
  }
 ],
 "metadata": {
  "kernelspec": {
   "display_name": "Python 3 (ipykernel)",
   "language": "python",
   "name": "python3"
  },
  "language_info": {
   "codemirror_mode": {
    "name": "ipython",
    "version": 3
   },
   "file_extension": ".py",
   "mimetype": "text/x-python",
   "name": "python",
   "nbconvert_exporter": "python",
   "pygments_lexer": "ipython3",
   "version": "3.9.6"
  }
 },
 "nbformat": 4,
 "nbformat_minor": 5
}
