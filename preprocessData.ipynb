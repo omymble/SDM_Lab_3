{
 "cells": [
  {
   "cell_type": "code",
   "execution_count": 2,
   "id": "75d50f8f-eb6e-4137-8088-a7c3878b384c",
   "metadata": {},
   "outputs": [],
   "source": [
    "import json\n",
    "import pandas as pd\n",
    "import random\n",
    "random.seed(10)"
   ]
  },
  {
   "cell_type": "code",
   "execution_count": 3,
   "id": "38c06104-b018-4c2b-b58c-5762c750248d",
   "metadata": {},
   "outputs": [],
   "source": [
    "with open('data/dataset.json', encoding='utf-8') as inputfile:\n",
    "    df = json.load(inputfile)\n",
    "inputfile.close()"
   ]
  },
  {
   "cell_type": "markdown",
   "id": "ad263006-b970-4fea-9d81-6456fc385e7c",
   "metadata": {
    "tags": []
   },
   "source": [
    "### Collecting details about journals, conferences, authors, fieldsOfStudy"
   ]
  },
  {
   "cell_type": "code",
   "execution_count": 29,
   "id": "9e967c89-efae-4d1b-abb4-f39d8fd13360",
   "metadata": {},
   "outputs": [],
   "source": [
    "conferences = []\n",
    "conferenceUrls = []\n",
    "\n",
    "journals = []\n",
    "journalUrls = []\n",
    "\n",
    "authors = []\n",
    "authorUrls = []\n",
    "\n",
    "fieldsOfStudy = []\n",
    "\n",
    "for i in range(len(df)):\n",
    "    details = df[i]['_data']  \n",
    "    if details['publicationVenue']:\n",
    "        if 'type' in details['publicationVenue']:\n",
    "            if details['publicationVenue']['type'] == 'journal':\n",
    "                jName = details['publicationVenue']['name']\n",
    "                myId = details['publicationVenue']['id']\n",
    "                if jName not in journals:\n",
    "                    journals.append(jName)\n",
    "                    journalUrls.append(myId)\n",
    "            elif details['publicationVenue']['type'] == 'conference':\n",
    "                cName = details['publicationVenue']['name']\n",
    "                myId = details['publicationVenue']['id']\n",
    "                if cName not in conferences:\n",
    "                    conferences.append(cName)\n",
    "                    conferenceUrls.append(myId)\n",
    "    if details['authors']:\n",
    "        for i in range(len(details['authors'])):\n",
    "            aName = details['authors'][i]['name']\n",
    "            myId = details['authors'][i]['authorId']\n",
    "            if aName not in authors:\n",
    "                authors.append(aName)\n",
    "                authorUrls.append(myId)\n",
    "    if details['fieldsOfStudy']:\n",
    "        for i in details['fieldsOfStudy']:\n",
    "            if i not in fieldsOfStudy:\n",
    "                fieldsOfStudy.append(i)"
   ]
  },
  {
   "cell_type": "markdown",
   "id": "6aee8257-9054-4719-8cc9-8709bc9bb604",
   "metadata": {},
   "source": [
    "#### Conferences"
   ]
  },
  {
   "cell_type": "code",
   "execution_count": 5,
   "id": "36758d36-e114-48d7-8c93-e2320fb6fcd0",
   "metadata": {},
   "outputs": [],
   "source": [
    "# assigning conference ids\n",
    "# conferenceColumns = ['cId','cTitle','cUrlId','cType','cProceedings']\n",
    "\n",
    "ids = []\n",
    "proceedings = []\n",
    "for i in range(len(conferences)):\n",
    "    ids.append('c'+str(i))\n",
    "    \n",
    "    # Creating proceedings value as a random integer between (1,10)\n",
    "    proceedings.append(random.randint(1,10))\n",
    "        \n",
    "conferencesDF = pd.DataFrame(ids, columns = ['cId'])"
   ]
  },
  {
   "cell_type": "code",
   "execution_count": 6,
   "id": "eeeda63e-bc57-48f9-8bc4-68a03dd2fc35",
   "metadata": {},
   "outputs": [],
   "source": [
    "# assigning conference subclasses\n",
    "# randomly choose from cTypes\n",
    "cTypes = ['workshop','expertGroup','symposium','regularConference']\n",
    "\n",
    "conferenceTypes = []\n",
    "conferenceTypes = random.choices(cTypes, weights=[0.25,0.25,0.25,0.25], k=len(conferencesDF))"
   ]
  },
  {
   "cell_type": "code",
   "execution_count": 7,
   "id": "8701dd2d-196e-45b7-bbda-bca837c19096",
   "metadata": {},
   "outputs": [],
   "source": [
    "conferencesDF['cUrlId'] = conferenceUrls\n",
    "conferencesDF['cTitle'] = conferences\n",
    "conferencesDF['cType'] = conferenceTypes\n",
    "\n",
    "# Creating proceedings data for conferences\n",
    "conferencesDF['cProceedings'] = proceedings\n",
    "\n",
    "conferencesDF.to_csv('data/conferences.csv',index = False, header = True, mode = 'w')"
   ]
  },
  {
   "cell_type": "markdown",
   "id": "3367214f-a482-4d4d-981e-f9a4476fa1e9",
   "metadata": {
    "tags": []
   },
   "source": [
    "#### Journals"
   ]
  },
  {
   "cell_type": "code",
   "execution_count": 8,
   "id": "ececeec9-ce8c-4098-bb80-5bdd7f0006b9",
   "metadata": {},
   "outputs": [],
   "source": [
    "# journalColumns = ['jId','jTitle','jUrlId','jVolumes']\n",
    "\n",
    "ids = []\n",
    "volumes = []\n",
    "for i in range(len(journals)):\n",
    "    ids.append('j'+str(i))\n",
    "    \n",
    "    # Creating volumes value as a random integer between (1,10)\n",
    "    volumes.append(random.randint(0,10))\n",
    "\n",
    "journalsDF = pd.DataFrame(ids, columns = ['jId'])\n",
    "journalsDF['jUrlId'] = journalUrls\n",
    "journalsDF['jTitle'] = journals\n",
    "\n",
    "# Creating volumes data for journals\n",
    "journalsDF['jVolumes'] = volumes\n",
    "\n",
    "journalsDF.to_csv('data/journals.csv',index = False, header = True, mode = 'w')"
   ]
  },
  {
   "cell_type": "markdown",
   "id": "50af79f4-5538-4485-812e-e66e41faa132",
   "metadata": {},
   "source": [
    "#### Authors"
   ]
  },
  {
   "cell_type": "code",
   "execution_count": 39,
   "id": "f90d9d95-7df9-4792-a5bf-c85bb6c71250",
   "metadata": {},
   "outputs": [],
   "source": [
    "# authorColumns = ['aId','aName','aUrlId']\n",
    "\n",
    "ids = []\n",
    "for i in range(len(authors)):\n",
    "    ids.append('a'+str(i))\n",
    "\n",
    "authorsDF = pd.DataFrame(ids, columns = ['aId'])\n",
    "authorsDF['aUrlId'] = authorUrls\n",
    "authorsDF['aName'] = authors\n",
    "authorsDF.to_csv('data/authors.csv',index = False, header = True, mode = 'w')"
   ]
  },
  {
   "cell_type": "code",
   "execution_count": 40,
   "id": "50490190-59ff-43f3-a5a1-62366835f9b6",
   "metadata": {},
   "outputs": [
    {
     "data": {
      "text/html": [
       "<div>\n",
       "<style scoped>\n",
       "    .dataframe tbody tr th:only-of-type {\n",
       "        vertical-align: middle;\n",
       "    }\n",
       "\n",
       "    .dataframe tbody tr th {\n",
       "        vertical-align: top;\n",
       "    }\n",
       "\n",
       "    .dataframe thead th {\n",
       "        text-align: right;\n",
       "    }\n",
       "</style>\n",
       "<table border=\"1\" class=\"dataframe\">\n",
       "  <thead>\n",
       "    <tr style=\"text-align: right;\">\n",
       "      <th></th>\n",
       "      <th>aId</th>\n",
       "      <th>aUrlId</th>\n",
       "      <th>aName</th>\n",
       "    </tr>\n",
       "  </thead>\n",
       "  <tbody>\n",
       "    <tr>\n",
       "      <th>0</th>\n",
       "      <td>a0</td>\n",
       "      <td>6391996</td>\n",
       "      <td>E. Bolyen</td>\n",
       "    </tr>\n",
       "    <tr>\n",
       "      <th>1</th>\n",
       "      <td>a1</td>\n",
       "      <td>6307534</td>\n",
       "      <td>J. Rideout</td>\n",
       "    </tr>\n",
       "    <tr>\n",
       "      <th>2</th>\n",
       "      <td>a2</td>\n",
       "      <td>40950692</td>\n",
       "      <td>Matthew R. Dillon</td>\n",
       "    </tr>\n",
       "    <tr>\n",
       "      <th>3</th>\n",
       "      <td>a3</td>\n",
       "      <td>4230536</td>\n",
       "      <td>N. Bokulich</td>\n",
       "    </tr>\n",
       "    <tr>\n",
       "      <th>4</th>\n",
       "      <td>a4</td>\n",
       "      <td>5538503</td>\n",
       "      <td>C. Abnet</td>\n",
       "    </tr>\n",
       "  </tbody>\n",
       "</table>\n",
       "</div>"
      ],
      "text/plain": [
       "  aId    aUrlId              aName\n",
       "0  a0   6391996          E. Bolyen\n",
       "1  a1   6307534         J. Rideout\n",
       "2  a2  40950692  Matthew R. Dillon\n",
       "3  a3   4230536        N. Bokulich\n",
       "4  a4   5538503           C. Abnet"
      ]
     },
     "execution_count": 40,
     "metadata": {},
     "output_type": "execute_result"
    }
   ],
   "source": [
    "authorsDF.head()"
   ]
  },
  {
   "cell_type": "markdown",
   "id": "71f566c3-8379-45dd-b267-dd8caa2e6016",
   "metadata": {},
   "source": [
    "#### FieldsOfStudy"
   ]
  },
  {
   "cell_type": "code",
   "execution_count": 10,
   "id": "3c119ba8-9ee8-4281-bd2e-15d3fa684e28",
   "metadata": {},
   "outputs": [],
   "source": [
    "# fieldsOfStudyColumns = ['fId','fName']\n",
    "\n",
    "ids = []\n",
    "for i in range(len(fieldsOfStudy)):\n",
    "    ids.append('f'+str(i))\n",
    "\n",
    "fieldsOfStudyDF = pd.DataFrame(ids, columns = ['fId'])\n",
    "fieldsOfStudyDF['fName'] = fieldsOfStudy\n",
    "fieldsOfStudyDF.to_csv('data/fieldsOfStudy.csv',index = False, header = True, mode = 'w')"
   ]
  },
  {
   "cell_type": "markdown",
   "id": "f8ed274c-5f47-4bc1-9b04-919d3b59c8f6",
   "metadata": {},
   "source": [
    "### Collecting information about papers"
   ]
  },
  {
   "cell_type": "code",
   "execution_count": 11,
   "id": "1e7f6d66-0787-4aee-b973-348039d67d1c",
   "metadata": {},
   "outputs": [],
   "source": [
    "conferencesDF = pd.read_csv('data/conferences.csv')\n",
    "journalsDF = pd.read_csv('data/journals.csv')\n",
    "authorsDF = pd.read_csv('data/authors.csv')"
   ]
  },
  {
   "cell_type": "code",
   "execution_count": 67,
   "id": "2ed77e71-eed7-4b3d-9613-e5c95e869bae",
   "metadata": {},
   "outputs": [],
   "source": [
    "papers = []\n",
    "\n",
    "paperUrlNum = 0\n",
    "\n",
    "for i in range(len(df)):\n",
    "    paperCurr = [] \n",
    "    details = df[i]['_data']\n",
    "    \n",
    "    currPaperUrlNum = 'p'+str(paperUrlNum)\n",
    "    paperCurr.append(currPaperUrlNum)\n",
    "    paperCurr.append(details['paperId'])\n",
    "    \n",
    "    if details['publicationVenue']:\n",
    "        if 'type' in details['publicationVenue']:\n",
    "            if details['publicationVenue']['type'] == 'journal':\n",
    "                jName = details['publicationVenue']['name']\n",
    "                paperCurr.append(journalsDF[journalsDF['jTitle'] == jName]['jId'].values[0])\n",
    "                paperCurr.append(jName)\n",
    "            elif details['publicationVenue']['type'] == 'conference':\n",
    "                cName = details['publicationVenue']['name']\n",
    "                paperCurr.append(conferencesDF[conferencesDF['cTitle'] == cName]['cId'].values[0])\n",
    "                paperCurr.append(cName)\n",
    "\n",
    "            else:\n",
    "                paperCurr.append('None')\n",
    "                paperCurr.append('None')\n",
    "        else:\n",
    "            paperCurr.append('None')\n",
    "            paperCurr.append('None')\n",
    "    else:\n",
    "        paperCurr.append('None') # conferenceJournalUrl\n",
    "        paperCurr.append('None') # conferenceJournal\n",
    "    \n",
    "    paperCurr.append(details['title'])\n",
    "    paperCurr.append(details['abstract'])\n",
    "    paperUrlNum += 1\n",
    "    papers.append(paperCurr)"
   ]
  },
  {
   "cell_type": "code",
   "execution_count": 68,
   "id": "b27679a4-3ebf-4128-bdb9-e33892c01de7",
   "metadata": {},
   "outputs": [],
   "source": [
    "paperColumns = ['pId','paperUrlId','conferenceJournalId','conferenceJournalTitle','pTitle','abstract']\n",
    "\n",
    "papersDF = pd.DataFrame(papers, columns = paperColumns)"
   ]
  },
  {
   "cell_type": "code",
   "execution_count": 69,
   "id": "a6b592c8-75a5-4445-9891-bf2644ebeadf",
   "metadata": {},
   "outputs": [],
   "source": [
    "# Assigning paper subclasses\n",
    "# Assign type poster if not a conference/journal\n",
    "# Else, randomly choose from pTypes\n",
    "\n",
    "paperTypes = []\n",
    "pTypes = ['shortPaper','demoPaper','fullPaper']\n",
    "for index, row in papersDF.iterrows():\n",
    "    if row['conferenceJournalId'] == 'None':\n",
    "        paperTypes.append('poster')\n",
    "    else:\n",
    "        paperTypes.append(random.choice(pTypes))\n",
    "papersDF['pType'] = paperTypes"
   ]
  },
  {
   "cell_type": "code",
   "execution_count": 70,
   "id": "50ebd2df-bd60-4d2c-a4d4-844ff1172845",
   "metadata": {},
   "outputs": [],
   "source": [
    "papersDF['conferenceJournalId'] = papersDF.apply(lambda x: random.choice(conferencesDF.cId) if x['pType'] == 'poster' else x['conferenceJournalId'], axis = 1)\n",
    "papersDF['conferenceJournalTitle'] = papersDF.apply(lambda x: conferencesDF[conferencesDF['cId'] == x['conferenceJournalId']]['cTitle'].item() if x['pType'] == 'poster' else x['conferenceJournalTitle'], axis = 1)"
   ]
  },
  {
   "cell_type": "code",
   "execution_count": 71,
   "id": "c5c2921b-a773-41f7-aa98-08c48ad31a66",
   "metadata": {},
   "outputs": [],
   "source": [
    "# Imputing None values for abstract\n",
    "papersDF['abstract'] = papersDF.apply(lambda x: 'Abstract content goes here ...' if x['abstract'] == None else x['abstract'], axis = 1)"
   ]
  },
  {
   "cell_type": "code",
   "execution_count": 72,
   "id": "957563d2-46db-414d-9dc4-e57badb21f00",
   "metadata": {},
   "outputs": [
    {
     "data": {
      "text/html": [
       "<div>\n",
       "<style scoped>\n",
       "    .dataframe tbody tr th:only-of-type {\n",
       "        vertical-align: middle;\n",
       "    }\n",
       "\n",
       "    .dataframe tbody tr th {\n",
       "        vertical-align: top;\n",
       "    }\n",
       "\n",
       "    .dataframe thead th {\n",
       "        text-align: right;\n",
       "    }\n",
       "</style>\n",
       "<table border=\"1\" class=\"dataframe\">\n",
       "  <thead>\n",
       "    <tr style=\"text-align: right;\">\n",
       "      <th></th>\n",
       "      <th>pId</th>\n",
       "      <th>paperUrlId</th>\n",
       "      <th>conferenceJournalId</th>\n",
       "      <th>conferenceJournalTitle</th>\n",
       "      <th>pTitle</th>\n",
       "      <th>abstract</th>\n",
       "      <th>pType</th>\n",
       "    </tr>\n",
       "  </thead>\n",
       "  <tbody>\n",
       "    <tr>\n",
       "      <th>0</th>\n",
       "      <td>p0</td>\n",
       "      <td>0c2d3b28d48426b8b72f7214a7708ba8b4efa9d6</td>\n",
       "      <td>j0</td>\n",
       "      <td>Nature Biotechnology</td>\n",
       "      <td>Reproducible, interactive, scalable and extens...</td>\n",
       "      <td>Abstract content goes here ...</td>\n",
       "      <td>fullPaper</td>\n",
       "    </tr>\n",
       "    <tr>\n",
       "      <th>1</th>\n",
       "      <td>p1</td>\n",
       "      <td>fa5853fdef7d2f6bb68203d187ddacbbddc63a8b</td>\n",
       "      <td>c54</td>\n",
       "      <td>International Workshop on Agent-Oriented Softw...</td>\n",
       "      <td>High-Dimensional Probability: An Introduction ...</td>\n",
       "      <td>© 2018, Cambridge University Press Let us summ...</td>\n",
       "      <td>poster</td>\n",
       "    </tr>\n",
       "    <tr>\n",
       "      <th>2</th>\n",
       "      <td>p2</td>\n",
       "      <td>4c6e31458b0b44c1e8bd6e58f7d7e0767f7fde44</td>\n",
       "      <td>j1</td>\n",
       "      <td>IEEE Transactions on Knowledge and Data Engine...</td>\n",
       "      <td>CRISP-DM Twenty Years Later: From Data Mining ...</td>\n",
       "      <td>CRISP-DM(CRoss-Industry Standard Process for D...</td>\n",
       "      <td>fullPaper</td>\n",
       "    </tr>\n",
       "    <tr>\n",
       "      <th>3</th>\n",
       "      <td>p3</td>\n",
       "      <td>7282f5c9d84cd47c516a6a66c5a6b8f1e2cf44b6</td>\n",
       "      <td>c0</td>\n",
       "      <td>International Conference on Human Factors in C...</td>\n",
       "      <td>AutoDS: Towards Human-Centered Automation of D...</td>\n",
       "      <td>Data science (DS) projects often follow a life...</td>\n",
       "      <td>fullPaper</td>\n",
       "    </tr>\n",
       "    <tr>\n",
       "      <th>4</th>\n",
       "      <td>p4</td>\n",
       "      <td>3569c79cf90b203325dd7b8f6c30bacc60f5d30e</td>\n",
       "      <td>j2</td>\n",
       "      <td>SN Computer Science</td>\n",
       "      <td>Data Science and Analytics: An Overview from D...</td>\n",
       "      <td>Abstract content goes here ...</td>\n",
       "      <td>fullPaper</td>\n",
       "    </tr>\n",
       "  </tbody>\n",
       "</table>\n",
       "</div>"
      ],
      "text/plain": [
       "  pId                                paperUrlId conferenceJournalId  \\\n",
       "0  p0  0c2d3b28d48426b8b72f7214a7708ba8b4efa9d6                  j0   \n",
       "1  p1  fa5853fdef7d2f6bb68203d187ddacbbddc63a8b                 c54   \n",
       "2  p2  4c6e31458b0b44c1e8bd6e58f7d7e0767f7fde44                  j1   \n",
       "3  p3  7282f5c9d84cd47c516a6a66c5a6b8f1e2cf44b6                  c0   \n",
       "4  p4  3569c79cf90b203325dd7b8f6c30bacc60f5d30e                  j2   \n",
       "\n",
       "                              conferenceJournalTitle  \\\n",
       "0                               Nature Biotechnology   \n",
       "1  International Workshop on Agent-Oriented Softw...   \n",
       "2  IEEE Transactions on Knowledge and Data Engine...   \n",
       "3  International Conference on Human Factors in C...   \n",
       "4                                SN Computer Science   \n",
       "\n",
       "                                              pTitle  \\\n",
       "0  Reproducible, interactive, scalable and extens...   \n",
       "1  High-Dimensional Probability: An Introduction ...   \n",
       "2  CRISP-DM Twenty Years Later: From Data Mining ...   \n",
       "3  AutoDS: Towards Human-Centered Automation of D...   \n",
       "4  Data Science and Analytics: An Overview from D...   \n",
       "\n",
       "                                            abstract      pType  \n",
       "0                     Abstract content goes here ...  fullPaper  \n",
       "1  © 2018, Cambridge University Press Let us summ...     poster  \n",
       "2  CRISP-DM(CRoss-Industry Standard Process for D...  fullPaper  \n",
       "3  Data science (DS) projects often follow a life...  fullPaper  \n",
       "4                     Abstract content goes here ...  fullPaper  "
      ]
     },
     "execution_count": 72,
     "metadata": {},
     "output_type": "execute_result"
    }
   ],
   "source": [
    "papersDF.head()"
   ]
  },
  {
   "cell_type": "markdown",
   "id": "5052b386-62b2-4407-8311-ee22bebe129f",
   "metadata": {},
   "source": [
    "Imputing conferenceJournalId as randomly chosen conference from the list of conferences and corresponding conferenceJournalTitle for the paperType as poster."
   ]
  },
  {
   "cell_type": "code",
   "execution_count": 18,
   "id": "94564970-900d-426e-a9f1-3d76ac8ddafa",
   "metadata": {},
   "outputs": [],
   "source": [
    "papersDF.to_csv('data/papers.csv',index = False, header = True, mode = 'w')"
   ]
  },
  {
   "cell_type": "markdown",
   "id": "67116c09-b6f7-4684-945e-d49323dd76e6",
   "metadata": {},
   "source": [
    "### Creating authors papers relation"
   ]
  },
  {
   "cell_type": "code",
   "execution_count": 109,
   "id": "d33ce0dd-bdcf-4a8a-9f0c-b938fcc11830",
   "metadata": {},
   "outputs": [],
   "source": [
    "aUrlIds = []\n",
    "pIds = []\n",
    "\n",
    "paperUrlNum = 0\n",
    "\n",
    "for i in range(len(df)):\n",
    "    paperCurr = [] \n",
    "    details = df[i]['_data']\n",
    "    currPaperUrlNum = 'p'+str(paperUrlNum)\n",
    "    \n",
    "    # Appending the pId to authorsDF\n",
    "    if details['authors']:\n",
    "        for i in range(len(details['authors'])):\n",
    "            aUrlId = details['authors'][i]['authorId']\n",
    "            aUrlIds.append(aUrlId)\n",
    "            pIds.append(currPaperUrlNum)\n",
    "    paperUrlNum += 1\n",
    "\n",
    "authorsPapersDF = pd.DataFrame(aUrlIds, columns = ['aUrlId'])\n",
    "authorsPapersDF['pId'] = pIds"
   ]
  },
  {
   "cell_type": "code",
   "execution_count": 110,
   "id": "112ca99e-dacf-443c-b004-79689fef8f5b",
   "metadata": {},
   "outputs": [],
   "source": [
    "authorsPapersDF = authorsPapersDF.merge(\n",
    "                    authorsDF,\n",
    "                    how = 'inner',\n",
    "                    left_on = ['aUrlId'],\n",
    "                    right_on = ['aUrlId']\n",
    "                    ).drop(columns = ['pId_y'], axis = 1).rename({'pId_x':'pId'},axis = 1)\n",
    "authorsPapersDF.to_csv('data/authorsPapers.csv',index = False, header = True, mode = 'w')"
   ]
  },
  {
   "cell_type": "code",
   "execution_count": 111,
   "id": "2cebef84-bbd7-455a-9715-3fe9d304a8e1",
   "metadata": {},
   "outputs": [
    {
     "data": {
      "text/html": [
       "<div>\n",
       "<style scoped>\n",
       "    .dataframe tbody tr th:only-of-type {\n",
       "        vertical-align: middle;\n",
       "    }\n",
       "\n",
       "    .dataframe tbody tr th {\n",
       "        vertical-align: top;\n",
       "    }\n",
       "\n",
       "    .dataframe thead th {\n",
       "        text-align: right;\n",
       "    }\n",
       "</style>\n",
       "<table border=\"1\" class=\"dataframe\">\n",
       "  <thead>\n",
       "    <tr style=\"text-align: right;\">\n",
       "      <th></th>\n",
       "      <th>aUrlId</th>\n",
       "      <th>pId</th>\n",
       "      <th>aId</th>\n",
       "      <th>aName</th>\n",
       "    </tr>\n",
       "  </thead>\n",
       "  <tbody>\n",
       "    <tr>\n",
       "      <th>0</th>\n",
       "      <td>6391996</td>\n",
       "      <td>p0</td>\n",
       "      <td>a0</td>\n",
       "      <td>E. Bolyen</td>\n",
       "    </tr>\n",
       "    <tr>\n",
       "      <th>1</th>\n",
       "      <td>6391996</td>\n",
       "      <td>p13</td>\n",
       "      <td>a0</td>\n",
       "      <td>E. Bolyen</td>\n",
       "    </tr>\n",
       "    <tr>\n",
       "      <th>2</th>\n",
       "      <td>6307534</td>\n",
       "      <td>p0</td>\n",
       "      <td>a1</td>\n",
       "      <td>J. Rideout</td>\n",
       "    </tr>\n",
       "    <tr>\n",
       "      <th>3</th>\n",
       "      <td>6307534</td>\n",
       "      <td>p13</td>\n",
       "      <td>a1</td>\n",
       "      <td>J. Rideout</td>\n",
       "    </tr>\n",
       "    <tr>\n",
       "      <th>4</th>\n",
       "      <td>40950692</td>\n",
       "      <td>p0</td>\n",
       "      <td>a2</td>\n",
       "      <td>Matthew R. Dillon</td>\n",
       "    </tr>\n",
       "  </tbody>\n",
       "</table>\n",
       "</div>"
      ],
      "text/plain": [
       "     aUrlId  pId aId              aName\n",
       "0   6391996   p0  a0          E. Bolyen\n",
       "1   6391996  p13  a0          E. Bolyen\n",
       "2   6307534   p0  a1         J. Rideout\n",
       "3   6307534  p13  a1         J. Rideout\n",
       "4  40950692   p0  a2  Matthew R. Dillon"
      ]
     },
     "execution_count": 111,
     "metadata": {},
     "output_type": "execute_result"
    }
   ],
   "source": [
    "authorsPapersDF.head()"
   ]
  },
  {
   "cell_type": "markdown",
   "id": "61dbb708-37ba-4cc1-b988-983ba010cb7f",
   "metadata": {},
   "source": [
    "### Creating Submitted Paper Related Data"
   ]
  },
  {
   "cell_type": "code",
   "execution_count": 19,
   "id": "0599e328-e6d7-41dd-9800-2ba0e9409746",
   "metadata": {},
   "outputs": [],
   "source": [
    "decisionChoices = ['accepted','rejected']\n",
    "\n",
    "ids = []\n",
    "for i in range(len(papersDF)):\n",
    "    ids.append('s'+str(i))\n",
    "\n",
    "submittedPapersDF = pd.DataFrame(ids, columns = ['sId'])\n",
    "submittedPapersDF['pId'] = papersDF['pId']\n",
    "submittedPapersDF['pTitle'] = papersDF['pTitle']\n",
    "submittedPapersDF['abstract'] = papersDF['abstract']\n",
    "submittedPapersDF['conferenceJournalId'] = papersDF['conferenceJournalId']\n",
    "submittedPapersDF['conferenceJournalTitle'] = papersDF['conferenceJournalTitle']\n",
    "submittedPapersDF['decision'] = random.choices(decisionChoices, weights = [0.8,0.2], k = len(submittedPapersDF))\n",
    "submittedPapersDF.to_csv('data/submittedPapers.csv',index = False, header = True, mode = 'w')"
   ]
  },
  {
   "cell_type": "code",
   "execution_count": 20,
   "id": "790b6a75-b5b0-438e-8951-ecc2daf5c573",
   "metadata": {},
   "outputs": [
    {
     "data": {
      "text/html": [
       "<div>\n",
       "<style scoped>\n",
       "    .dataframe tbody tr th:only-of-type {\n",
       "        vertical-align: middle;\n",
       "    }\n",
       "\n",
       "    .dataframe tbody tr th {\n",
       "        vertical-align: top;\n",
       "    }\n",
       "\n",
       "    .dataframe thead th {\n",
       "        text-align: right;\n",
       "    }\n",
       "</style>\n",
       "<table border=\"1\" class=\"dataframe\">\n",
       "  <thead>\n",
       "    <tr style=\"text-align: right;\">\n",
       "      <th></th>\n",
       "      <th>sId</th>\n",
       "      <th>pId</th>\n",
       "      <th>pTitle</th>\n",
       "      <th>abstract</th>\n",
       "      <th>conferenceJournalId</th>\n",
       "      <th>conferenceJournalTitle</th>\n",
       "      <th>decision</th>\n",
       "    </tr>\n",
       "  </thead>\n",
       "  <tbody>\n",
       "    <tr>\n",
       "      <th>0</th>\n",
       "      <td>s0</td>\n",
       "      <td>p0</td>\n",
       "      <td>Reproducible, interactive, scalable and extens...</td>\n",
       "      <td>Abstract content goes here ...</td>\n",
       "      <td>j0</td>\n",
       "      <td>Nature Biotechnology</td>\n",
       "      <td>accepted</td>\n",
       "    </tr>\n",
       "    <tr>\n",
       "      <th>1</th>\n",
       "      <td>s1</td>\n",
       "      <td>p1</td>\n",
       "      <td>High-Dimensional Probability: An Introduction ...</td>\n",
       "      <td>© 2018, Cambridge University Press Let us summ...</td>\n",
       "      <td>c90</td>\n",
       "      <td>Computer Vision and Pattern Recognition</td>\n",
       "      <td>accepted</td>\n",
       "    </tr>\n",
       "    <tr>\n",
       "      <th>2</th>\n",
       "      <td>s2</td>\n",
       "      <td>p2</td>\n",
       "      <td>CRISP-DM Twenty Years Later: From Data Mining ...</td>\n",
       "      <td>CRISP-DM(CRoss-Industry Standard Process for D...</td>\n",
       "      <td>j1</td>\n",
       "      <td>IEEE Transactions on Knowledge and Data Engine...</td>\n",
       "      <td>accepted</td>\n",
       "    </tr>\n",
       "    <tr>\n",
       "      <th>3</th>\n",
       "      <td>s3</td>\n",
       "      <td>p3</td>\n",
       "      <td>AutoDS: Towards Human-Centered Automation of D...</td>\n",
       "      <td>Data science (DS) projects often follow a life...</td>\n",
       "      <td>c0</td>\n",
       "      <td>International Conference on Human Factors in C...</td>\n",
       "      <td>rejected</td>\n",
       "    </tr>\n",
       "    <tr>\n",
       "      <th>4</th>\n",
       "      <td>s4</td>\n",
       "      <td>p4</td>\n",
       "      <td>Data Science and Analytics: An Overview from D...</td>\n",
       "      <td>Abstract content goes here ...</td>\n",
       "      <td>j2</td>\n",
       "      <td>SN Computer Science</td>\n",
       "      <td>accepted</td>\n",
       "    </tr>\n",
       "  </tbody>\n",
       "</table>\n",
       "</div>"
      ],
      "text/plain": [
       "  sId pId                                             pTitle  \\\n",
       "0  s0  p0  Reproducible, interactive, scalable and extens...   \n",
       "1  s1  p1  High-Dimensional Probability: An Introduction ...   \n",
       "2  s2  p2  CRISP-DM Twenty Years Later: From Data Mining ...   \n",
       "3  s3  p3  AutoDS: Towards Human-Centered Automation of D...   \n",
       "4  s4  p4  Data Science and Analytics: An Overview from D...   \n",
       "\n",
       "                                            abstract conferenceJournalId  \\\n",
       "0                     Abstract content goes here ...                  j0   \n",
       "1  © 2018, Cambridge University Press Let us summ...                 c90   \n",
       "2  CRISP-DM(CRoss-Industry Standard Process for D...                  j1   \n",
       "3  Data science (DS) projects often follow a life...                  c0   \n",
       "4                     Abstract content goes here ...                  j2   \n",
       "\n",
       "                              conferenceJournalTitle  decision  \n",
       "0                               Nature Biotechnology  accepted  \n",
       "1            Computer Vision and Pattern Recognition  accepted  \n",
       "2  IEEE Transactions on Knowledge and Data Engine...  accepted  \n",
       "3  International Conference on Human Factors in C...  rejected  \n",
       "4                                SN Computer Science  accepted  "
      ]
     },
     "execution_count": 20,
     "metadata": {},
     "output_type": "execute_result"
    }
   ],
   "source": [
    "submittedPapersDF.head()"
   ]
  },
  {
   "cell_type": "markdown",
   "id": "24922f2a-7248-4ee8-9032-bf72c7664bed",
   "metadata": {},
   "source": [
    "### Creating Reviews Data"
   ]
  },
  {
   "cell_type": "code",
   "execution_count": 21,
   "id": "5884f7d3-bb0c-4184-819d-ca774dede7ab",
   "metadata": {},
   "outputs": [],
   "source": [
    "# reviewColumns = ['rId','pId','aId','rReviewText','rDecision']\n",
    "\n",
    "ids = []\n",
    "for i in range(len(submittedPapersDF)):\n",
    "    ids.append('r'+str(i))\n",
    "\n",
    "reviewsDF = pd.DataFrame(ids, columns = ['rId'])\n",
    "reviewsDF['pId'] = submittedPapersDF['pId']\n",
    "reviewsDF['rReviewText'] = ['content of the reviewed text goes here....'] * len(reviewsDF)\n",
    "reviewsDF['rDecision'] = submittedPapersDF['decision']\n",
    "reviewsDF.to_csv('data/reviews.csv',index = False, header = True, mode = 'w')"
   ]
  },
  {
   "cell_type": "markdown",
   "id": "cecf58f2-3945-43ef-a59c-0cad17646e8d",
   "metadata": {},
   "source": [
    "### Creating Final Paper Related Data"
   ]
  },
  {
   "cell_type": "code",
   "execution_count": 22,
   "id": "225a75b6-6056-4261-80eb-b7df5571c4fe",
   "metadata": {},
   "outputs": [
    {
     "name": "stderr",
     "output_type": "stream",
     "text": [
      "C:\\Users\\Rishika Gupta\\AppData\\Local\\Temp\\ipykernel_4244\\4111584978.py:7: SettingWithCopyWarning: \n",
      "A value is trying to be set on a copy of a slice from a DataFrame.\n",
      "Try using .loc[row_indexer,col_indexer] = value instead\n",
      "\n",
      "See the caveats in the documentation: https://pandas.pydata.org/pandas-docs/stable/user_guide/indexing.html#returning-a-view-versus-a-copy\n",
      "  finalPapersDF['fId'] = ids\n"
     ]
    }
   ],
   "source": [
    "finalPapersDF = submittedPapersDF[(submittedPapersDF['decision'] == 'accepted')]\n",
    "\n",
    "ids = []\n",
    "for i in range(len(finalPapersDF)):\n",
    "    ids.append('f'+str(i))\n",
    "    \n",
    "finalPapersDF['fId'] = ids\n",
    "finalPapersDF.to_csv('data/finalPapers.csv',index = False, header = True, mode = 'w')"
   ]
  },
  {
   "cell_type": "markdown",
   "id": "2ddfddf0-1fd0-4dd0-b526-7e74448a8ab7",
   "metadata": {},
   "source": [
    "### Creating Reviewer Data"
   ]
  },
  {
   "cell_type": "code",
   "execution_count": 150,
   "id": "cbf4f2d9-6e79-48f8-84f3-fa2260cc4c89",
   "metadata": {},
   "outputs": [],
   "source": [
    "all_authors = list(authorsPapersDF['aId'].unique())\n",
    "paperAuthors = authorsPapersDF.groupby('pId', as_index = False, sort = False)['aId'].agg(lambda x: [l for l in x])"
   ]
  },
  {
   "cell_type": "code",
   "execution_count": 151,
   "id": "1260b3d5-c79a-49fe-b920-0b904718fdcd",
   "metadata": {},
   "outputs": [
    {
     "data": {
      "text/html": [
       "<div>\n",
       "<style scoped>\n",
       "    .dataframe tbody tr th:only-of-type {\n",
       "        vertical-align: middle;\n",
       "    }\n",
       "\n",
       "    .dataframe tbody tr th {\n",
       "        vertical-align: top;\n",
       "    }\n",
       "\n",
       "    .dataframe thead th {\n",
       "        text-align: right;\n",
       "    }\n",
       "</style>\n",
       "<table border=\"1\" class=\"dataframe\">\n",
       "  <thead>\n",
       "    <tr style=\"text-align: right;\">\n",
       "      <th></th>\n",
       "      <th>pId</th>\n",
       "      <th>aId</th>\n",
       "    </tr>\n",
       "  </thead>\n",
       "  <tbody>\n",
       "    <tr>\n",
       "      <th>0</th>\n",
       "      <td>p0</td>\n",
       "      <td>[a0, a1, a2, a3, a4, a5, a6, a7, a8, a9, a10, ...</td>\n",
       "    </tr>\n",
       "    <tr>\n",
       "      <th>1</th>\n",
       "      <td>p13</td>\n",
       "      <td>[a0, a1, a2, a3, a4, a5, a6, a6, a7, a8, a9, a...</td>\n",
       "    </tr>\n",
       "    <tr>\n",
       "      <th>2</th>\n",
       "      <td>p2039</td>\n",
       "      <td>[a15, a8363, a8365, a8366, a8369, a8372, a8402...</td>\n",
       "    </tr>\n",
       "    <tr>\n",
       "      <th>3</th>\n",
       "      <td>p1191</td>\n",
       "      <td>[a39, a5600, a5601, a5602]</td>\n",
       "    </tr>\n",
       "    <tr>\n",
       "      <th>4</th>\n",
       "      <td>p2009</td>\n",
       "      <td>[a76, a8168, a8169, a8170, a8171, a8172, a8173...</td>\n",
       "    </tr>\n",
       "    <tr>\n",
       "      <th>...</th>\n",
       "      <td>...</td>\n",
       "      <td>...</td>\n",
       "    </tr>\n",
       "    <tr>\n",
       "      <th>2479</th>\n",
       "      <td>p2490</td>\n",
       "      <td>[a10642, a10643]</td>\n",
       "    </tr>\n",
       "    <tr>\n",
       "      <th>2480</th>\n",
       "      <td>p2491</td>\n",
       "      <td>[a10644, a10645, a10646, a10647]</td>\n",
       "    </tr>\n",
       "    <tr>\n",
       "      <th>2481</th>\n",
       "      <td>p2493</td>\n",
       "      <td>[a10652, a10653, a10654, a10655, a10656, a1065...</td>\n",
       "    </tr>\n",
       "    <tr>\n",
       "      <th>2482</th>\n",
       "      <td>p2494</td>\n",
       "      <td>[a10670, a10671, a10672, a10673, a10674]</td>\n",
       "    </tr>\n",
       "    <tr>\n",
       "      <th>2483</th>\n",
       "      <td>p2499</td>\n",
       "      <td>[a10683]</td>\n",
       "    </tr>\n",
       "  </tbody>\n",
       "</table>\n",
       "<p>2484 rows × 2 columns</p>\n",
       "</div>"
      ],
      "text/plain": [
       "        pId                                                aId\n",
       "0        p0  [a0, a1, a2, a3, a4, a5, a6, a7, a8, a9, a10, ...\n",
       "1       p13  [a0, a1, a2, a3, a4, a5, a6, a6, a7, a8, a9, a...\n",
       "2     p2039  [a15, a8363, a8365, a8366, a8369, a8372, a8402...\n",
       "3     p1191                         [a39, a5600, a5601, a5602]\n",
       "4     p2009  [a76, a8168, a8169, a8170, a8171, a8172, a8173...\n",
       "...     ...                                                ...\n",
       "2479  p2490                                   [a10642, a10643]\n",
       "2480  p2491                   [a10644, a10645, a10646, a10647]\n",
       "2481  p2493  [a10652, a10653, a10654, a10655, a10656, a1065...\n",
       "2482  p2494           [a10670, a10671, a10672, a10673, a10674]\n",
       "2483  p2499                                           [a10683]\n",
       "\n",
       "[2484 rows x 2 columns]"
      ]
     },
     "execution_count": 151,
     "metadata": {},
     "output_type": "execute_result"
    }
   ],
   "source": [
    "paperAuthors"
   ]
  },
  {
   "cell_type": "code",
   "execution_count": 175,
   "id": "fececacc-ce2f-4804-88f4-641879025863",
   "metadata": {},
   "outputs": [],
   "source": [
    "totalPapers = len(submittedPapersDF)\n",
    "set_authors = set(all_authors)\n",
    "\n",
    "ids = []\n",
    "submissions = []\n",
    "reviewers = []\n",
    "\n",
    "for i in range(totalPapers * 2):\n",
    "    ids.append('r'+str(i))\n",
    "    submissions.append(submittedPapersDF['sId'][i//2])\n",
    "    \n",
    "    curr_pId = submittedPapersDF['pId'][i//2]\n",
    "    curr_authors = paperAuthors[paperAuthors['pId'] == curr_pId]['aId'].tolist()\n",
    "    \n",
    "    availableReviewers = [x for x in set_authors if not x in curr_authors]\n",
    "    reviewers.append(random.choice(availableReviewers))"
   ]
  },
  {
   "cell_type": "code",
   "execution_count": 176,
   "id": "f79540b8-4cc8-456d-8365-44a67b35d28c",
   "metadata": {},
   "outputs": [],
   "source": [
    "# Reviewer (author id: aId) reviews the submission (with id: sId)\n",
    "reviewersDF = pd.DataFrame(ids, columns = ['rId'])\n",
    "reviewersDF['sId'] = submissions\n",
    "reviewersDF['aId'] = reviewers\n",
    "reviewersDF.to_csv('data/reviewers.csv',index = False, header = True, mode = 'w')"
   ]
  },
  {
   "cell_type": "code",
   "execution_count": 177,
   "id": "de66b74c-4151-4a6d-90e1-e390ac125d0d",
   "metadata": {},
   "outputs": [
    {
     "data": {
      "text/html": [
       "<div>\n",
       "<style scoped>\n",
       "    .dataframe tbody tr th:only-of-type {\n",
       "        vertical-align: middle;\n",
       "    }\n",
       "\n",
       "    .dataframe tbody tr th {\n",
       "        vertical-align: top;\n",
       "    }\n",
       "\n",
       "    .dataframe thead th {\n",
       "        text-align: right;\n",
       "    }\n",
       "</style>\n",
       "<table border=\"1\" class=\"dataframe\">\n",
       "  <thead>\n",
       "    <tr style=\"text-align: right;\">\n",
       "      <th></th>\n",
       "      <th>rId</th>\n",
       "      <th>sId</th>\n",
       "      <th>aId</th>\n",
       "    </tr>\n",
       "  </thead>\n",
       "  <tbody>\n",
       "    <tr>\n",
       "      <th>0</th>\n",
       "      <td>r0</td>\n",
       "      <td>s0</td>\n",
       "      <td>a6427</td>\n",
       "    </tr>\n",
       "    <tr>\n",
       "      <th>1</th>\n",
       "      <td>r1</td>\n",
       "      <td>s0</td>\n",
       "      <td>a8163</td>\n",
       "    </tr>\n",
       "    <tr>\n",
       "      <th>2</th>\n",
       "      <td>r2</td>\n",
       "      <td>s1</td>\n",
       "      <td>a9920</td>\n",
       "    </tr>\n",
       "    <tr>\n",
       "      <th>3</th>\n",
       "      <td>r3</td>\n",
       "      <td>s1</td>\n",
       "      <td>a10597</td>\n",
       "    </tr>\n",
       "    <tr>\n",
       "      <th>4</th>\n",
       "      <td>r4</td>\n",
       "      <td>s2</td>\n",
       "      <td>a2067</td>\n",
       "    </tr>\n",
       "  </tbody>\n",
       "</table>\n",
       "</div>"
      ],
      "text/plain": [
       "  rId sId     aId\n",
       "0  r0  s0   a6427\n",
       "1  r1  s0   a8163\n",
       "2  r2  s1   a9920\n",
       "3  r3  s1  a10597\n",
       "4  r4  s2   a2067"
      ]
     },
     "execution_count": 177,
     "metadata": {},
     "output_type": "execute_result"
    }
   ],
   "source": [
    "reviewersDF.head()"
   ]
  },
  {
   "cell_type": "markdown",
   "id": "2e2190c5-8469-4076-98fc-2b5a3f143fe2",
   "metadata": {},
   "source": [
    "### Creating chairs data"
   ]
  },
  {
   "cell_type": "code",
   "execution_count": 185,
   "id": "270a6861-1335-477c-aeb8-64c0042db479",
   "metadata": {},
   "outputs": [
    {
     "data": {
      "text/html": [
       "<div>\n",
       "<style scoped>\n",
       "    .dataframe tbody tr th:only-of-type {\n",
       "        vertical-align: middle;\n",
       "    }\n",
       "\n",
       "    .dataframe tbody tr th {\n",
       "        vertical-align: top;\n",
       "    }\n",
       "\n",
       "    .dataframe thead th {\n",
       "        text-align: right;\n",
       "    }\n",
       "</style>\n",
       "<table border=\"1\" class=\"dataframe\">\n",
       "  <thead>\n",
       "    <tr style=\"text-align: right;\">\n",
       "      <th></th>\n",
       "      <th>sId</th>\n",
       "      <th>pId</th>\n",
       "      <th>pTitle</th>\n",
       "      <th>abstract</th>\n",
       "      <th>conferenceJournalId</th>\n",
       "      <th>conferenceJournalTitle</th>\n",
       "      <th>decision</th>\n",
       "    </tr>\n",
       "  </thead>\n",
       "  <tbody>\n",
       "    <tr>\n",
       "      <th>0</th>\n",
       "      <td>s0</td>\n",
       "      <td>p0</td>\n",
       "      <td>Reproducible, interactive, scalable and extens...</td>\n",
       "      <td>Abstract content goes here ...</td>\n",
       "      <td>j0</td>\n",
       "      <td>Nature Biotechnology</td>\n",
       "      <td>accepted</td>\n",
       "    </tr>\n",
       "    <tr>\n",
       "      <th>1</th>\n",
       "      <td>s1</td>\n",
       "      <td>p1</td>\n",
       "      <td>High-Dimensional Probability: An Introduction ...</td>\n",
       "      <td>© 2018, Cambridge University Press Let us summ...</td>\n",
       "      <td>c90</td>\n",
       "      <td>Computer Vision and Pattern Recognition</td>\n",
       "      <td>accepted</td>\n",
       "    </tr>\n",
       "  </tbody>\n",
       "</table>\n",
       "</div>"
      ],
      "text/plain": [
       "  sId pId                                             pTitle  \\\n",
       "0  s0  p0  Reproducible, interactive, scalable and extens...   \n",
       "1  s1  p1  High-Dimensional Probability: An Introduction ...   \n",
       "\n",
       "                                            abstract conferenceJournalId  \\\n",
       "0                     Abstract content goes here ...                  j0   \n",
       "1  © 2018, Cambridge University Press Let us summ...                 c90   \n",
       "\n",
       "                    conferenceJournalTitle  decision  \n",
       "0                     Nature Biotechnology  accepted  \n",
       "1  Computer Vision and Pattern Recognition  accepted  "
      ]
     },
     "execution_count": 185,
     "metadata": {},
     "output_type": "execute_result"
    }
   ],
   "source": [
    "submittedPapersDF.head(2)"
   ]
  },
  {
   "cell_type": "code",
   "execution_count": 242,
   "id": "4e228bf4-e03f-406e-94d8-e1c18caddb4a",
   "metadata": {},
   "outputs": [],
   "source": [
    "confPapers = submittedPapersDF[submittedPapersDF['conferenceJournalId'].str[:1] == 'c']['conferenceJournalId'].tolist()\n",
    "\n",
    "confPapersDF = pd.DataFrame(confPapers, columns = ['cId'])\n",
    "\n",
    "ids = []\n",
    "for i in range(len(confPapersDF)):\n",
    "    ids.append('chair'+str(i))\n",
    "confPapersDF['chairId'] = ids\n",
    "\n",
    "confPapersDF['aId'] = random.choices(authorsDF['aId'], k = len(confPapersDF))\n",
    "confPapersDF.to_csv('data/chairs.csv',index = False, header = True, mode = 'w')"
   ]
  },
  {
   "cell_type": "markdown",
   "id": "aeac4843-9957-4068-b3a2-71610d5e20fd",
   "metadata": {},
   "source": [
    "It is assumed that any author from our database can chair any conference, irrespective of the number of papers written, etc."
   ]
  },
  {
   "cell_type": "code",
   "execution_count": 243,
   "id": "a4bbe743-5573-40c4-9523-0a2c6b57cdcc",
   "metadata": {},
   "outputs": [
    {
     "data": {
      "text/html": [
       "<div>\n",
       "<style scoped>\n",
       "    .dataframe tbody tr th:only-of-type {\n",
       "        vertical-align: middle;\n",
       "    }\n",
       "\n",
       "    .dataframe tbody tr th {\n",
       "        vertical-align: top;\n",
       "    }\n",
       "\n",
       "    .dataframe thead th {\n",
       "        text-align: right;\n",
       "    }\n",
       "</style>\n",
       "<table border=\"1\" class=\"dataframe\">\n",
       "  <thead>\n",
       "    <tr style=\"text-align: right;\">\n",
       "      <th></th>\n",
       "      <th>cId</th>\n",
       "      <th>chairId</th>\n",
       "      <th>aId</th>\n",
       "    </tr>\n",
       "  </thead>\n",
       "  <tbody>\n",
       "    <tr>\n",
       "      <th>0</th>\n",
       "      <td>c90</td>\n",
       "      <td>chair0</td>\n",
       "      <td>a4577</td>\n",
       "    </tr>\n",
       "    <tr>\n",
       "      <th>1</th>\n",
       "      <td>c0</td>\n",
       "      <td>chair1</td>\n",
       "      <td>a13</td>\n",
       "    </tr>\n",
       "    <tr>\n",
       "      <th>2</th>\n",
       "      <td>c100</td>\n",
       "      <td>chair2</td>\n",
       "      <td>a575</td>\n",
       "    </tr>\n",
       "    <tr>\n",
       "      <th>3</th>\n",
       "      <td>c51</td>\n",
       "      <td>chair3</td>\n",
       "      <td>a4262</td>\n",
       "    </tr>\n",
       "    <tr>\n",
       "      <th>4</th>\n",
       "      <td>c87</td>\n",
       "      <td>chair4</td>\n",
       "      <td>a9943</td>\n",
       "    </tr>\n",
       "  </tbody>\n",
       "</table>\n",
       "</div>"
      ],
      "text/plain": [
       "    cId chairId    aId\n",
       "0   c90  chair0  a4577\n",
       "1    c0  chair1    a13\n",
       "2  c100  chair2   a575\n",
       "3   c51  chair3  a4262\n",
       "4   c87  chair4  a9943"
      ]
     },
     "execution_count": 243,
     "metadata": {},
     "output_type": "execute_result"
    }
   ],
   "source": [
    "confPapersDF.head()"
   ]
  },
  {
   "cell_type": "markdown",
   "id": "bc60d492-8dbf-45a5-8dd1-e0c27cb3f710",
   "metadata": {},
   "source": [
    "### Creating editors data"
   ]
  },
  {
   "cell_type": "code",
   "execution_count": 244,
   "id": "6f525ccd-fb02-42cf-b24d-ee0a98fbddc1",
   "metadata": {},
   "outputs": [
    {
     "data": {
      "text/html": [
       "<div>\n",
       "<style scoped>\n",
       "    .dataframe tbody tr th:only-of-type {\n",
       "        vertical-align: middle;\n",
       "    }\n",
       "\n",
       "    .dataframe tbody tr th {\n",
       "        vertical-align: top;\n",
       "    }\n",
       "\n",
       "    .dataframe thead th {\n",
       "        text-align: right;\n",
       "    }\n",
       "</style>\n",
       "<table border=\"1\" class=\"dataframe\">\n",
       "  <thead>\n",
       "    <tr style=\"text-align: right;\">\n",
       "      <th></th>\n",
       "      <th>sId</th>\n",
       "      <th>pId</th>\n",
       "      <th>pTitle</th>\n",
       "      <th>abstract</th>\n",
       "      <th>conferenceJournalId</th>\n",
       "      <th>conferenceJournalTitle</th>\n",
       "      <th>decision</th>\n",
       "    </tr>\n",
       "  </thead>\n",
       "  <tbody>\n",
       "    <tr>\n",
       "      <th>0</th>\n",
       "      <td>s0</td>\n",
       "      <td>p0</td>\n",
       "      <td>Reproducible, interactive, scalable and extens...</td>\n",
       "      <td>Abstract content goes here ...</td>\n",
       "      <td>j0</td>\n",
       "      <td>Nature Biotechnology</td>\n",
       "      <td>accepted</td>\n",
       "    </tr>\n",
       "    <tr>\n",
       "      <th>1</th>\n",
       "      <td>s1</td>\n",
       "      <td>p1</td>\n",
       "      <td>High-Dimensional Probability: An Introduction ...</td>\n",
       "      <td>© 2018, Cambridge University Press Let us summ...</td>\n",
       "      <td>c90</td>\n",
       "      <td>Computer Vision and Pattern Recognition</td>\n",
       "      <td>accepted</td>\n",
       "    </tr>\n",
       "  </tbody>\n",
       "</table>\n",
       "</div>"
      ],
      "text/plain": [
       "  sId pId                                             pTitle  \\\n",
       "0  s0  p0  Reproducible, interactive, scalable and extens...   \n",
       "1  s1  p1  High-Dimensional Probability: An Introduction ...   \n",
       "\n",
       "                                            abstract conferenceJournalId  \\\n",
       "0                     Abstract content goes here ...                  j0   \n",
       "1  © 2018, Cambridge University Press Let us summ...                 c90   \n",
       "\n",
       "                    conferenceJournalTitle  decision  \n",
       "0                     Nature Biotechnology  accepted  \n",
       "1  Computer Vision and Pattern Recognition  accepted  "
      ]
     },
     "execution_count": 244,
     "metadata": {},
     "output_type": "execute_result"
    }
   ],
   "source": [
    "submittedPapersDF.head(2)"
   ]
  },
  {
   "cell_type": "code",
   "execution_count": 247,
   "id": "54f64a16-43f8-4f48-9097-e3712f092cc2",
   "metadata": {},
   "outputs": [],
   "source": [
    "jourPapers = submittedPapersDF[submittedPapersDF['conferenceJournalId'].str[:1] == 'j']['conferenceJournalId'].tolist()\n",
    "\n",
    "jourPapersDF = pd.DataFrame(jourPapers, columns = ['jId'])\n",
    "\n",
    "ids = []\n",
    "for i in range(len(jourPapersDF)):\n",
    "    ids.append('editor'+str(i))\n",
    "jourPapersDF['editorId'] = ids\n",
    "\n",
    "jourPapersDF['aId'] = random.choices(authorsDF['aId'], k = len(jourPapersDF))\n",
    "jourPapersDF.to_csv('data/editors.csv',index = False, header = True, mode = 'w')"
   ]
  },
  {
   "cell_type": "markdown",
   "id": "95e158da-8a70-430a-99db-2d5c07ac0318",
   "metadata": {},
   "source": [
    "It is assumed that any author from our database can chair any conference, irrespective of the number of papers written, etc."
   ]
  },
  {
   "cell_type": "code",
   "execution_count": 248,
   "id": "701a5b1b-65a3-4ded-8adb-dbf7c5a54ae4",
   "metadata": {},
   "outputs": [
    {
     "data": {
      "text/html": [
       "<div>\n",
       "<style scoped>\n",
       "    .dataframe tbody tr th:only-of-type {\n",
       "        vertical-align: middle;\n",
       "    }\n",
       "\n",
       "    .dataframe tbody tr th {\n",
       "        vertical-align: top;\n",
       "    }\n",
       "\n",
       "    .dataframe thead th {\n",
       "        text-align: right;\n",
       "    }\n",
       "</style>\n",
       "<table border=\"1\" class=\"dataframe\">\n",
       "  <thead>\n",
       "    <tr style=\"text-align: right;\">\n",
       "      <th></th>\n",
       "      <th>jId</th>\n",
       "      <th>editorId</th>\n",
       "      <th>aId</th>\n",
       "    </tr>\n",
       "  </thead>\n",
       "  <tbody>\n",
       "    <tr>\n",
       "      <th>0</th>\n",
       "      <td>j0</td>\n",
       "      <td>editor0</td>\n",
       "      <td>a4208</td>\n",
       "    </tr>\n",
       "    <tr>\n",
       "      <th>1</th>\n",
       "      <td>j1</td>\n",
       "      <td>editor1</td>\n",
       "      <td>a9095</td>\n",
       "    </tr>\n",
       "    <tr>\n",
       "      <th>2</th>\n",
       "      <td>j2</td>\n",
       "      <td>editor2</td>\n",
       "      <td>a4718</td>\n",
       "    </tr>\n",
       "    <tr>\n",
       "      <th>3</th>\n",
       "      <td>j3</td>\n",
       "      <td>editor3</td>\n",
       "      <td>a8799</td>\n",
       "    </tr>\n",
       "    <tr>\n",
       "      <th>4</th>\n",
       "      <td>j4</td>\n",
       "      <td>editor4</td>\n",
       "      <td>a3447</td>\n",
       "    </tr>\n",
       "  </tbody>\n",
       "</table>\n",
       "</div>"
      ],
      "text/plain": [
       "  jId editorId    aId\n",
       "0  j0  editor0  a4208\n",
       "1  j1  editor1  a9095\n",
       "2  j2  editor2  a4718\n",
       "3  j3  editor3  a8799\n",
       "4  j4  editor4  a3447"
      ]
     },
     "execution_count": 248,
     "metadata": {},
     "output_type": "execute_result"
    }
   ],
   "source": [
    "jourPapersDF.head()"
   ]
  }
 ],
 "metadata": {
  "kernelspec": {
   "display_name": "Python 3 (ipykernel)",
   "language": "python",
   "name": "python3"
  },
  "language_info": {
   "codemirror_mode": {
    "name": "ipython",
    "version": 3
   },
   "file_extension": ".py",
   "mimetype": "text/x-python",
   "name": "python",
   "nbconvert_exporter": "python",
   "pygments_lexer": "ipython3",
   "version": "3.9.6"
  }
 },
 "nbformat": 4,
 "nbformat_minor": 5
}
