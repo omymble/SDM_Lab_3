{
 "cells": [
  {
   "cell_type": "code",
   "execution_count": 1,
   "id": "75d50f8f-eb6e-4137-8088-a7c3878b384c",
   "metadata": {},
   "outputs": [],
   "source": [
    "import json\n",
    "import pandas as pd\n",
    "import random\n",
    "random.seed(10)"
   ]
  },
  {
   "cell_type": "code",
   "execution_count": 2,
   "id": "38c06104-b018-4c2b-b58c-5762c750248d",
   "metadata": {},
   "outputs": [],
   "source": [
    "with open('data/dataset.json', encoding='utf-8') as inputfile:\n",
    "    df = json.load(inputfile)\n",
    "inputfile.close()"
   ]
  },
  {
   "cell_type": "markdown",
   "id": "ad263006-b970-4fea-9d81-6456fc385e7c",
   "metadata": {
    "tags": []
   },
   "source": [
    "### Collecting details about journals, conferences, authors, fieldsOfStudy"
   ]
  },
  {
   "cell_type": "code",
   "execution_count": 3,
   "id": "9e967c89-efae-4d1b-abb4-f39d8fd13360",
   "metadata": {},
   "outputs": [],
   "source": [
    "conferences = []\n",
    "conferenceUrls = []\n",
    "\n",
    "journals = []\n",
    "journalUrls = []\n",
    "\n",
    "authors = []\n",
    "authorUrls = []\n",
    "\n",
    "fieldsOfStudy = []\n",
    "\n",
    "for i in range(len(df)):\n",
    "    details = df[i]['_data']  \n",
    "    if details['publicationVenue']:\n",
    "        if 'type' in details['publicationVenue']:\n",
    "            if details['publicationVenue']['type'] == 'journal':\n",
    "                jName = details['publicationVenue']['name']\n",
    "                myId = details['publicationVenue']['id']\n",
    "                if jName not in journals:\n",
    "                    journals.append(jName)\n",
    "                    journalUrls.append(myId)\n",
    "            elif details['publicationVenue']['type'] == 'conference':\n",
    "                cName = details['publicationVenue']['name']\n",
    "                myId = details['publicationVenue']['id']\n",
    "                if cName not in conferences:\n",
    "                    conferences.append(cName)\n",
    "                    conferenceUrls.append(myId)\n",
    "    if details['authors']:\n",
    "        for i in range(len(details['authors'])):\n",
    "            aName = details['authors'][i]['name']\n",
    "            myId = details['authors'][i]['authorId']\n",
    "            if aName not in authors:\n",
    "                authors.append(aName)\n",
    "                authorUrls.append(myId)\n",
    "    if details['fieldsOfStudy']:\n",
    "        for i in details['fieldsOfStudy']:\n",
    "            if i not in fieldsOfStudy:\n",
    "                fieldsOfStudy.append(i)"
   ]
  },
  {
   "cell_type": "markdown",
   "id": "6aee8257-9054-4719-8cc9-8709bc9bb604",
   "metadata": {},
   "source": [
    "#### Conferences"
   ]
  },
  {
   "cell_type": "code",
   "execution_count": 25,
   "id": "36758d36-e114-48d7-8c93-e2320fb6fcd0",
   "metadata": {},
   "outputs": [],
   "source": [
    "# assigning conference ids\n",
    "# conferenceColumns = ['cId','cTitle','cUrlId','cType','cProceedings']\n",
    "\n",
    "ids = []\n",
    "proceedings = []\n",
    "for i in range(len(conferences)):\n",
    "    ids.append('c'+str(i))\n",
    "    proceedings.append(random.randint(1,10))\n",
    "        \n",
    "conferencesDF = pd.DataFrame(ids, columns = ['cId'])"
   ]
  },
  {
   "cell_type": "code",
   "execution_count": 26,
   "id": "eeeda63e-bc57-48f9-8bc4-68a03dd2fc35",
   "metadata": {},
   "outputs": [],
   "source": [
    "# assigning conference subclasses\n",
    "# randomly choose from cTypes\n",
    "cTypes = ['workshop','expertGroup','symposium','regularConference']\n",
    "\n",
    "conferenceTypes = []\n",
    "conferenceTypes = random.choices(cTypes, weights=[0.25,0.25,0.25,0.25], k=len(conferencesDF))"
   ]
  },
  {
   "cell_type": "code",
   "execution_count": 27,
   "id": "8701dd2d-196e-45b7-bbda-bca837c19096",
   "metadata": {},
   "outputs": [],
   "source": [
    "conferencesDF['cUrlId'] = conferenceUrls\n",
    "conferencesDF['cTitle'] = conferences\n",
    "conferencesDF['cType'] = conferenceTypes\n",
    "\n",
    "# Creating proceedings data for conferences\n",
    "conferencesDF['cProceedings'] = proceedings\n",
    "\n",
    "conferencesDF.to_csv('data/conferences.csv',index = False, header = True, mode = 'w')"
   ]
  },
  {
   "cell_type": "markdown",
   "id": "3367214f-a482-4d4d-981e-f9a4476fa1e9",
   "metadata": {
    "tags": []
   },
   "source": [
    "#### Journals"
   ]
  },
  {
   "cell_type": "code",
   "execution_count": 28,
   "id": "ececeec9-ce8c-4098-bb80-5bdd7f0006b9",
   "metadata": {},
   "outputs": [],
   "source": [
    "# journalColumns = ['jId','jTitle','jUrlId','jVolumes']\n",
    "\n",
    "ids = []\n",
    "volumes = []\n",
    "for i in range(len(journals)):\n",
    "    ids.append('j'+str(i))\n",
    "    volumes.append(random.randint(0,10))\n",
    "\n",
    "journalsDF = pd.DataFrame(ids, columns = ['jId'])\n",
    "journalsDF['jUrlId'] = journalUrls\n",
    "journalsDF['jTitle'] = journals\n",
    "\n",
    "# Creating volumes data for journals\n",
    "journalsDF['jVolumes'] = volumes\n",
    "\n",
    "journalsDF.to_csv('data/journals.csv',index = False, header = True, mode = 'w')"
   ]
  },
  {
   "cell_type": "markdown",
   "id": "50af79f4-5538-4485-812e-e66e41faa132",
   "metadata": {},
   "source": [
    "#### Authors"
   ]
  },
  {
   "cell_type": "code",
   "execution_count": 8,
   "id": "f90d9d95-7df9-4792-a5bf-c85bb6c71250",
   "metadata": {},
   "outputs": [],
   "source": [
    "# authorColumns = ['aId','aName','aUrlId']\n",
    "\n",
    "ids = []\n",
    "for i in range(len(authors)):\n",
    "    ids.append('a'+str(i))\n",
    "\n",
    "authorsDF = pd.DataFrame(ids, columns = ['aId'])\n",
    "authorsDF['aUrlId'] = authorUrls\n",
    "authorsDF['aName'] = authors\n",
    "authorsDF.to_csv('data/authors.csv',index = False, header = True, mode = 'w')"
   ]
  },
  {
   "cell_type": "markdown",
   "id": "71f566c3-8379-45dd-b267-dd8caa2e6016",
   "metadata": {},
   "source": [
    "#### FieldsOfStudy"
   ]
  },
  {
   "cell_type": "code",
   "execution_count": 9,
   "id": "3c119ba8-9ee8-4281-bd2e-15d3fa684e28",
   "metadata": {},
   "outputs": [],
   "source": [
    "# fieldsOfStudyColumns = ['fId','fName']\n",
    "\n",
    "ids = []\n",
    "for i in range(len(fieldsOfStudy)):\n",
    "    ids.append('f'+str(i))\n",
    "\n",
    "fieldsOfStudyDF = pd.DataFrame(ids, columns = ['fId'])\n",
    "fieldsOfStudyDF['fName'] = fieldsOfStudy\n",
    "fieldsOfStudyDF.to_csv('data/fieldsOfStudy.csv',index = False, header = True, mode = 'w')"
   ]
  },
  {
   "cell_type": "markdown",
   "id": "f8ed274c-5f47-4bc1-9b04-919d3b59c8f6",
   "metadata": {},
   "source": [
    "### Collecting information about papers"
   ]
  },
  {
   "cell_type": "code",
   "execution_count": 10,
   "id": "1e7f6d66-0787-4aee-b973-348039d67d1c",
   "metadata": {},
   "outputs": [],
   "source": [
    "conferencesDF = pd.read_csv('data/conferences.csv')\n",
    "journalsDF = pd.read_csv('data/journals.csv')\n",
    "authorsDF = pd.read_csv('data/authors.csv')"
   ]
  },
  {
   "cell_type": "code",
   "execution_count": 11,
   "id": "2ed77e71-eed7-4b3d-9613-e5c95e869bae",
   "metadata": {},
   "outputs": [],
   "source": [
    "papers = []\n",
    "\n",
    "paperUrlNum = 0\n",
    "\n",
    "for i in range(len(df)):\n",
    "    paperCurr = [] \n",
    "    details = df[i]['_data']\n",
    "   \n",
    "    paperCurr.append('p'+str(paperUrlNum))\n",
    "    paperCurr.append(details['paperId'])\n",
    "    \n",
    "    if details['publicationVenue']:\n",
    "        if 'type' in details['publicationVenue']:\n",
    "            if details['publicationVenue']['type'] == 'journal':\n",
    "                jName = details['publicationVenue']['name']\n",
    "                paperCurr.append(journalsDF[journalsDF['jTitle'] == jName]['jId'].values[0])\n",
    "                paperCurr.append(jName)\n",
    "            elif details['publicationVenue']['type'] == 'conference':\n",
    "                cName = details['publicationVenue']['name']\n",
    "                paperCurr.append(conferencesDF[conferencesDF['cTitle'] == cName]['cId'].values[0])\n",
    "                paperCurr.append(cName)\n",
    "\n",
    "            else:\n",
    "                paperCurr.append('None')\n",
    "                paperCurr.append('None')\n",
    "        else:\n",
    "            paperCurr.append('None')\n",
    "            paperCurr.append('None')\n",
    "    else:\n",
    "        paperCurr.append('None') # conferenceJournalUrl\n",
    "        paperCurr.append('None') # conferenceJournal\n",
    "    \n",
    "    paperCurr.append(details['title'])\n",
    "    paperCurr.append(details['abstract'])\n",
    "    paperUrlNum += 1\n",
    "    papers.append(paperCurr)"
   ]
  },
  {
   "cell_type": "code",
   "execution_count": 12,
   "id": "b27679a4-3ebf-4128-bdb9-e33892c01de7",
   "metadata": {},
   "outputs": [],
   "source": [
    "paperColumns = ['pId','paperUrlId','conferenceJournalId','conferenceJournalTitle','pTitle','abstract']\n",
    "\n",
    "papersDF = pd.DataFrame(papers, columns = paperColumns)"
   ]
  },
  {
   "cell_type": "code",
   "execution_count": 13,
   "id": "a6b592c8-75a5-4445-9891-bf2644ebeadf",
   "metadata": {},
   "outputs": [],
   "source": [
    "# Assigning paper subclasses\n",
    "# Assign type poster if not a conference/journal\n",
    "# Else, randomly choose from pTypes\n",
    "\n",
    "paperTypes = []\n",
    "pTypes = ['shortPaper','demoPaper','fullPaper']\n",
    "for index, row in papersDF.iterrows():\n",
    "    if row['conferenceJournalId'] == 'None':\n",
    "        paperTypes.append('poster')\n",
    "    else:\n",
    "        paperTypes.append(random.choice(pTypes))\n",
    "papersDF['pType'] = paperTypes"
   ]
  },
  {
   "cell_type": "code",
   "execution_count": 14,
   "id": "94564970-900d-426e-a9f1-3d76ac8ddafa",
   "metadata": {},
   "outputs": [],
   "source": [
    "papersDF.to_csv('data/papers.csv',index = False, header = True, mode = 'w')"
   ]
  },
  {
   "cell_type": "markdown",
   "id": "24922f2a-7248-4ee8-9032-bf72c7664bed",
   "metadata": {},
   "source": [
    "### Creating Reviews"
   ]
  },
  {
   "cell_type": "code",
   "execution_count": 18,
   "id": "5884f7d3-bb0c-4184-819d-ca774dede7ab",
   "metadata": {},
   "outputs": [],
   "source": [
    "# reviewColumns = ['rId','pId','aId','rReviewText','rDecision']\n",
    "\n",
    "reviewDecisionChoices = ['accepted','rejected']\n",
    "\n",
    "ids = []\n",
    "for i in range(len(papersDF)):\n",
    "    ids.append('r'+str(i))\n",
    "\n",
    "reviewsDF = pd.DataFrame(ids, columns = ['rId'])\n",
    "reviewsDF['pId'] = papersDF['pId']\n",
    "reviewsDF['rReviewText'] = ['content of the reviewed text goes here....'] * len(reviewsDF)\n",
    "reviewsDF['rDecision'] = random.choices(reviewDecisionChoices, weights = [0.8,0.2], k = len(reviewsDF))\n",
    "reviewsDF.to_csv('data/reviews.csv',index = False, header = True, mode = 'w')"
   ]
  }
 ],
 "metadata": {
  "kernelspec": {
   "display_name": "Python 3 (ipykernel)",
   "language": "python",
   "name": "python3"
  },
  "language_info": {
   "codemirror_mode": {
    "name": "ipython",
    "version": 3
   },
   "file_extension": ".py",
   "mimetype": "text/x-python",
   "name": "python",
   "nbconvert_exporter": "python",
   "pygments_lexer": "ipython3",
   "version": "3.9.6"
  }
 },
 "nbformat": 4,
 "nbformat_minor": 5
}
