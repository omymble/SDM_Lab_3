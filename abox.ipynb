{
 "cells": [
  {
   "cell_type": "code",
   "execution_count": 1,
   "id": "ef40cdf1-631b-43d0-ab16-0e78f4aeb157",
   "metadata": {},
   "outputs": [],
   "source": [
    "import pandas as pd\n",
    "import random\n",
    "from rdflib.namespace import RDF, RDFS, FOAF, XSD\n",
    "from rdflib import Graph\n",
    "import pandas as pd\n",
    "from rdflib import Namespace\n",
    "from rdflib import Literal"
   ]
  },
  {
   "cell_type": "code",
   "execution_count": 2,
   "id": "42cc1b07-4420-4f3e-a0e9-1039cd201901",
   "metadata": {},
   "outputs": [],
   "source": [
    "authorsDF = pd.read_csv('data/authors.csv')\n",
    "authorsPapersDF = pd.read_csv('data/authorsPapers.csv')\n",
    "chairsDF = pd.read_csv('data/chairs.csv')\n",
    "conferencesDF = pd.read_csv('data/conferences.csv')\n",
    "editorsDF = pd.read_csv('data/editors.csv')\n",
    "finalPapersDF = pd.read_csv('data/finalPapers.csv')\n",
    "journalsDF = pd.read_csv('data/journals.csv')\n",
    "papersDF = pd.read_csv('data/papers.csv')\n",
    "reviewersDF = pd.read_csv('data/reviewers.csv')\n",
    "reviewsDF = pd.read_csv('data/reviews.csv')\n",
    "subjectsConferencesJournals = pd.read_csv('data/subjectsConferencesJournals.csv')\n",
    "subjectDomainDF = pd.read_csv('data/subjectDomain.csv')\n",
    "subjectsPapersDF = pd.read_csv('data/subjectsPapers.csv')\n",
    "submittedPapersDF = pd.read_csv('data/submittedPapers.csv')"
   ]
  },
  {
   "cell_type": "code",
   "execution_count": 3,
   "id": "3bf0dcee-c82f-48a3-aad6-e97ed186481b",
   "metadata": {},
   "outputs": [
    {
     "data": {
      "text/html": [
       "<div>\n",
       "<style scoped>\n",
       "    .dataframe tbody tr th:only-of-type {\n",
       "        vertical-align: middle;\n",
       "    }\n",
       "\n",
       "    .dataframe tbody tr th {\n",
       "        vertical-align: top;\n",
       "    }\n",
       "\n",
       "    .dataframe thead th {\n",
       "        text-align: right;\n",
       "    }\n",
       "</style>\n",
       "<table border=\"1\" class=\"dataframe\">\n",
       "  <thead>\n",
       "    <tr style=\"text-align: right;\">\n",
       "      <th></th>\n",
       "      <th>authorUrl</th>\n",
       "      <th>paperId</th>\n",
       "      <th>authorId</th>\n",
       "      <th>authorName</th>\n",
       "      <th>paperUrl</th>\n",
       "      <th>conferenceJournalId</th>\n",
       "      <th>conferenceJournalTitle</th>\n",
       "      <th>paperTitle</th>\n",
       "      <th>paperAbstract</th>\n",
       "      <th>paperType</th>\n",
       "      <th>proceedingsVolume</th>\n",
       "    </tr>\n",
       "  </thead>\n",
       "  <tbody>\n",
       "    <tr>\n",
       "      <th>0</th>\n",
       "      <td>6391996</td>\n",
       "      <td>p0</td>\n",
       "      <td>a0</td>\n",
       "      <td>E. Bolyen</td>\n",
       "      <td>0c2d3b28d48426b8b72f7214a7708ba8b4efa9d6</td>\n",
       "      <td>j0</td>\n",
       "      <td>Nature Biotechnology</td>\n",
       "      <td>Reproducible, interactive, scalable and extens...</td>\n",
       "      <td>Abstract content goes here ...</td>\n",
       "      <td>shortPaper</td>\n",
       "      <td>4</td>\n",
       "    </tr>\n",
       "    <tr>\n",
       "      <th>1</th>\n",
       "      <td>6307534</td>\n",
       "      <td>p0</td>\n",
       "      <td>a1</td>\n",
       "      <td>J. Rideout</td>\n",
       "      <td>0c2d3b28d48426b8b72f7214a7708ba8b4efa9d6</td>\n",
       "      <td>j0</td>\n",
       "      <td>Nature Biotechnology</td>\n",
       "      <td>Reproducible, interactive, scalable and extens...</td>\n",
       "      <td>Abstract content goes here ...</td>\n",
       "      <td>shortPaper</td>\n",
       "      <td>4</td>\n",
       "    </tr>\n",
       "  </tbody>\n",
       "</table>\n",
       "</div>"
      ],
      "text/plain": [
       "  authorUrl paperId authorId  authorName  \\\n",
       "0   6391996      p0       a0   E. Bolyen   \n",
       "1   6307534      p0       a1  J. Rideout   \n",
       "\n",
       "                                   paperUrl conferenceJournalId  \\\n",
       "0  0c2d3b28d48426b8b72f7214a7708ba8b4efa9d6                  j0   \n",
       "1  0c2d3b28d48426b8b72f7214a7708ba8b4efa9d6                  j0   \n",
       "\n",
       "  conferenceJournalTitle                                         paperTitle  \\\n",
       "0   Nature Biotechnology  Reproducible, interactive, scalable and extens...   \n",
       "1   Nature Biotechnology  Reproducible, interactive, scalable and extens...   \n",
       "\n",
       "                    paperAbstract   paperType  proceedingsVolume  \n",
       "0  Abstract content goes here ...  shortPaper                  4  \n",
       "1  Abstract content goes here ...  shortPaper                  4  "
      ]
     },
     "execution_count": 3,
     "metadata": {},
     "output_type": "execute_result"
    }
   ],
   "source": [
    "authorsPapersDF.head(2)"
   ]
  },
  {
   "cell_type": "code",
   "execution_count": 4,
   "id": "2e2c8de1-e5c6-4d58-98d1-911a63fdd9ed",
   "metadata": {},
   "outputs": [],
   "source": [
    "# Creating a graph\n",
    "g = Graph()"
   ]
  },
  {
   "cell_type": "code",
   "execution_count": 5,
   "id": "2928df6f-bb95-4184-af98-309422fb1151",
   "metadata": {},
   "outputs": [],
   "source": [
    "# Create many URIRefs in the same namespace, i.e. URIs with the same prefix\n",
    "LAB = Namespace(\"http://SDM_LAB3.org/\")"
   ]
  },
  {
   "cell_type": "code",
   "execution_count": 6,
   "id": "21ad9e64-ace9-42be-b719-87a45f6f990a",
   "metadata": {},
   "outputs": [],
   "source": [
    "# Bind the lab namespace to a prefix for more readable output\n",
    "g.bind('lab',LAB)"
   ]
  },
  {
   "cell_type": "markdown",
   "id": "1b1390ca-c0c9-4396-95f9-b861b7262746",
   "metadata": {
    "jp-MarkdownHeadingCollapsed": true,
    "tags": []
   },
   "source": [
    "#### Author -- [writes] --> Paper"
   ]
  },
  {
   "cell_type": "code",
   "execution_count": 7,
   "id": "fef757da-9acc-4d4e-b391-50063bcf6223",
   "metadata": {},
   "outputs": [
    {
     "data": {
      "text/html": [
       "<div>\n",
       "<style scoped>\n",
       "    .dataframe tbody tr th:only-of-type {\n",
       "        vertical-align: middle;\n",
       "    }\n",
       "\n",
       "    .dataframe tbody tr th {\n",
       "        vertical-align: top;\n",
       "    }\n",
       "\n",
       "    .dataframe thead th {\n",
       "        text-align: right;\n",
       "    }\n",
       "</style>\n",
       "<table border=\"1\" class=\"dataframe\">\n",
       "  <thead>\n",
       "    <tr style=\"text-align: right;\">\n",
       "      <th></th>\n",
       "      <th>authorUrl</th>\n",
       "      <th>paperId</th>\n",
       "      <th>authorId</th>\n",
       "      <th>authorName</th>\n",
       "      <th>paperUrl</th>\n",
       "      <th>conferenceJournalId</th>\n",
       "      <th>conferenceJournalTitle</th>\n",
       "      <th>paperTitle</th>\n",
       "      <th>paperAbstract</th>\n",
       "      <th>paperType</th>\n",
       "      <th>proceedingsVolume</th>\n",
       "    </tr>\n",
       "  </thead>\n",
       "  <tbody>\n",
       "    <tr>\n",
       "      <th>0</th>\n",
       "      <td>6391996</td>\n",
       "      <td>p0</td>\n",
       "      <td>a0</td>\n",
       "      <td>E. Bolyen</td>\n",
       "      <td>0c2d3b28d48426b8b72f7214a7708ba8b4efa9d6</td>\n",
       "      <td>j0</td>\n",
       "      <td>Nature Biotechnology</td>\n",
       "      <td>Reproducible, interactive, scalable and extens...</td>\n",
       "      <td>Abstract content goes here ...</td>\n",
       "      <td>shortPaper</td>\n",
       "      <td>4</td>\n",
       "    </tr>\n",
       "    <tr>\n",
       "      <th>1</th>\n",
       "      <td>6307534</td>\n",
       "      <td>p0</td>\n",
       "      <td>a1</td>\n",
       "      <td>J. Rideout</td>\n",
       "      <td>0c2d3b28d48426b8b72f7214a7708ba8b4efa9d6</td>\n",
       "      <td>j0</td>\n",
       "      <td>Nature Biotechnology</td>\n",
       "      <td>Reproducible, interactive, scalable and extens...</td>\n",
       "      <td>Abstract content goes here ...</td>\n",
       "      <td>shortPaper</td>\n",
       "      <td>4</td>\n",
       "    </tr>\n",
       "  </tbody>\n",
       "</table>\n",
       "</div>"
      ],
      "text/plain": [
       "  authorUrl paperId authorId  authorName  \\\n",
       "0   6391996      p0       a0   E. Bolyen   \n",
       "1   6307534      p0       a1  J. Rideout   \n",
       "\n",
       "                                   paperUrl conferenceJournalId  \\\n",
       "0  0c2d3b28d48426b8b72f7214a7708ba8b4efa9d6                  j0   \n",
       "1  0c2d3b28d48426b8b72f7214a7708ba8b4efa9d6                  j0   \n",
       "\n",
       "  conferenceJournalTitle                                         paperTitle  \\\n",
       "0   Nature Biotechnology  Reproducible, interactive, scalable and extens...   \n",
       "1   Nature Biotechnology  Reproducible, interactive, scalable and extens...   \n",
       "\n",
       "                    paperAbstract   paperType  proceedingsVolume  \n",
       "0  Abstract content goes here ...  shortPaper                  4  \n",
       "1  Abstract content goes here ...  shortPaper                  4  "
      ]
     },
     "execution_count": 7,
     "metadata": {},
     "output_type": "execute_result"
    }
   ],
   "source": [
    "authorsPapersDF.head(2)"
   ]
  },
  {
   "cell_type": "code",
   "execution_count": 8,
   "id": "c2013096-0894-4b10-b506-2a5031d9d98c",
   "metadata": {},
   "outputs": [],
   "source": [
    "# Adding author--[writes]--> paper instances to the graph\n",
    "g.add((LAB.Author, LAB.writes, LAB.Paper))   \n",
    "for k in range(len(authorsPapersDF['authorName'])):\n",
    "    g.add((Literal(authorsPapersDF['authorName'][k]), LAB.writes, Literal(authorsPapersDF['paperTitle'][k])))"
   ]
  },
  {
   "cell_type": "markdown",
   "id": "9797483d-f53e-47a0-8491-dc695d12ef48",
   "metadata": {
    "jp-MarkdownHeadingCollapsed": true,
    "tags": []
   },
   "source": [
    "#### Paper -- [submitted] --> SubmittedPaper"
   ]
  },
  {
   "cell_type": "code",
   "execution_count": 9,
   "id": "c9e37176-9458-484a-a92f-fce09b374e50",
   "metadata": {},
   "outputs": [
    {
     "data": {
      "text/html": [
       "<div>\n",
       "<style scoped>\n",
       "    .dataframe tbody tr th:only-of-type {\n",
       "        vertical-align: middle;\n",
       "    }\n",
       "\n",
       "    .dataframe tbody tr th {\n",
       "        vertical-align: top;\n",
       "    }\n",
       "\n",
       "    .dataframe thead th {\n",
       "        text-align: right;\n",
       "    }\n",
       "</style>\n",
       "<table border=\"1\" class=\"dataframe\">\n",
       "  <thead>\n",
       "    <tr style=\"text-align: right;\">\n",
       "      <th></th>\n",
       "      <th>submissionId</th>\n",
       "      <th>paperId</th>\n",
       "      <th>paperTitle</th>\n",
       "      <th>paperAbstract</th>\n",
       "      <th>conferenceJournalId</th>\n",
       "      <th>conferenceJournalTitle</th>\n",
       "      <th>proceedingsVolume</th>\n",
       "      <th>decision</th>\n",
       "    </tr>\n",
       "  </thead>\n",
       "  <tbody>\n",
       "    <tr>\n",
       "      <th>0</th>\n",
       "      <td>s0</td>\n",
       "      <td>p0</td>\n",
       "      <td>Reproducible, interactive, scalable and extens...</td>\n",
       "      <td>Abstract content goes here ...</td>\n",
       "      <td>j0</td>\n",
       "      <td>Nature Biotechnology</td>\n",
       "      <td>4</td>\n",
       "      <td>accepted</td>\n",
       "    </tr>\n",
       "    <tr>\n",
       "      <th>1</th>\n",
       "      <td>s1</td>\n",
       "      <td>p1</td>\n",
       "      <td>High-Dimensional Probability: An Introduction ...</td>\n",
       "      <td>© 2018, Cambridge University Press Let us summ...</td>\n",
       "      <td>c90</td>\n",
       "      <td>Computer Vision and Pattern Recognition</td>\n",
       "      <td>5</td>\n",
       "      <td>accepted</td>\n",
       "    </tr>\n",
       "  </tbody>\n",
       "</table>\n",
       "</div>"
      ],
      "text/plain": [
       "  submissionId paperId                                         paperTitle  \\\n",
       "0           s0      p0  Reproducible, interactive, scalable and extens...   \n",
       "1           s1      p1  High-Dimensional Probability: An Introduction ...   \n",
       "\n",
       "                                       paperAbstract conferenceJournalId  \\\n",
       "0                     Abstract content goes here ...                  j0   \n",
       "1  © 2018, Cambridge University Press Let us summ...                 c90   \n",
       "\n",
       "                    conferenceJournalTitle  proceedingsVolume  decision  \n",
       "0                     Nature Biotechnology                  4  accepted  \n",
       "1  Computer Vision and Pattern Recognition                  5  accepted  "
      ]
     },
     "execution_count": 9,
     "metadata": {},
     "output_type": "execute_result"
    }
   ],
   "source": [
    "submittedPapersDF.head(2)"
   ]
  },
  {
   "cell_type": "code",
   "execution_count": 10,
   "id": "1353ac7b-6fb0-47c1-b6c2-1012a94ecbdb",
   "metadata": {},
   "outputs": [],
   "source": [
    "# Adding paper--[submitted]--> submittedPaper instances to the graph\n",
    "g.add((LAB.Paper, LAB.submitted, LAB.SubmittedPaper))   \n",
    "for k in range(len(submittedPapersDF['paperTitle'])):\n",
    "    g.add((Literal(submittedPapersDF['paperTitle'][k]), LAB.writes, Literal(submittedPapersDF['paperTitle'][k])))"
   ]
  },
  {
   "cell_type": "markdown",
   "id": "1c972a0d-88c4-4dca-b4c3-4a8e0440a1a5",
   "metadata": {
    "jp-MarkdownHeadingCollapsed": true,
    "tags": []
   },
   "source": [
    "#### Paper -- [paperRelatedTo] --> SubjectDomain"
   ]
  },
  {
   "cell_type": "code",
   "execution_count": 11,
   "id": "87167708-9643-4b93-ba3a-0d012e45bacd",
   "metadata": {},
   "outputs": [
    {
     "data": {
      "text/html": [
       "<div>\n",
       "<style scoped>\n",
       "    .dataframe tbody tr th:only-of-type {\n",
       "        vertical-align: middle;\n",
       "    }\n",
       "\n",
       "    .dataframe tbody tr th {\n",
       "        vertical-align: top;\n",
       "    }\n",
       "\n",
       "    .dataframe thead th {\n",
       "        text-align: right;\n",
       "    }\n",
       "</style>\n",
       "<table border=\"1\" class=\"dataframe\">\n",
       "  <thead>\n",
       "    <tr style=\"text-align: right;\">\n",
       "      <th></th>\n",
       "      <th>subjectDomainName</th>\n",
       "      <th>paperId</th>\n",
       "      <th>subjectDomainId</th>\n",
       "      <th>paperUrl</th>\n",
       "      <th>conferenceJournalId</th>\n",
       "      <th>conferenceJournalTitle</th>\n",
       "      <th>paperTitle</th>\n",
       "      <th>paperAbstract</th>\n",
       "      <th>paperType</th>\n",
       "      <th>proceedingsVolume</th>\n",
       "    </tr>\n",
       "  </thead>\n",
       "  <tbody>\n",
       "    <tr>\n",
       "      <th>0</th>\n",
       "      <td>Engineering</td>\n",
       "      <td>p0</td>\n",
       "      <td>d0</td>\n",
       "      <td>0c2d3b28d48426b8b72f7214a7708ba8b4efa9d6</td>\n",
       "      <td>j0</td>\n",
       "      <td>Nature Biotechnology</td>\n",
       "      <td>Reproducible, interactive, scalable and extens...</td>\n",
       "      <td>Abstract content goes here ...</td>\n",
       "      <td>shortPaper</td>\n",
       "      <td>4</td>\n",
       "    </tr>\n",
       "    <tr>\n",
       "      <th>1</th>\n",
       "      <td>Medicine</td>\n",
       "      <td>p0</td>\n",
       "      <td>d1</td>\n",
       "      <td>0c2d3b28d48426b8b72f7214a7708ba8b4efa9d6</td>\n",
       "      <td>j0</td>\n",
       "      <td>Nature Biotechnology</td>\n",
       "      <td>Reproducible, interactive, scalable and extens...</td>\n",
       "      <td>Abstract content goes here ...</td>\n",
       "      <td>shortPaper</td>\n",
       "      <td>4</td>\n",
       "    </tr>\n",
       "  </tbody>\n",
       "</table>\n",
       "</div>"
      ],
      "text/plain": [
       "  subjectDomainName paperId subjectDomainId  \\\n",
       "0       Engineering      p0              d0   \n",
       "1          Medicine      p0              d1   \n",
       "\n",
       "                                   paperUrl conferenceJournalId  \\\n",
       "0  0c2d3b28d48426b8b72f7214a7708ba8b4efa9d6                  j0   \n",
       "1  0c2d3b28d48426b8b72f7214a7708ba8b4efa9d6                  j0   \n",
       "\n",
       "  conferenceJournalTitle                                         paperTitle  \\\n",
       "0   Nature Biotechnology  Reproducible, interactive, scalable and extens...   \n",
       "1   Nature Biotechnology  Reproducible, interactive, scalable and extens...   \n",
       "\n",
       "                    paperAbstract   paperType  proceedingsVolume  \n",
       "0  Abstract content goes here ...  shortPaper                  4  \n",
       "1  Abstract content goes here ...  shortPaper                  4  "
      ]
     },
     "execution_count": 11,
     "metadata": {},
     "output_type": "execute_result"
    }
   ],
   "source": [
    "subjectsPapersDF.head(2)"
   ]
  },
  {
   "cell_type": "code",
   "execution_count": 12,
   "id": "f792e2e0-7d43-4106-90dc-4a65924c325d",
   "metadata": {},
   "outputs": [],
   "source": [
    "# Adding paper--[paperRelatedTo]--> subjectDomain instances to the graph\n",
    "g.add((LAB.Paper, LAB.paperRelatedTo, LAB.SubjectArea))\n",
    "for k in range(len(subjectsPapersDF['paperTitle'])):\n",
    "    g.add((Literal(subjectsPapersDF['paperTitle'][k]), LAB.paperRelatedTo, Literal(subjectsPapersDF['subjectDomainName'][k])))"
   ]
  },
  {
   "cell_type": "markdown",
   "id": "3874779f-fdc6-4b55-a683-ba25b1e7abbd",
   "metadata": {
    "jp-MarkdownHeadingCollapsed": true,
    "tags": []
   },
   "source": [
    "#### Conference -- [isIn] --> Proceedings"
   ]
  },
  {
   "cell_type": "code",
   "execution_count": 13,
   "id": "18af125d-c586-4363-9ee4-125d6c4c0734",
   "metadata": {},
   "outputs": [
    {
     "data": {
      "text/html": [
       "<div>\n",
       "<style scoped>\n",
       "    .dataframe tbody tr th:only-of-type {\n",
       "        vertical-align: middle;\n",
       "    }\n",
       "\n",
       "    .dataframe tbody tr th {\n",
       "        vertical-align: top;\n",
       "    }\n",
       "\n",
       "    .dataframe thead th {\n",
       "        text-align: right;\n",
       "    }\n",
       "</style>\n",
       "<table border=\"1\" class=\"dataframe\">\n",
       "  <thead>\n",
       "    <tr style=\"text-align: right;\">\n",
       "      <th></th>\n",
       "      <th>conferenceId</th>\n",
       "      <th>conferenceUrl</th>\n",
       "      <th>conferenceTitle</th>\n",
       "      <th>conferenceType</th>\n",
       "      <th>conferenceProceedings</th>\n",
       "    </tr>\n",
       "  </thead>\n",
       "  <tbody>\n",
       "    <tr>\n",
       "      <th>0</th>\n",
       "      <td>c0</td>\n",
       "      <td>b55b50b1-aae7-47a7-b042-8aecc930073d</td>\n",
       "      <td>International Conference on Human Factors in C...</td>\n",
       "      <td>symposium</td>\n",
       "      <td>10</td>\n",
       "    </tr>\n",
       "    <tr>\n",
       "      <th>1</th>\n",
       "      <td>c1</td>\n",
       "      <td>2c9ecac6-f875-4a9b-acc2-10bd9f6782df</td>\n",
       "      <td>Technical Symposium on Computer Science Education</td>\n",
       "      <td>workshop</td>\n",
       "      <td>1</td>\n",
       "    </tr>\n",
       "  </tbody>\n",
       "</table>\n",
       "</div>"
      ],
      "text/plain": [
       "  conferenceId                         conferenceUrl  \\\n",
       "0           c0  b55b50b1-aae7-47a7-b042-8aecc930073d   \n",
       "1           c1  2c9ecac6-f875-4a9b-acc2-10bd9f6782df   \n",
       "\n",
       "                                     conferenceTitle conferenceType  \\\n",
       "0  International Conference on Human Factors in C...      symposium   \n",
       "1  Technical Symposium on Computer Science Education       workshop   \n",
       "\n",
       "   conferenceProceedings  \n",
       "0                     10  \n",
       "1                      1  "
      ]
     },
     "execution_count": 13,
     "metadata": {},
     "output_type": "execute_result"
    }
   ],
   "source": [
    "conferencesDF.head(2)"
   ]
  },
  {
   "cell_type": "code",
   "execution_count": 14,
   "id": "657c663e-48b8-481c-afc2-756df8d4d9cd",
   "metadata": {},
   "outputs": [],
   "source": [
    "# Adding conference--[isIn]--> proceedings instances to the graph\n",
    "g.add((LAB.Conference, LAB.isIn, LAB.Proceedings))\n",
    "for k in range(len(conferencesDF['conferenceTitle'])):\n",
    "    g.add((Literal(conferencesDF['conferenceTitle'][k]), LAB.isIn, Literal(conferencesDF['conferenceProceedings'][k])))"
   ]
  },
  {
   "cell_type": "markdown",
   "id": "90aeb02a-49a0-4380-b710-1eb7081172db",
   "metadata": {
    "jp-MarkdownHeadingCollapsed": true,
    "tags": []
   },
   "source": [
    "#### Journal -- [isOf] --> Volume"
   ]
  },
  {
   "cell_type": "code",
   "execution_count": 15,
   "id": "b2344ff8-310d-4781-a6d2-a6b709499fc8",
   "metadata": {},
   "outputs": [
    {
     "data": {
      "text/html": [
       "<div>\n",
       "<style scoped>\n",
       "    .dataframe tbody tr th:only-of-type {\n",
       "        vertical-align: middle;\n",
       "    }\n",
       "\n",
       "    .dataframe tbody tr th {\n",
       "        vertical-align: top;\n",
       "    }\n",
       "\n",
       "    .dataframe thead th {\n",
       "        text-align: right;\n",
       "    }\n",
       "</style>\n",
       "<table border=\"1\" class=\"dataframe\">\n",
       "  <thead>\n",
       "    <tr style=\"text-align: right;\">\n",
       "      <th></th>\n",
       "      <th>journalId</th>\n",
       "      <th>journalUrl</th>\n",
       "      <th>journalTitle</th>\n",
       "      <th>journalVolumes</th>\n",
       "    </tr>\n",
       "  </thead>\n",
       "  <tbody>\n",
       "    <tr>\n",
       "      <th>0</th>\n",
       "      <td>j0</td>\n",
       "      <td>458166b3-de17-4bf3-bbbb-e53782de2f0f</td>\n",
       "      <td>Nature Biotechnology</td>\n",
       "      <td>4</td>\n",
       "    </tr>\n",
       "    <tr>\n",
       "      <th>1</th>\n",
       "      <td>j1</td>\n",
       "      <td>c6840156-ee10-4d78-8832-7f8909811576</td>\n",
       "      <td>IEEE Transactions on Knowledge and Data Engine...</td>\n",
       "      <td>0</td>\n",
       "    </tr>\n",
       "  </tbody>\n",
       "</table>\n",
       "</div>"
      ],
      "text/plain": [
       "  journalId                            journalUrl  \\\n",
       "0        j0  458166b3-de17-4bf3-bbbb-e53782de2f0f   \n",
       "1        j1  c6840156-ee10-4d78-8832-7f8909811576   \n",
       "\n",
       "                                        journalTitle  journalVolumes  \n",
       "0                               Nature Biotechnology               4  \n",
       "1  IEEE Transactions on Knowledge and Data Engine...               0  "
      ]
     },
     "execution_count": 15,
     "metadata": {},
     "output_type": "execute_result"
    }
   ],
   "source": [
    "journalsDF.head(2)"
   ]
  },
  {
   "cell_type": "code",
   "execution_count": 16,
   "id": "4c54163b-0f45-4a4c-90d2-7b0f2f62db2e",
   "metadata": {},
   "outputs": [],
   "source": [
    "# Adding journal--[isOf]--> volume instances to the graph\n",
    "g.add((LAB.Journal, LAB.isOf, LAB.Volume))\n",
    "for k in range(len(journalsDF['journalTitle'])):\n",
    "    g.add((Literal(journalsDF['journalTitle'][k]), LAB.isOf, Literal(journalsDF['journalVolumes'][k])))"
   ]
  },
  {
   "cell_type": "markdown",
   "id": "a59422b7-0024-45e7-9ba3-e2de51604347",
   "metadata": {
    "jp-MarkdownHeadingCollapsed": true,
    "tags": []
   },
   "source": [
    "#### SubmittedPaper -- [isSubmittedTo] --> Venue"
   ]
  },
  {
   "cell_type": "code",
   "execution_count": 17,
   "id": "21a36379-aaf1-445a-826b-e05db00cbb76",
   "metadata": {},
   "outputs": [
    {
     "data": {
      "text/html": [
       "<div>\n",
       "<style scoped>\n",
       "    .dataframe tbody tr th:only-of-type {\n",
       "        vertical-align: middle;\n",
       "    }\n",
       "\n",
       "    .dataframe tbody tr th {\n",
       "        vertical-align: top;\n",
       "    }\n",
       "\n",
       "    .dataframe thead th {\n",
       "        text-align: right;\n",
       "    }\n",
       "</style>\n",
       "<table border=\"1\" class=\"dataframe\">\n",
       "  <thead>\n",
       "    <tr style=\"text-align: right;\">\n",
       "      <th></th>\n",
       "      <th>submissionId</th>\n",
       "      <th>paperId</th>\n",
       "      <th>paperTitle</th>\n",
       "      <th>paperAbstract</th>\n",
       "      <th>conferenceJournalId</th>\n",
       "      <th>conferenceJournalTitle</th>\n",
       "      <th>proceedingsVolume</th>\n",
       "      <th>decision</th>\n",
       "    </tr>\n",
       "  </thead>\n",
       "  <tbody>\n",
       "    <tr>\n",
       "      <th>0</th>\n",
       "      <td>s0</td>\n",
       "      <td>p0</td>\n",
       "      <td>Reproducible, interactive, scalable and extens...</td>\n",
       "      <td>Abstract content goes here ...</td>\n",
       "      <td>j0</td>\n",
       "      <td>Nature Biotechnology</td>\n",
       "      <td>4</td>\n",
       "      <td>accepted</td>\n",
       "    </tr>\n",
       "    <tr>\n",
       "      <th>1</th>\n",
       "      <td>s1</td>\n",
       "      <td>p1</td>\n",
       "      <td>High-Dimensional Probability: An Introduction ...</td>\n",
       "      <td>© 2018, Cambridge University Press Let us summ...</td>\n",
       "      <td>c90</td>\n",
       "      <td>Computer Vision and Pattern Recognition</td>\n",
       "      <td>5</td>\n",
       "      <td>accepted</td>\n",
       "    </tr>\n",
       "  </tbody>\n",
       "</table>\n",
       "</div>"
      ],
      "text/plain": [
       "  submissionId paperId                                         paperTitle  \\\n",
       "0           s0      p0  Reproducible, interactive, scalable and extens...   \n",
       "1           s1      p1  High-Dimensional Probability: An Introduction ...   \n",
       "\n",
       "                                       paperAbstract conferenceJournalId  \\\n",
       "0                     Abstract content goes here ...                  j0   \n",
       "1  © 2018, Cambridge University Press Let us summ...                 c90   \n",
       "\n",
       "                    conferenceJournalTitle  proceedingsVolume  decision  \n",
       "0                     Nature Biotechnology                  4  accepted  \n",
       "1  Computer Vision and Pattern Recognition                  5  accepted  "
      ]
     },
     "execution_count": 17,
     "metadata": {},
     "output_type": "execute_result"
    }
   ],
   "source": [
    "submittedPapersDF.head(2)"
   ]
  },
  {
   "cell_type": "code",
   "execution_count": 18,
   "id": "e91afd7a-2777-4de0-bd02-401a69cac45d",
   "metadata": {},
   "outputs": [],
   "source": [
    "# Adding submittedPaper--[isSubmittedTo]--> venue instances to the graph\n",
    "g.add((LAB.SubmittedPaper, LAB.isSubmittedTo, LAB.Venue))\n",
    "for k in range(len(submittedPapersDF['paperTitle'])):\n",
    "    g.add((Literal(submittedPapersDF['paperTitle'][k]), LAB.isSubmittedTo, Literal(submittedPapersDF['conferenceJournalTitle'][k])))"
   ]
  },
  {
   "cell_type": "markdown",
   "id": "baca24ed-ef70-4c39-af69-3e3deeb02331",
   "metadata": {
    "jp-MarkdownHeadingCollapsed": true,
    "tags": []
   },
   "source": [
    "#### SubmittedPaper -- [isAs] --> FinalPaper"
   ]
  },
  {
   "cell_type": "code",
   "execution_count": 19,
   "id": "a54191d2-ea53-482e-a92a-77a58c8f01e3",
   "metadata": {},
   "outputs": [
    {
     "data": {
      "text/html": [
       "<div>\n",
       "<style scoped>\n",
       "    .dataframe tbody tr th:only-of-type {\n",
       "        vertical-align: middle;\n",
       "    }\n",
       "\n",
       "    .dataframe tbody tr th {\n",
       "        vertical-align: top;\n",
       "    }\n",
       "\n",
       "    .dataframe thead th {\n",
       "        text-align: right;\n",
       "    }\n",
       "</style>\n",
       "<table border=\"1\" class=\"dataframe\">\n",
       "  <thead>\n",
       "    <tr style=\"text-align: right;\">\n",
       "      <th></th>\n",
       "      <th>submissionId</th>\n",
       "      <th>paperId</th>\n",
       "      <th>paperTitle</th>\n",
       "      <th>paperAbstract</th>\n",
       "      <th>conferenceJournalId</th>\n",
       "      <th>conferenceJournalTitle</th>\n",
       "      <th>proceedingsVolume</th>\n",
       "      <th>decision</th>\n",
       "      <th>finalPaperId</th>\n",
       "    </tr>\n",
       "  </thead>\n",
       "  <tbody>\n",
       "    <tr>\n",
       "      <th>0</th>\n",
       "      <td>s0</td>\n",
       "      <td>p0</td>\n",
       "      <td>Reproducible, interactive, scalable and extens...</td>\n",
       "      <td>Abstract content goes here ...</td>\n",
       "      <td>j0</td>\n",
       "      <td>Nature Biotechnology</td>\n",
       "      <td>4</td>\n",
       "      <td>accepted</td>\n",
       "      <td>f0</td>\n",
       "    </tr>\n",
       "    <tr>\n",
       "      <th>1</th>\n",
       "      <td>s1</td>\n",
       "      <td>p1</td>\n",
       "      <td>High-Dimensional Probability: An Introduction ...</td>\n",
       "      <td>© 2018, Cambridge University Press Let us summ...</td>\n",
       "      <td>c90</td>\n",
       "      <td>Computer Vision and Pattern Recognition</td>\n",
       "      <td>5</td>\n",
       "      <td>accepted</td>\n",
       "      <td>f1</td>\n",
       "    </tr>\n",
       "  </tbody>\n",
       "</table>\n",
       "</div>"
      ],
      "text/plain": [
       "  submissionId paperId                                         paperTitle  \\\n",
       "0           s0      p0  Reproducible, interactive, scalable and extens...   \n",
       "1           s1      p1  High-Dimensional Probability: An Introduction ...   \n",
       "\n",
       "                                       paperAbstract conferenceJournalId  \\\n",
       "0                     Abstract content goes here ...                  j0   \n",
       "1  © 2018, Cambridge University Press Let us summ...                 c90   \n",
       "\n",
       "                    conferenceJournalTitle  proceedingsVolume  decision  \\\n",
       "0                     Nature Biotechnology                  4  accepted   \n",
       "1  Computer Vision and Pattern Recognition                  5  accepted   \n",
       "\n",
       "  finalPaperId  \n",
       "0           f0  \n",
       "1           f1  "
      ]
     },
     "execution_count": 19,
     "metadata": {},
     "output_type": "execute_result"
    }
   ],
   "source": [
    "finalPapersDF.head(2)"
   ]
  },
  {
   "cell_type": "code",
   "execution_count": 20,
   "id": "c87dd086-160d-4f18-a787-621f5c950456",
   "metadata": {},
   "outputs": [],
   "source": [
    "# Adding submittedPaper--[isAs]--> finalPaper instances to the graph\n",
    "g.add((LAB.SubmittedPaper, LAB.isAs, LAB.FinalPaper))\n",
    "for k in range(len(finalPapersDF['paperTitle'])):\n",
    "    g.add((Literal(finalPapersDF['paperTitle'][k]), LAB.isAs, Literal(finalPapersDF['paperTitle'][k])))"
   ]
  },
  {
   "cell_type": "markdown",
   "id": "397098bc-1271-4535-bdd1-173c4cbcbc44",
   "metadata": {
    "tags": []
   },
   "source": [
    "#### FinalPaper -- [isPublishedInConference] --> Proceedings & FinalPaper -- [isPublishedInJournal] --> Volume"
   ]
  },
  {
   "cell_type": "code",
   "execution_count": 21,
   "id": "5fb7eb61-8b82-40b5-b69b-bac94a956403",
   "metadata": {},
   "outputs": [
    {
     "data": {
      "text/html": [
       "<div>\n",
       "<style scoped>\n",
       "    .dataframe tbody tr th:only-of-type {\n",
       "        vertical-align: middle;\n",
       "    }\n",
       "\n",
       "    .dataframe tbody tr th {\n",
       "        vertical-align: top;\n",
       "    }\n",
       "\n",
       "    .dataframe thead th {\n",
       "        text-align: right;\n",
       "    }\n",
       "</style>\n",
       "<table border=\"1\" class=\"dataframe\">\n",
       "  <thead>\n",
       "    <tr style=\"text-align: right;\">\n",
       "      <th></th>\n",
       "      <th>submissionId</th>\n",
       "      <th>paperId</th>\n",
       "      <th>paperTitle</th>\n",
       "      <th>paperAbstract</th>\n",
       "      <th>conferenceJournalId</th>\n",
       "      <th>conferenceJournalTitle</th>\n",
       "      <th>proceedingsVolume</th>\n",
       "      <th>decision</th>\n",
       "      <th>finalPaperId</th>\n",
       "    </tr>\n",
       "  </thead>\n",
       "  <tbody>\n",
       "    <tr>\n",
       "      <th>0</th>\n",
       "      <td>s0</td>\n",
       "      <td>p0</td>\n",
       "      <td>Reproducible, interactive, scalable and extens...</td>\n",
       "      <td>Abstract content goes here ...</td>\n",
       "      <td>j0</td>\n",
       "      <td>Nature Biotechnology</td>\n",
       "      <td>4</td>\n",
       "      <td>accepted</td>\n",
       "      <td>f0</td>\n",
       "    </tr>\n",
       "    <tr>\n",
       "      <th>1</th>\n",
       "      <td>s1</td>\n",
       "      <td>p1</td>\n",
       "      <td>High-Dimensional Probability: An Introduction ...</td>\n",
       "      <td>© 2018, Cambridge University Press Let us summ...</td>\n",
       "      <td>c90</td>\n",
       "      <td>Computer Vision and Pattern Recognition</td>\n",
       "      <td>5</td>\n",
       "      <td>accepted</td>\n",
       "      <td>f1</td>\n",
       "    </tr>\n",
       "  </tbody>\n",
       "</table>\n",
       "</div>"
      ],
      "text/plain": [
       "  submissionId paperId                                         paperTitle  \\\n",
       "0           s0      p0  Reproducible, interactive, scalable and extens...   \n",
       "1           s1      p1  High-Dimensional Probability: An Introduction ...   \n",
       "\n",
       "                                       paperAbstract conferenceJournalId  \\\n",
       "0                     Abstract content goes here ...                  j0   \n",
       "1  © 2018, Cambridge University Press Let us summ...                 c90   \n",
       "\n",
       "                    conferenceJournalTitle  proceedingsVolume  decision  \\\n",
       "0                     Nature Biotechnology                  4  accepted   \n",
       "1  Computer Vision and Pattern Recognition                  5  accepted   \n",
       "\n",
       "  finalPaperId  \n",
       "0           f0  \n",
       "1           f1  "
      ]
     },
     "execution_count": 21,
     "metadata": {},
     "output_type": "execute_result"
    }
   ],
   "source": [
    "finalPapersDF.head(2)"
   ]
  },
  {
   "cell_type": "code",
   "execution_count": 22,
   "id": "b419371a-94ed-4324-afd5-e348bc41bc91",
   "metadata": {},
   "outputs": [
    {
     "data": {
      "text/html": [
       "<div>\n",
       "<style scoped>\n",
       "    .dataframe tbody tr th:only-of-type {\n",
       "        vertical-align: middle;\n",
       "    }\n",
       "\n",
       "    .dataframe tbody tr th {\n",
       "        vertical-align: top;\n",
       "    }\n",
       "\n",
       "    .dataframe thead th {\n",
       "        text-align: right;\n",
       "    }\n",
       "</style>\n",
       "<table border=\"1\" class=\"dataframe\">\n",
       "  <thead>\n",
       "    <tr style=\"text-align: right;\">\n",
       "      <th></th>\n",
       "      <th>conferenceId</th>\n",
       "      <th>conferenceUrl</th>\n",
       "      <th>conferenceTitle</th>\n",
       "      <th>conferenceType</th>\n",
       "      <th>conferenceProceedings</th>\n",
       "    </tr>\n",
       "  </thead>\n",
       "  <tbody>\n",
       "    <tr>\n",
       "      <th>0</th>\n",
       "      <td>c0</td>\n",
       "      <td>b55b50b1-aae7-47a7-b042-8aecc930073d</td>\n",
       "      <td>International Conference on Human Factors in C...</td>\n",
       "      <td>symposium</td>\n",
       "      <td>10</td>\n",
       "    </tr>\n",
       "    <tr>\n",
       "      <th>1</th>\n",
       "      <td>c1</td>\n",
       "      <td>2c9ecac6-f875-4a9b-acc2-10bd9f6782df</td>\n",
       "      <td>Technical Symposium on Computer Science Education</td>\n",
       "      <td>workshop</td>\n",
       "      <td>1</td>\n",
       "    </tr>\n",
       "  </tbody>\n",
       "</table>\n",
       "</div>"
      ],
      "text/plain": [
       "  conferenceId                         conferenceUrl  \\\n",
       "0           c0  b55b50b1-aae7-47a7-b042-8aecc930073d   \n",
       "1           c1  2c9ecac6-f875-4a9b-acc2-10bd9f6782df   \n",
       "\n",
       "                                     conferenceTitle conferenceType  \\\n",
       "0  International Conference on Human Factors in C...      symposium   \n",
       "1  Technical Symposium on Computer Science Education       workshop   \n",
       "\n",
       "   conferenceProceedings  \n",
       "0                     10  \n",
       "1                      1  "
      ]
     },
     "execution_count": 22,
     "metadata": {},
     "output_type": "execute_result"
    }
   ],
   "source": [
    "conferencesDF.head(2)"
   ]
  },
  {
   "cell_type": "code",
   "execution_count": 23,
   "id": "cfde65f2-c0f4-4387-8b47-c838de896810",
   "metadata": {},
   "outputs": [],
   "source": [
    "# Adding FinalPaper -- [isPublishedInConference] --> Proceedings & FinalPaper -- [isPublishedInJournal] --> Volume instances to the graph\n",
    "g.add((LAB.FinalPaper, LAB.isPublishedInConference, LAB.Proceedings))\n",
    "g.add((LAB.FinalPaper, LAB.isPublishedInJournal, LAB.Volume))\n",
    "for k in range(len(finalPapersDF['paperTitle'])):\n",
    "    if finalPapersDF['conferenceJournalId'][k][0] == 'c':\n",
    "        g.add((Literal(finalPapersDF['paperTitle'][k]), LAB.isPublishedInConference, Literal(finalPapersDF['proceedingsVolume'][k])))\n",
    "    else:\n",
    "        g.add((Literal(finalPapersDF['paperTitle'][k]), LAB.isPublishedInJournal, Literal(finalPapersDF['proceedingsVolume'][k])))"
   ]
  },
  {
   "cell_type": "markdown",
   "id": "e57500e2-fcef-498b-b3ff-4a7003147c2c",
   "metadata": {},
   "source": [
    "#### Proceedings -- [proceedingsRelatedTo] --> SubjectDomain & Volumes -- [volumeRelatedTo] --> SubjectDomain"
   ]
  },
  {
   "cell_type": "code",
   "execution_count": 24,
   "id": "fac62eff-a5a6-4287-9d3a-f0c4241ba61e",
   "metadata": {},
   "outputs": [
    {
     "data": {
      "text/html": [
       "<div>\n",
       "<style scoped>\n",
       "    .dataframe tbody tr th:only-of-type {\n",
       "        vertical-align: middle;\n",
       "    }\n",
       "\n",
       "    .dataframe tbody tr th {\n",
       "        vertical-align: top;\n",
       "    }\n",
       "\n",
       "    .dataframe thead th {\n",
       "        text-align: right;\n",
       "    }\n",
       "</style>\n",
       "<table border=\"1\" class=\"dataframe\">\n",
       "  <thead>\n",
       "    <tr style=\"text-align: right;\">\n",
       "      <th></th>\n",
       "      <th>conferenceJournalTitle</th>\n",
       "      <th>conferenceJournalId</th>\n",
       "      <th>subjectDomainName</th>\n",
       "    </tr>\n",
       "  </thead>\n",
       "  <tbody>\n",
       "    <tr>\n",
       "      <th>0</th>\n",
       "      <td>Nature Biotechnology</td>\n",
       "      <td>j0</td>\n",
       "      <td>['Medicine', 'Biology', 'Engineering', 'Comput...</td>\n",
       "    </tr>\n",
       "    <tr>\n",
       "      <th>1</th>\n",
       "      <td>Workshop on Learning from Authoritative Securi...</td>\n",
       "      <td>c52</td>\n",
       "      <td>['Medicine', 'Sociology', 'Biology', 'Engineer...</td>\n",
       "    </tr>\n",
       "  </tbody>\n",
       "</table>\n",
       "</div>"
      ],
      "text/plain": [
       "                              conferenceJournalTitle conferenceJournalId  \\\n",
       "0                               Nature Biotechnology                  j0   \n",
       "1  Workshop on Learning from Authoritative Securi...                 c52   \n",
       "\n",
       "                                   subjectDomainName  \n",
       "0  ['Medicine', 'Biology', 'Engineering', 'Comput...  \n",
       "1  ['Medicine', 'Sociology', 'Biology', 'Engineer...  "
      ]
     },
     "execution_count": 24,
     "metadata": {},
     "output_type": "execute_result"
    }
   ],
   "source": [
    "subjectsConferencesJournals.head(2)"
   ]
  },
  {
   "cell_type": "code",
   "execution_count": 25,
   "id": "a066a758-7c28-46eb-930f-358c8e4260d6",
   "metadata": {},
   "outputs": [],
   "source": [
    "# Adding Proceedings -- [proceedingsRelatedTo] --> SubjectDomain & Volumes -- [volumeRelatedTo] --> SubjectDomain instances to the graph\n",
    "g.add((LAB.Proceedings, LAB.proceedingsRelatedTo, LAB.SubjectDomain))\n",
    "g.add((LAB.Volume, LAB.volumeRelatedTo, LAB.SubjectDomain))\n",
    "for k in range(len(subjectsConferencesJournals['conferenceJournalTitle'])):\n",
    "    curr_confJour_keyword = subjectsConferencesJournals['subjectDomainName'][k]\n",
    "    if subjectsConferencesJournals['conferenceJournalId'][k][0] == 'c':\n",
    "        for keyword in curr_confJour_keyword:\n",
    "            g.add((Literal(subjectsConferencesJournals['conferenceJournalTitle'][k]), LAB.proceedingsRelatedTo, Literal(keyword)))\n",
    "    else:\n",
    "        for keyword in curr_confJour_keyword:\n",
    "            g.add((Literal(subjectsConferencesJournals['conferenceJournalTitle'][k]), LAB.volumeRelatedTo, Literal(keyword)))"
   ]
  },
  {
   "cell_type": "markdown",
   "id": "bbc195f5-06e9-4402-aeca-11efa5dfddb6",
   "metadata": {},
   "source": [
    "#### Creating Chair -- [handleConference] --> Conference & Editor -- [handleJournal] --> [Journal]"
   ]
  },
  {
   "cell_type": "code",
   "execution_count": 26,
   "id": "b56e0587-d823-4f27-bc7f-fa8ddb87a0db",
   "metadata": {},
   "outputs": [
    {
     "data": {
      "text/html": [
       "<div>\n",
       "<style scoped>\n",
       "    .dataframe tbody tr th:only-of-type {\n",
       "        vertical-align: middle;\n",
       "    }\n",
       "\n",
       "    .dataframe tbody tr th {\n",
       "        vertical-align: top;\n",
       "    }\n",
       "\n",
       "    .dataframe thead th {\n",
       "        text-align: right;\n",
       "    }\n",
       "</style>\n",
       "<table border=\"1\" class=\"dataframe\">\n",
       "  <thead>\n",
       "    <tr style=\"text-align: right;\">\n",
       "      <th></th>\n",
       "      <th>conferenceId</th>\n",
       "      <th>chairId</th>\n",
       "      <th>authorId</th>\n",
       "      <th>authorUrl</th>\n",
       "      <th>authorName</th>\n",
       "      <th>conferenceUrl</th>\n",
       "      <th>conferenceTitle</th>\n",
       "      <th>conferenceType</th>\n",
       "      <th>conferenceProceedings</th>\n",
       "    </tr>\n",
       "  </thead>\n",
       "  <tbody>\n",
       "    <tr>\n",
       "      <th>0</th>\n",
       "      <td>c90</td>\n",
       "      <td>chair0</td>\n",
       "      <td>a5876</td>\n",
       "      <td>1753858</td>\n",
       "      <td>R. Casadio</td>\n",
       "      <td>768b87bb-8a18-4d9c-a161-4d483c776bcf</td>\n",
       "      <td>Computer Vision and Pattern Recognition</td>\n",
       "      <td>expertGroup</td>\n",
       "      <td>5</td>\n",
       "    </tr>\n",
       "    <tr>\n",
       "      <th>1</th>\n",
       "      <td>c90</td>\n",
       "      <td>chair15</td>\n",
       "      <td>a8803</td>\n",
       "      <td>3862899</td>\n",
       "      <td>A. Baylay</td>\n",
       "      <td>768b87bb-8a18-4d9c-a161-4d483c776bcf</td>\n",
       "      <td>Computer Vision and Pattern Recognition</td>\n",
       "      <td>expertGroup</td>\n",
       "      <td>5</td>\n",
       "    </tr>\n",
       "  </tbody>\n",
       "</table>\n",
       "</div>"
      ],
      "text/plain": [
       "  conferenceId  chairId authorId authorUrl  authorName  \\\n",
       "0          c90   chair0    a5876   1753858  R. Casadio   \n",
       "1          c90  chair15    a8803   3862899   A. Baylay   \n",
       "\n",
       "                          conferenceUrl  \\\n",
       "0  768b87bb-8a18-4d9c-a161-4d483c776bcf   \n",
       "1  768b87bb-8a18-4d9c-a161-4d483c776bcf   \n",
       "\n",
       "                           conferenceTitle conferenceType  \\\n",
       "0  Computer Vision and Pattern Recognition    expertGroup   \n",
       "1  Computer Vision and Pattern Recognition    expertGroup   \n",
       "\n",
       "   conferenceProceedings  \n",
       "0                      5  \n",
       "1                      5  "
      ]
     },
     "execution_count": 26,
     "metadata": {},
     "output_type": "execute_result"
    }
   ],
   "source": [
    "chairsDF.head(2)"
   ]
  },
  {
   "cell_type": "code",
   "execution_count": 27,
   "id": "257bd364-7788-48c0-9f0e-ad19aea801d0",
   "metadata": {},
   "outputs": [],
   "source": [
    "# Adding Creating Chair -- [handleConference] --> Conference instances to the graph\n",
    "g.add((LAB.Chair, LAB.handleConference, LAB.Conference))\n",
    "for k in range(len(chairsDF['conferenceId'])):\n",
    "    g.add((Literal(chairsDF['authorName'][k]), LAB.handleConference, Literal(chairsDF['conferenceTitle'][k])))"
   ]
  },
  {
   "cell_type": "code",
   "execution_count": 28,
   "id": "b8287e6d-2ab0-4256-85d6-97a8bd532410",
   "metadata": {},
   "outputs": [
    {
     "data": {
      "text/html": [
       "<div>\n",
       "<style scoped>\n",
       "    .dataframe tbody tr th:only-of-type {\n",
       "        vertical-align: middle;\n",
       "    }\n",
       "\n",
       "    .dataframe tbody tr th {\n",
       "        vertical-align: top;\n",
       "    }\n",
       "\n",
       "    .dataframe thead th {\n",
       "        text-align: right;\n",
       "    }\n",
       "</style>\n",
       "<table border=\"1\" class=\"dataframe\">\n",
       "  <thead>\n",
       "    <tr style=\"text-align: right;\">\n",
       "      <th></th>\n",
       "      <th>journalId</th>\n",
       "      <th>editorId</th>\n",
       "      <th>authorId</th>\n",
       "      <th>authorUrl</th>\n",
       "      <th>authorName</th>\n",
       "      <th>journalUrl</th>\n",
       "      <th>journalTitle</th>\n",
       "      <th>journalVolumes</th>\n",
       "    </tr>\n",
       "  </thead>\n",
       "  <tbody>\n",
       "    <tr>\n",
       "      <th>0</th>\n",
       "      <td>j0</td>\n",
       "      <td>editor0</td>\n",
       "      <td>a9128</td>\n",
       "      <td>4309890</td>\n",
       "      <td>F. Lens</td>\n",
       "      <td>458166b3-de17-4bf3-bbbb-e53782de2f0f</td>\n",
       "      <td>Nature Biotechnology</td>\n",
       "      <td>4</td>\n",
       "    </tr>\n",
       "    <tr>\n",
       "      <th>1</th>\n",
       "      <td>j0</td>\n",
       "      <td>editor125</td>\n",
       "      <td>a2233</td>\n",
       "      <td>121828020</td>\n",
       "      <td>Ian M. Foster</td>\n",
       "      <td>458166b3-de17-4bf3-bbbb-e53782de2f0f</td>\n",
       "      <td>Nature Biotechnology</td>\n",
       "      <td>4</td>\n",
       "    </tr>\n",
       "  </tbody>\n",
       "</table>\n",
       "</div>"
      ],
      "text/plain": [
       "  journalId   editorId authorId  authorUrl     authorName  \\\n",
       "0        j0    editor0    a9128    4309890        F. Lens   \n",
       "1        j0  editor125    a2233  121828020  Ian M. Foster   \n",
       "\n",
       "                             journalUrl          journalTitle  journalVolumes  \n",
       "0  458166b3-de17-4bf3-bbbb-e53782de2f0f  Nature Biotechnology               4  \n",
       "1  458166b3-de17-4bf3-bbbb-e53782de2f0f  Nature Biotechnology               4  "
      ]
     },
     "execution_count": 28,
     "metadata": {},
     "output_type": "execute_result"
    }
   ],
   "source": [
    "editorsDF.head(2)"
   ]
  },
  {
   "cell_type": "code",
   "execution_count": 29,
   "id": "79b6d4d2-52e3-486a-9659-9d5900012a62",
   "metadata": {},
   "outputs": [],
   "source": [
    "# Adding Editor -- [handleJournal] --> [Journal] instances to the graph\n",
    "g.add((LAB.Editor, LAB.handleJournal, LAB.Journal))\n",
    "for k in range(len(editorsDF['journalId'])):\n",
    "    g.add((Literal(editorsDF['authorName'][k]), LAB.handleJournal, Literal(editorsDF['journalTitle'][k])))"
   ]
  },
  {
   "cell_type": "markdown",
   "id": "3860efd6-b94c-49e0-a7c9-e75a514e0ea3",
   "metadata": {},
   "source": [
    "#### Creating Handler -- [assigns] --> Reviewer: #TODO:"
   ]
  },
  {
   "cell_type": "code",
   "execution_count": 30,
   "id": "ee5aadba-63db-4ca4-9b99-21f65857b3bf",
   "metadata": {},
   "outputs": [],
   "source": [
    "# Adding Creating Handler -- [assigns] --> Reviewer instances to the graph"
   ]
  },
  {
   "cell_type": "markdown",
   "id": "1be9cd0b-fe3f-4cb4-8d0c-041d4b2dfdb3",
   "metadata": {},
   "source": [
    "#### Creating Reviewer -- [reviewed] --> ReviewText"
   ]
  },
  {
   "cell_type": "code",
   "execution_count": 31,
   "id": "c93b7127-20c7-4189-b8d7-5d2b17061a42",
   "metadata": {},
   "outputs": [
    {
     "data": {
      "text/html": [
       "<div>\n",
       "<style scoped>\n",
       "    .dataframe tbody tr th:only-of-type {\n",
       "        vertical-align: middle;\n",
       "    }\n",
       "\n",
       "    .dataframe tbody tr th {\n",
       "        vertical-align: top;\n",
       "    }\n",
       "\n",
       "    .dataframe thead th {\n",
       "        text-align: right;\n",
       "    }\n",
       "</style>\n",
       "<table border=\"1\" class=\"dataframe\">\n",
       "  <thead>\n",
       "    <tr style=\"text-align: right;\">\n",
       "      <th></th>\n",
       "      <th>rId</th>\n",
       "      <th>submissionId</th>\n",
       "      <th>authorId</th>\n",
       "      <th>authorUrl</th>\n",
       "      <th>authorName</th>\n",
       "      <th>paperId</th>\n",
       "      <th>paperTitle</th>\n",
       "      <th>paperAbstract</th>\n",
       "      <th>conferenceJournalId</th>\n",
       "      <th>conferenceJournalTitle</th>\n",
       "      <th>proceedingsVolume</th>\n",
       "      <th>decision</th>\n",
       "    </tr>\n",
       "  </thead>\n",
       "  <tbody>\n",
       "    <tr>\n",
       "      <th>0</th>\n",
       "      <td>r0</td>\n",
       "      <td>s0</td>\n",
       "      <td>a10203</td>\n",
       "      <td>2646507</td>\n",
       "      <td>H. Kälviäinen</td>\n",
       "      <td>p0</td>\n",
       "      <td>Reproducible, interactive, scalable and extens...</td>\n",
       "      <td>Abstract content goes here ...</td>\n",
       "      <td>j0</td>\n",
       "      <td>Nature Biotechnology</td>\n",
       "      <td>4</td>\n",
       "      <td>accepted</td>\n",
       "    </tr>\n",
       "    <tr>\n",
       "      <th>1</th>\n",
       "      <td>r1</td>\n",
       "      <td>s0</td>\n",
       "      <td>a3119</td>\n",
       "      <td>1398779531</td>\n",
       "      <td>Régine Vignes-Lebbe</td>\n",
       "      <td>p0</td>\n",
       "      <td>Reproducible, interactive, scalable and extens...</td>\n",
       "      <td>Abstract content goes here ...</td>\n",
       "      <td>j0</td>\n",
       "      <td>Nature Biotechnology</td>\n",
       "      <td>4</td>\n",
       "      <td>accepted</td>\n",
       "    </tr>\n",
       "  </tbody>\n",
       "</table>\n",
       "</div>"
      ],
      "text/plain": [
       "  rId submissionId authorId   authorUrl           authorName paperId  \\\n",
       "0  r0           s0   a10203     2646507        H. Kälviäinen      p0   \n",
       "1  r1           s0    a3119  1398779531  Régine Vignes-Lebbe      p0   \n",
       "\n",
       "                                          paperTitle  \\\n",
       "0  Reproducible, interactive, scalable and extens...   \n",
       "1  Reproducible, interactive, scalable and extens...   \n",
       "\n",
       "                    paperAbstract conferenceJournalId conferenceJournalTitle  \\\n",
       "0  Abstract content goes here ...                  j0   Nature Biotechnology   \n",
       "1  Abstract content goes here ...                  j0   Nature Biotechnology   \n",
       "\n",
       "   proceedingsVolume  decision  \n",
       "0                  4  accepted  \n",
       "1                  4  accepted  "
      ]
     },
     "execution_count": 31,
     "metadata": {},
     "output_type": "execute_result"
    }
   ],
   "source": [
    "reviewersDF.head(2)"
   ]
  },
  {
   "cell_type": "code",
   "execution_count": 32,
   "id": "aeaf61c8-7204-4732-8bd5-ef16f54eea1b",
   "metadata": {},
   "outputs": [],
   "source": [
    "# Adding Reviewer -- [reviewed] --> ReviewText instances to the graph\n",
    "g.add((LAB.Reviewer, LAB.reviewed, LAB.ReviewText))\n",
    "for k in range(len(reviewersDF['rId'])):\n",
    "    g.add((Literal(reviewersDF['authorName'][k]), LAB.reviewed, Literal(reviewersDF['conferenceJournalTitle'][k])))"
   ]
  },
  {
   "cell_type": "markdown",
   "id": "0b40f9da-c906-4dab-bb51-9e95dd861b5d",
   "metadata": {},
   "source": [
    "#### Creating ReviewText -- [isReviewOf] --> SubmittedPaper"
   ]
  },
  {
   "cell_type": "code",
   "execution_count": 33,
   "id": "f52424cf-8bef-4811-819d-0bff341d1b8f",
   "metadata": {},
   "outputs": [
    {
     "data": {
      "text/html": [
       "<div>\n",
       "<style scoped>\n",
       "    .dataframe tbody tr th:only-of-type {\n",
       "        vertical-align: middle;\n",
       "    }\n",
       "\n",
       "    .dataframe tbody tr th {\n",
       "        vertical-align: top;\n",
       "    }\n",
       "\n",
       "    .dataframe thead th {\n",
       "        text-align: right;\n",
       "    }\n",
       "</style>\n",
       "<table border=\"1\" class=\"dataframe\">\n",
       "  <thead>\n",
       "    <tr style=\"text-align: right;\">\n",
       "      <th></th>\n",
       "      <th>reviewId</th>\n",
       "      <th>submittedPaperId</th>\n",
       "      <th>reviewText</th>\n",
       "      <th>reviewDecision</th>\n",
       "      <th>submittedPaperTitle</th>\n",
       "    </tr>\n",
       "  </thead>\n",
       "  <tbody>\n",
       "    <tr>\n",
       "      <th>0</th>\n",
       "      <td>r0</td>\n",
       "      <td>s0</td>\n",
       "      <td>content of the reviewed text goes here....</td>\n",
       "      <td>accepted</td>\n",
       "      <td>Reproducible, interactive, scalable and extens...</td>\n",
       "    </tr>\n",
       "    <tr>\n",
       "      <th>1</th>\n",
       "      <td>r1</td>\n",
       "      <td>s1</td>\n",
       "      <td>content of the reviewed text goes here....</td>\n",
       "      <td>accepted</td>\n",
       "      <td>High-Dimensional Probability: An Introduction ...</td>\n",
       "    </tr>\n",
       "  </tbody>\n",
       "</table>\n",
       "</div>"
      ],
      "text/plain": [
       "  reviewId submittedPaperId                                  reviewText  \\\n",
       "0       r0               s0  content of the reviewed text goes here....   \n",
       "1       r1               s1  content of the reviewed text goes here....   \n",
       "\n",
       "  reviewDecision                                submittedPaperTitle  \n",
       "0       accepted  Reproducible, interactive, scalable and extens...  \n",
       "1       accepted  High-Dimensional Probability: An Introduction ...  "
      ]
     },
     "execution_count": 33,
     "metadata": {},
     "output_type": "execute_result"
    }
   ],
   "source": [
    "reviewsDF.head(2)"
   ]
  },
  {
   "cell_type": "code",
   "execution_count": 34,
   "id": "f0843294-033d-4175-819c-97f48e6fa864",
   "metadata": {},
   "outputs": [],
   "source": [
    "# Adding ReviewText -- [isReviewOf] --> SubmittedPaper instances to the graph\n",
    "g.add((LAB.ReviewText, LAB.isReviewOf, LAB.SubmittedPaper))\n",
    "for k in range(len(reviewsDF['reviewId'])):\n",
    "    g.add((Literal(reviewsDF['reviewText'][k]), LAB.isReviewOf, Literal(reviewsDF['submittedPaperTitle'][k])))"
   ]
  },
  {
   "cell_type": "markdown",
   "id": "92f07537-277e-4569-b65f-304d2b778c95",
   "metadata": {},
   "source": [
    "#### Additional triples - TODO:"
   ]
  },
  {
   "cell_type": "markdown",
   "id": "22e173f4-7258-4734-b490-70e244803a2a",
   "metadata": {},
   "source": [
    "#### Paper -- [paperTitle] --> String \n",
    "g.add((LAB.Paper, LAB.paperTitle, XSD.String))\n",
    "\n",
    "#### Paper -- [paperAbstract] --> String\n",
    "g.add((LAB.Paper, LAB.paperAbstract, XSD.String))\n",
    "\n",
    "#### Author -- [authorName] --> String \n",
    "g.add((LAB.Author, LAB.authorName, XSD.String))\n",
    "\n",
    "#### Journal -- [journalTitle] --> String \n",
    "g.add((LAB.Journal, LAB.journalTitle, XSD.String))\n",
    "\n",
    "#### Conference -- [conferenceTitle] --> String \n",
    "g.add((LAB.Conference, LAB.conferenceTitle, XSD.String))\n",
    "\n",
    "#### Proceedings -- [proceedingName] --> String \n",
    "g.add((LAB.Proceedings, LAB.proceedingName, XSD.String))\n",
    "\n",
    "#### Proceedings -- [proceedingYear] --> int \n",
    "g.add((LAB.Proceedings, LAB.proceedingYear, XSD.int))\n",
    "\n",
    "#### Volume -- [volumeName] --> String \n",
    "g.add((LAB.Proceedings, LAB.proceedingName, XSD.String))\n",
    "\n",
    "#### Volume -- [volumeYear] --> int \n",
    "g.add((LAB.Volume, LAB.volumeYear, XSD.int))\n",
    "\n",
    "#### SubjectDomain -- [keywords] --> String \n",
    "g.add((LAB.SubjectDomain, LAB.keywords, XSD.String))\n",
    "\n",
    "#### ReviewText -- [comment] --> String \n",
    "g.add((LAB.ReviewText, LAB.comment, XSD.String))\n",
    "\n",
    "#### ReviewText -- [decision] --> boolean \n",
    "g.add((LAB.ReviewText, LAB.decision, XSD.boolean))\n",
    "\n",
    "#### FinalPaper -- [paperAcceptanceDate] --> date\n",
    "g.add((LAB.FinalPaper, LAB.paperAcceptanceDate, XSD.date))"
   ]
  },
  {
   "cell_type": "code",
   "execution_count": 36,
   "id": "f80f9cec-273e-4fa0-ae4f-428edd27b98f",
   "metadata": {},
   "outputs": [],
   "source": [
    "# g.serialize(format = 'ttl')"
   ]
  }
 ],
 "metadata": {
  "kernelspec": {
   "display_name": "Python 3 (ipykernel)",
   "language": "python",
   "name": "python3"
  },
  "language_info": {
   "codemirror_mode": {
    "name": "ipython",
    "version": 3
   },
   "file_extension": ".py",
   "mimetype": "text/x-python",
   "name": "python",
   "nbconvert_exporter": "python",
   "pygments_lexer": "ipython3",
   "version": "3.9.6"
  }
 },
 "nbformat": 4,
 "nbformat_minor": 5
}
