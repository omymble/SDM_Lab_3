{
 "cells": [
  {
   "cell_type": "code",
   "execution_count": 2,
   "id": "8a1f8c7a-4a5a-4503-b11e-d2315b617480",
   "metadata": {},
   "outputs": [],
   "source": [
    "import datetime\n",
    "import json\n",
    "from semanticscholar import SemanticScholar\n",
    "from json import JSONEncoder"
   ]
  },
  {
   "cell_type": "code",
   "execution_count": 3,
   "id": "d2674652-ed6c-4849-b04c-3a61a208f48c",
   "metadata": {},
   "outputs": [],
   "source": [
    "s2_api_key = '1WBrQVQGeo6ZZI2eJmWMk2eFnmgl8W1T7VEDvRyQ'\n",
    "sch = SemanticScholar(api_key=s2_api_key)"
   ]
  },
  {
   "cell_type": "code",
   "execution_count": 4,
   "id": "b39cf0ea-bfb3-4a66-81dd-f82230610652",
   "metadata": {},
   "outputs": [],
   "source": [
    "ds_papers = sch.search_paper('data science', limit=100)\n",
    "se_papers = sch.search_paper('software engineering', limit=100)\n",
    "bi_papers = sch.search_paper('bioinformatics', limit=100)\n",
    "graph_papers = sch.search_paper('graph theory', limit=100)\n",
    "db_papers = sch.search_paper('database', limit=100)"
   ]
  },
  {
   "cell_type": "code",
   "execution_count": 4,
   "id": "0217f976-3fad-4528-8dd7-76cb64279b62",
   "metadata": {},
   "outputs": [],
   "source": [
    "def json_default(value):\n",
    "    if isinstance(value, datetime.date):\n",
    "        return dict(year=value.year, month=value.month, day=value.day)\n",
    "    else:\n",
    "        return value.__dict__"
   ]
  },
  {
   "cell_type": "code",
   "execution_count": 5,
   "id": "773cc61d-47e3-4825-a3bf-69cf632b64e3",
   "metadata": {},
   "outputs": [],
   "source": [
    "dataset = [ds_papers, se_papers, bi_papers, graph_papers, db_papers]\n",
    "\n",
    "result = []\n",
    "for data in dataset:\n",
    "    length = 1\n",
    "    for res in data:\n",
    "        if length > 500:\n",
    "            break\n",
    "        length += 1\n",
    "        result.append(res)\n",
    "\n",
    "# Dump dataset as json\n",
    "with open('data/dataset.json', 'w+') as f:\n",
    "    json.dump(result, f, default=json_default)"
   ]
  }
 ],
 "metadata": {
  "kernelspec": {
   "display_name": "Python 3 (ipykernel)",
   "language": "python",
   "name": "python3"
  },
  "language_info": {
   "codemirror_mode": {
    "name": "ipython",
    "version": 3
   },
   "file_extension": ".py",
   "mimetype": "text/x-python",
   "name": "python",
   "nbconvert_exporter": "python",
   "pygments_lexer": "ipython3",
   "version": "3.9.6"
  }
 },
 "nbformat": 4,
 "nbformat_minor": 5
}
