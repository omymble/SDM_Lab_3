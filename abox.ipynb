{
 "cells": [
  {
   "cell_type": "code",
   "execution_count": 18,
   "id": "ef40cdf1-631b-43d0-ab16-0e78f4aeb157",
   "metadata": {},
   "outputs": [],
   "source": [
    "import pandas as pd\n",
    "import random"
   ]
  },
  {
   "cell_type": "code",
   "execution_count": 24,
   "id": "42cc1b07-4420-4f3e-a0e9-1039cd201901",
   "metadata": {},
   "outputs": [],
   "source": [
    "papersDF = pd.read_csv('data/papers.csv')\n",
    "conferencesDF = pd.read_csv('data/conferences.csv')\n",
    "journalsDF = pd.read_csv('data/journals.csv')\n",
    "authorsDF = pd.read_csv('data/authors.csv')\n",
    "fieldsOfStudyDF = pd.read_csv('data/fieldsOfStudy.csv')"
   ]
  }
 ],
 "metadata": {
  "kernelspec": {
   "display_name": "Python 3 (ipykernel)",
   "language": "python",
   "name": "python3"
  },
  "language_info": {
   "codemirror_mode": {
    "name": "ipython",
    "version": 3
   },
   "file_extension": ".py",
   "mimetype": "text/x-python",
   "name": "python",
   "nbconvert_exporter": "python",
   "pygments_lexer": "ipython3",
   "version": "3.9.6"
  }
 },
 "nbformat": 4,
 "nbformat_minor": 5
}
